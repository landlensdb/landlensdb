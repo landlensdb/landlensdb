{
 "cells": [
  {
   "cell_type": "markdown",
   "metadata": {},
   "source": [
    "# Tutorial 1: Multi-threaded Image Downloading\n",
    "\n",
    "This notebook demonstrates how to use `landlens_db`'s multi-threaded downloading capabilities to efficiently download Mapillary images."
   ]
  },
  {
   "cell_type": "markdown",
   "metadata": {},
   "source": [
    "## Prerequisites\n",
    "\n",
    "You'll need the same prerequisites as Tutorial 1, including:\n",
    "- A Mapillary API token\n",
    "- The .env file with MLY_TOKEN and DOWNLOAD_DIR defined\n",
    "- landlens_db installed"
   ]
  },
  {
   "cell_type": "markdown",
   "metadata": {},
   "source": [
    "## Setup\n",
    "\n",
    "First, let's import the necessary modules and load environment variables:"
   ]
  },
  {
   "cell_type": "code",
   "execution_count": 11,
   "metadata": {},
   "outputs": [],
   "source": [
    "from landlens_db.handlers.cloud import Mapillary\n",
    "from landlens_db.geoclasses.geoimageframe import GeoImageFrame\n",
    "from dotenv import load_dotenv\n",
    "import os\n",
    "import time\n",
    "\n",
    "load_dotenv()\n",
    "\n",
    "MLY_TOKEN = os.environ.get(\"MLY_TOKEN\")\n",
    "DOWNLOAD_DIR = os.environ.get(\"DOWNLOAD_DIR\")\n",
    "\n",
    "# Create download directory if it doesn't exist\n",
    "os.makedirs(DOWNLOAD_DIR, exist_ok=True)"
   ]
  },
  {
   "cell_type": "markdown",
   "metadata": {},
   "source": [
    "## Fetching Images with Multi-threading\n",
    "\n",
    "The `download_images_to_local` method supports multi-threaded downloads through its `max_workers` parameter. Let's fetch a small sample of images first:"
   ]
  },
  {
   "cell_type": "code",
   "execution_count": null,
   "metadata": {},
   "outputs": [],
   "source": [
    "# Initialize Mapillary connection\n",
    "importer = Mapillary(MLY_TOKEN)\n",
    "\n",
    "# Fetch a small sample of images from Shibuya area\n",
    "bbox = [139.699, 35.658, 139.7, 35.659]  # Small area in Shibuya\n",
    "fields = ['id', 'captured_at', 'compass_angle', 'thumb_1024_url', 'geometry']\n",
    "\n",
    "# Fetch images and create GeoImageFrame\n",
    "gdf = importer.fetch_within_bbox(\n",
    "    bbox,\n",
    "    fields=fields,\n",
    "    max_images=50  # Limit to 50 images for this tutorial\n",
    ")\n",
    "\n",
    "# Convert to GeoImageFrame\n",
    "images = GeoImageFrame(gdf)\n",
    "\n",
    "print(f\"Found {len(images)} images\")\n",
    "print(\"\\nSample of names that will be used for filenames:\")\n",
    "print(images['name'].head())"
   ]
  },
  {
   "cell_type": "markdown",
   "metadata": {},
   "source": [
    "### Single-threaded vs Multi-threaded Download\n",
    "\n",
    "Let's compare download speeds with different numbers of worker threads. Based on testing, multi-threading provides significant speedups:\n",
    "\n",
    "- Single thread: ~1 image/second (baseline)\n",
    "- 5 workers: ~42 images/second (38x faster)\n",
    "- 10 workers: ~74 images/second (67x faster)"
   ]
  },
  {
   "cell_type": "code",
   "execution_count": null,
   "metadata": {},
   "outputs": [],
   "source": [
    "# Test with different numbers of workers\n",
    "for workers in [1, 5, 10]:\n",
    "    start_time = time.time()\n",
    "\n",
    "    # Download images using name column for filenames\n",
    "    local_images = images.download_images_to_local(\n",
    "        DOWNLOAD_DIR,\n",
    "        filename_column='name',  # This uses the mly|{id} format\n",
    "        max_workers=workers\n",
    "    )\n",
    "\n",
    "    duration = time.time() - start_time\n",
    "    print(f\"\\nResults with {workers} worker{'s' if workers > 1 else ''}:\")\n",
    "    print(f\"Time taken: {duration:.2f} seconds\")\n",
    "    print(f\"Speed: {len(images)/duration:.2f} images/second\")\n",
    "\n",
    "    # Show sample of downloaded files\n",
    "    print(\"\\nSample of downloaded files:\")\n",
    "    for file in sorted(os.listdir(DOWNLOAD_DIR))[:3]:\n",
    "        print(f\"- {file}\")"
   ]
  },
  {
   "cell_type": "markdown",
   "metadata": {},
   "source": [
    "### Important Notes About Multi-threaded Downloads\n",
    "\n",
    "1. **Number of Workers**: \n",
    "   - Default is 10 workers (optimal for most cases)\n",
    "   - Testing shows near-linear scaling up to 10 workers\n",
    "   - 67x speedup with 10 workers vs single thread\n",
    "\n",
    "2. **Error Handling**:\n",
    "   - Built-in retry mechanism (3 attempts per image)\n",
    "   - 1-second delay between retries\n",
    "   - Failed downloads are logged but don't stop the process\n",
    "\n",
    "3. **Progress Tracking**:\n",
    "   - Progress bar shows overall download progress\n",
    "   - Shows current download speed\n",
    "   - Indicates any failed downloads\n",
    "\n",
    "4. **Filename Handling**:\n",
    "   - Uses 'name' column for filenames (format: mly|{id})\n",
    "   - Results in clean filenames like 'mly_123456789.jpg'\n",
    "   - Prevents issues with long URLs as filenames"
   ]
  },
  {
   "cell_type": "markdown",
   "metadata": {},
   "source": [
    "### Example Usage"
   ]
  },
  {
   "cell_type": "code",
   "execution_count": null,
   "metadata": {},
   "outputs": [],
   "source": [
    "# Default usage (10 workers for optimal performance)\n",
    "local_images = images.download_images_to_local(\n",
    "    DOWNLOAD_DIR,\n",
    "    filename_column='name'  # Use name column for proper filenames\n",
    ")\n",
    "\n",
    "# With custom settings\n",
    "local_images = images.download_images_to_local(\n",
    "    DOWNLOAD_DIR,\n",
    "    filename_column='name',\n",
    "    max_workers=15  # Adjust workers based on your system\n",
    ")"
   ]
  },
  {
   "cell_type": "markdown",
   "metadata": {},
   "source": [
    "### Best Practices\n",
    "\n",
    "1. **Choose Worker Count Wisely**:\n",
    "   - Start with 10 workers (provides optimal performance)\n",
    "   - Near-linear scaling up to 10 workers observed\n",
    "   - Consider your network bandwidth and system resources\n",
    "\n",
    "2. **Manage Download Directory**:\n",
    "   - Use a dedicated directory for downloads\n",
    "   - Directory is created automatically if it doesn't exist\n",
    "   - Files are named using Mapillary ID format (mly_123456789.jpg)\n",
    "\n",
    "3. **Monitor Performance**:\n",
    "   - Watch the progress bar for download speed\n",
    "   - Check for failed downloads in the output\n",
    "   - Adjust workers if needed based on performance"
   ]
  },
  {
   "cell_type": "markdown",
   "metadata": {},
   "source": [
    "## Example: Processing Larger Areas\n",
    "\n",
    "When working with larger areas, make sure to use the max_images parameter to control the number of downloads:"
   ]
  },
  {
   "cell_type": "code",
   "execution_count": null,
   "metadata": {},
   "outputs": [],
   "source": [
    "# Larger area in Shibuya\n",
    "large_bbox = [139.69, 35.65, 139.71, 35.67]\n",
    "\n",
    "# Limit to 100 images\n",
    "gdf = importer.fetch_within_bbox(\n",
    "    large_bbox,\n",
    "    fields=fields,\n",
    "    max_images=100  # Limit number of images\n",
    ")\n",
    "\n",
    "# Convert to GeoImageFrame\n",
    "images = GeoImageFrame(gdf)\n",
    "\n",
    "print(f\"Found {len(images)} images\")\n",
    "\n",
    "# Download with optimal worker count\n",
    "local_images = images.download_images_to_local(\n",
    "    DOWNLOAD_DIR,\n",
    "    filename_column='name',  # Use proper filename format\n",
    "    max_workers=10  # Use optimal worker count from testing\n",
    ")"
   ]
  }
 ],
 "metadata": {
  "kernelspec": {
   "display_name": "Python 3",
   "language": "python",
   "name": "python3"
  },
  "language_info": {
   "codemirror_mode": {
    "name": "ipython",
    "version": 3
   },
   "file_extension": ".py",
   "mimetype": "text/x-python",
   "name": "python",
   "nbconvert_exporter": "python",
   "pygments_lexer": "ipython3",
   "version": "3.8.0"
  }
 },
 "nbformat": 4,
 "nbformat_minor": 4
}
