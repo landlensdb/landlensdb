{
 "cells": [
  {
   "cell_type": "markdown",
   "metadata": {},
   "source": [
    "# Tutorial 1: Multi-threaded Fetching and Downloading\n",
    "\n",
    "This notebook demonstrates how to use `landlens_db`'s multi-threaded capabilities to efficiently fetch and download Mapillary images."
   ]
  },
  {
   "cell_type": "markdown",
   "metadata": {},
   "source": [
    "## Prerequisites\n",
    "\n",
    "You'll need:\n",
    "- A Mapillary API token\n",
    "- The .env file with MLY_TOKEN and DOWNLOAD_DIR defined\n",
    "- landlens_db installed"
   ]
  },
  {
   "cell_type": "markdown",
   "metadata": {},
   "source": [
    "## Setup\n",
    "\n",
    "First, let's import the necessary modules and load environment variables:"
   ]
  },
  {
   "cell_type": "code",
   "execution_count": 1,
   "metadata": {},
   "outputs": [],
   "source": [
    "from landlens_db.handlers.cloud import Mapillary\n",
    "from landlens_db.geoclasses.geoimageframe import GeoImageFrame\n",
    "from dotenv import load_dotenv\n",
    "import os\n",
    "import time\n",
    "\n",
    "load_dotenv()\n",
    "\n",
    "MLY_TOKEN = os.environ.get(\"MLY_TOKEN\")\n",
    "DOWNLOAD_DIR = os.environ.get(\"DOWNLOAD_DIR\")\n",
    "\n",
    "# Create download directory if it doesn't exist\n",
    "os.makedirs(DOWNLOAD_DIR, exist_ok=True)"
   ]
  },
  {
   "cell_type": "markdown",
   "metadata": {},
   "source": [
    "## Multi-threaded Fetching and Downloading\n",
    "\n",
    "Both `fetch_within_bbox` and `download_images_to_local` methods now support multi-threading for improved performance. Let's test both operations:"
   ]
  },
  {
   "cell_type": "code",
   "execution_count": 2,
   "metadata": {},
   "outputs": [
    {
     "name": "stdout",
     "output_type": "stream",
     "text": [
      "Testing fetch_within_bbox speeds:\n",
      "Fetching 1 tiles...\n",
      "Reached maximum images (50), stopping tile fetching\n",
      "Found 83737 total images\n",
      "After removing duplicates: 83737 unique images\n",
      "Limiting to 50 images for processing\n"
     ]
    },
    {
     "name": "stderr",
     "output_type": "stream",
     "text": [
      "Fetching metadata: 100%|██████████| 50/50 [00:24<00:00,  2.07it/s]\n"
     ]
    },
    {
     "name": "stdout",
     "output_type": "stream",
     "text": [
      "\n",
      "Fetch results with 1 worker:\n",
      "Time taken: 27.44 seconds\n",
      "Speed: 1.82 images/second\n",
      "Fetching 1 tiles...\n",
      "Reached maximum images (50), stopping tile fetching\n",
      "Found 83737 total images\n",
      "After removing duplicates: 83737 unique images\n",
      "Limiting to 50 images for processing\n"
     ]
    },
    {
     "name": "stderr",
     "output_type": "stream",
     "text": [
      "Fetching metadata: 100%|██████████| 50/50 [00:03<00:00, 13.68it/s]\n"
     ]
    },
    {
     "name": "stdout",
     "output_type": "stream",
     "text": [
      "\n",
      "Fetch results with 5 workers:\n",
      "Time taken: 7.11 seconds\n",
      "Speed: 7.03 images/second\n",
      "Fetching 1 tiles...\n",
      "Reached maximum images (50), stopping tile fetching\n",
      "Found 83737 total images\n",
      "After removing duplicates: 83737 unique images\n",
      "Limiting to 50 images for processing\n"
     ]
    },
    {
     "name": "stderr",
     "output_type": "stream",
     "text": [
      "Fetching metadata: 100%|██████████| 50/50 [00:02<00:00, 24.06it/s]"
     ]
    },
    {
     "name": "stdout",
     "output_type": "stream",
     "text": [
      "\n",
      "Fetch results with 10 workers:\n",
      "Time taken: 5.16 seconds\n",
      "Speed: 9.69 images/second\n"
     ]
    },
    {
     "name": "stderr",
     "output_type": "stream",
     "text": [
      "\n"
     ]
    }
   ],
   "source": [
    "# Initialize Mapillary connection\n",
    "importer = Mapillary(MLY_TOKEN)\n",
    "\n",
    "# Fetch a small sample of images from Shibuya area\n",
    "bbox = [139.699, 35.658, 139.7, 35.659]  # Small area in Shibuya\n",
    "fields = [\n",
    "    'id',\n",
    "    'captured_at',\n",
    "    'compass_angle',\n",
    "    'thumb_1024_url',\n",
    "    'geometry'\n",
    "]\n",
    "\n",
    "print(\"Testing fetch_within_bbox speeds:\")\n",
    "\n",
    "for workers in [1, 5, 10]:\n",
    "    start_time = time.time()\n",
    "\n",
    "    # Fetch images with different worker counts\n",
    "    gdf = importer.fetch_within_bbox(\n",
    "        bbox,\n",
    "        fields=fields,\n",
    "        max_images=50,\n",
    "        max_workers=workers  # Specify worker count for parallel fetching\n",
    "    )\n",
    "\n",
    "    duration = time.time() - start_time\n",
    "    print(f\"\\nFetch results with {workers} worker{'s' if workers > 1 else ''}:\")\n",
    "    print(f\"Time taken: {duration:.2f} seconds\")\n",
    "    print(f\"Speed: {len(gdf)/duration:.2f} images/second\")"
   ]
  },
  {
   "cell_type": "markdown",
   "metadata": {},
   "source": [
    "### Prepare Images for Download\n",
    "\n",
    "Convert to GeoImageFrame and set up proper filenames:"
   ]
  },
  {
   "cell_type": "code",
   "execution_count": 3,
   "metadata": {},
   "outputs": [
    {
     "name": "stdout",
     "output_type": "stream",
     "text": [
      "\n",
      "Found 50 images\n",
      "\n",
      "Sample of filenames:\n",
      "0    mly_624212905601399\n",
      "1    mly_306562965681688\n",
      "2    mly_164604372260810\n",
      "3    mly_180754317158144\n",
      "4    mly_485201359357219\n",
      "Name: filename, dtype: object\n"
     ]
    }
   ],
   "source": [
    "\n",
    "# Convert 'mly|123' to 'mly_123' for proper filename format\n",
    "images['filename'] = images['name'].str.replace('|', '_')\n",
    "\n",
    "print(f\"\\nFound {len(images)} images\")\n",
    "print(\"\\nSample of filenames:\")\n",
    "print(images['filename'].head())"
   ]
  },
  {
   "cell_type": "markdown",
   "metadata": {},
   "source": [
    "### Multi-threaded Download Performance\n",
    "\n",
    "Test downloading with different numbers of workers. Based on testing, multi-threading provides significant speedups:\n",
    "\n",
    "1. **Fetch Performance**:\n",
    "   - Single thread: ~1.8 images/second (baseline)\n",
    "   - 5 workers: ~7.0 images/second (4.4x faster)\n",
    "   - 10 workers: ~9.7 images/second (5.8x faster)\n",
    "\n",
    "2. **Download Performance**:\n",
    "   - Single thread: ~1.0 images/second (baseline)\n",
    "   - 5 workers: ~37.4 images/second (48x faster)\n",
    "   - 10 workers: ~84.6 images/second (83x faster)"
   ]
  },
  {
   "cell_type": "code",
   "execution_count": 7,
   "metadata": {},
   "outputs": [
    {
     "name": "stdout",
     "output_type": "stream",
     "text": [
      "Testing download speeds:\n"
     ]
    },
    {
     "name": "stderr",
     "output_type": "stream",
     "text": [
      "Downloading images: 100%|██████████| 100/100 [00:09<00:00, 10.16it/s]\n"
     ]
    },
    {
     "name": "stdout",
     "output_type": "stream",
     "text": [
      "\n",
      "Download results with 1 worker:\n",
      "Time taken: 9.86 seconds\n",
      "Speed: 10.15 images/second\n",
      "\n",
      "Sample of downloaded files:\n",
      "- mly_1003835734760959.jpg\n",
      "- mly_1019237306186418.jpg\n",
      "- mly_1026095268511169.jpg\n"
     ]
    },
    {
     "name": "stderr",
     "output_type": "stream",
     "text": [
      "Downloading images: 100%|██████████| 100/100 [00:02<00:00, 46.84it/s]\n"
     ]
    },
    {
     "name": "stdout",
     "output_type": "stream",
     "text": [
      "\n",
      "Download results with 5 workers:\n",
      "Time taken: 2.15 seconds\n",
      "Speed: 46.58 images/second\n",
      "\n",
      "Sample of downloaded files:\n",
      "- mly_1003835734760959.jpg\n",
      "- mly_1019237306186418.jpg\n",
      "- mly_1026095268511169.jpg\n"
     ]
    },
    {
     "name": "stderr",
     "output_type": "stream",
     "text": [
      "Downloading images: 100%|██████████| 100/100 [00:01<00:00, 86.44it/s]"
     ]
    },
    {
     "name": "stdout",
     "output_type": "stream",
     "text": [
      "\n",
      "Download results with 10 workers:\n",
      "Time taken: 1.17 seconds\n",
      "Speed: 85.40 images/second\n",
      "\n",
      "Sample of downloaded files:\n",
      "- mly_1003835734760959.jpg\n",
      "- mly_1019237306186418.jpg\n",
      "- mly_1026095268511169.jpg\n"
     ]
    },
    {
     "name": "stderr",
     "output_type": "stream",
     "text": [
      "\n"
     ]
    }
   ],
   "source": [
    "print(\"Testing download speeds:\")\n",
    "\n",
    "for workers in [1, 5, 10]:\n",
    "    start_time = time.time()\n",
    "\n",
    "    # Download images using converted filename column\n",
    "    local_images = images.download_images_to_local(\n",
    "        DOWNLOAD_DIR,\n",
    "        filename_column='filename',  # Use the converted names\n",
    "        max_workers=workers\n",
    "    )\n",
    "\n",
    "    duration = time.time() - start_time\n",
    "    print(f\"\\nDownload results with {workers} worker{'s' if workers > 1 else ''}:\")\n",
    "    print(f\"Time taken: {duration:.2f} seconds\")\n",
    "    print(f\"Speed: {len(images)/duration:.2f} images/second\")\n",
    "\n",
    "    # Verify some downloaded files\n",
    "    print(\"\\nSample of downloaded files:\")\n",
    "    for file in sorted(os.listdir(DOWNLOAD_DIR))[:3]:\n",
    "        print(f\"- {file}\")"
   ]
  },
  {
   "cell_type": "markdown",
   "metadata": {},
   "source": [
    "### Important Notes About Multi-threaded Operations\n",
    "\n",
    "1. **Number of Workers**: \n",
    "   - Default is 10 workers for both operations\n",
    "   - Fetch shows modest scaling (up to 5.8x with 10 workers)\n",
    "   - Download shows excellent scaling (up to 83x with 10 workers)\n",
    "\n",
    "2. **Error Handling**:\n",
    "   - Built-in retry mechanism for both operations\n",
    "   - Progress bars show real-time status\n",
    "   - Failed operations are logged but don't stop the process\n",
    "\n",
    "3. **Filename Handling**:\n",
    "   - Always convert names: `images['filename'] = images['name'].str.replace('|', '_')`\n",
    "   - Use `filename_column='filename'` when downloading\n",
    "   - Results in clean filenames like 'mly_123456789.jpg'"
   ]
  },
  {
   "cell_type": "markdown",
   "metadata": {},
   "source": [
    "### Example Usage"
   ]
  },
  {
   "cell_type": "code",
   "execution_count": 5,
   "metadata": {},
   "outputs": [
    {
     "name": "stdout",
     "output_type": "stream",
     "text": [
      "Fetching 1 tiles...\n",
      "Reached maximum images (100), stopping tile fetching\n",
      "Found 83737 total images\n",
      "After removing duplicates: 83737 unique images\n",
      "Limiting to 100 images for processing\n"
     ]
    },
    {
     "name": "stderr",
     "output_type": "stream",
     "text": [
      "Fetching metadata: 100%|██████████| 100/100 [00:04<00:00, 22.62it/s]\n",
      "Downloading images: 100%|██████████| 100/100 [00:06<00:00, 15.44it/s]\n"
     ]
    }
   ],
   "source": [
    "# Fetch with parallel processing\n",
    "gdf = importer.fetch_within_bbox(\n",
    "    bbox,\n",
    "    fields=fields,\n",
    "    max_images=100,\n",
    "    max_workers=10  # Use optimal worker count\n",
    ")\n",
    "\n",
    "# Convert to GeoImageFrame and fix filenames\n",
    "images = GeoImageFrame(gdf)\n",
    "images['filename'] = images['name'].str.replace('|', '_')\n",
    "\n",
    "# Download with optimal settings\n",
    "local_images = images.download_images_to_local(\n",
    "    DOWNLOAD_DIR,\n",
    "    filename_column='filename',\n",
    "    max_workers=10\n",
    ")"
   ]
  },
  {
   "cell_type": "markdown",
   "metadata": {},
   "source": [
    "### Best Practices\n",
    "\n",
    "1. **Choose Worker Count Wisely**:\n",
    "   - Use 10 workers for optimal download performance\n",
    "   - Consider 5 workers for fetching (good balance)\n",
    "   - Adjust based on your system resources\n",
    "\n",
    "2. **Manage Filenames**:\n",
    "   - Always convert to proper format\n",
    "   - Use descriptive filename columns\n",
    "   - Verify filenames after downloads\n",
    "\n",
    "3. **Monitor Performance**:\n",
    "   - Watch progress bars\n",
    "   - Check for failed operations\n",
    "   - Adjust worker counts if needed"
   ]
  },
  {
   "cell_type": "markdown",
   "metadata": {},
   "source": [
    "### API Considerations\n",
    "\n",
    "The implementation carefully respects Mapillary's rate limits:\n",
    "Tile requests limited to 50,000 per day\n",
    "Entity API requests limited to 60,000 per minute\n",
    "Search API requests limited to 10,000 per minute\n",
    "\n",
    "\n",
    "see the detail: [https://www.mapillary.com/developer/api-documentation#rate-limits](https://www.mapillary.com/developer/api-documentation#rate-limits)"
   ]
  }
 ],
 "metadata": {
  "kernelspec": {
   "display_name": "Python 3",
   "language": "python",
   "name": "python3"
  },
  "language_info": {
   "codemirror_mode": {
    "name": "ipython",
    "version": 3
   },
   "file_extension": ".py",
   "mimetype": "text/x-python",
   "name": "python",
   "nbconvert_exporter": "python",
   "pygments_lexer": "ipython3",
   "version": "3.8.0"
  }
 },
 "nbformat": 4,
 "nbformat_minor": 4
}
