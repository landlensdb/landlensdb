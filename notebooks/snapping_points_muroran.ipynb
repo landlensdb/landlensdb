{
 "cells": [
  {
   "cell_type": "markdown",
   "metadata": {},
   "source": [
    "# Snapping Points to Road Networks\n",
    "\n",
    "This notebook provides several examples on how points can be snapped to road networks. It is possible to snap mapillary points to either open street map segments, or any user supplied network topology. If a user-supplied topology is given, then it must be in the form of a geopandas dataframe with a `LineString` geometry column."
   ]
  },
  {
   "cell_type": "code",
   "execution_count": 4,
   "metadata": {},
   "outputs": [],
   "source": [
    "# note, to load the local module, it might be necessary to add the repository directory to the sys path:\n",
    "import os\n",
    "import sys\n",
    "sys.path.insert(0, os.path.abspath(\"..\"))"
   ]
  },
  {
   "cell_type": "code",
   "execution_count": 5,
   "metadata": {
    "pycharm": {
     "is_executing": true
    }
   },
   "outputs": [],
   "source": [
    "from src.controller import MapillaryImage\n",
    "from src.utils import DataUtils\n",
    "from src.visualizer import Visualize"
   ]
  },
  {
   "cell_type": "markdown",
   "metadata": {},
   "source": [
    "After loading the necessary libraries for these examples, we will set the following required environmental variables. Please replace the values within `<>` with the appropriate values."
   ]
  },
  {
   "cell_type": "code",
   "execution_count": 1,
   "metadata": {},
   "outputs": [
    {
     "name": "stdout",
     "output_type": "stream",
     "text": [
      "env: DATABASE_URL=<DATABASE_URL>\n",
      "env: SERVICE_ACCOUNT_PRIVATE_KEY=<PATH_TO_PRIVATE_KEY>\n"
     ]
    }
   ],
   "source": [
    "%env DATABASE_URL=<DATABASE_URL>\n",
    "%env SERVICE_ACCOUNT_PRIVATE_KEY=<PATH_TO_PRIVATE_KEY>"
   ]
  },
  {
   "cell_type": "markdown",
   "metadata": {},
   "source": [
    "## Creating and Saving Snapped Geometries\n",
    "\n",
    "First, we will create snapped geometries and save these records to the database. The first step is to initialize the `MappilaryImage` class. This will open the connection to the database. Then, we can query some data to work with. In the following examples, we will query by image ID."
   ]
  },
  {
   "cell_type": "code",
   "execution_count": 4,
   "metadata": {},
   "outputs": [],
   "source": [
    "imgs = MapillaryImage()\n",
    "gdf = imgs.select_by_image_id(804124637170637)"
   ]
  },
  {
   "cell_type": "markdown",
   "metadata": {},
   "source": [
    "We can map this using the `Visualize` class:"
   ]
  },
  {
   "cell_type": "code",
   "execution_count": null,
   "metadata": {},
   "outputs": [],
   "source": [
    "vis = Visualize(gdf)\n",
    "vis.map()"
   ]
  },
  {
   "cell_type": "markdown",
   "metadata": {},
   "source": [
    "The `DataUtils` class provides functions to snap points to road networks using either OSM or a user-supplied network topology. These functions also provide options to write these points to the database and how to handle conflicts. Thus, to snap points, we need to initialize the `DataUtils` class with the data that we want to snap:"
   ]
  },
  {
   "cell_type": "code",
   "execution_count": null,
   "metadata": {},
   "outputs": [],
   "source": [
    "dutil = DataUtils(gdf)"
   ]
  },
  {
   "cell_type": "markdown",
   "metadata": {},
   "source": [
    "### Snapping to an OSM Network\n",
    "\n",
    "To snap to an OSM network, we only need to call the `snap_to_road_network` function and set `use_osm=True`."
   ]
  },
  {
   "cell_type": "code",
   "execution_count": null,
   "metadata": {},
   "outputs": [],
   "source": [
    "gdf_osm = dutil.snap_to_road_network(100, gdf, update_db=False, use_osm=True)"
   ]
  },
  {
   "cell_type": "markdown",
   "metadata": {},
   "source": [
    "This will snap the point to the nearest OSM road within 100m. By default, when snapping to OSM, it will incluse all network types (roads, paths, etc), including private ones.\n",
    "\n",
    "The returned geodataframe only includes the related image_id, a flag to record if OSM was used, and the geometry. To visualize this, we will need to merge this data with the original dataframe. We can also map both the snapped geometry and the original geometry using the `additional_geometries` parameter od the `map` function."
   ]
  },
  {
   "cell_type": "code",
   "execution_count": null,
   "metadata": {
    "scrolled": false
   },
   "outputs": [],
   "source": [
    "merged = gdf[['id', 'seq', 'camera_type', 'image_url', 'geometry']].merge(gdf_osm.rename({'image_id': 'id', 'geometry': 'osm_geometry'}, axis=1), left_on='id', right_on='id', how='right')\n",
    "\n",
    "vis = Visualize(merged)\n",
    "vis.map(additional_geometries=['osm_geometry'])"
   ]
  },
  {
   "cell_type": "markdown",
   "metadata": {},
   "source": [
    "### Snapping to a Provided Network\n",
    "\n",
    "To snap the mapillary points to a user-supplied network, we first need to create a geodataframe that includes these gemoetries. The following reads all shapefiles in a given directory. Then, we can snap to the road network as above and visualize and compare with the osm snapped results."
   ]
  },
  {
   "cell_type": "code",
   "execution_count": 5,
   "metadata": {},
   "outputs": [],
   "source": [
    "import geopandas as gp\n",
    "import os\n",
    "\n",
    "roads = None\n",
    "shp_dir = \"/Users/iosefa/downloads/roads/\"\n",
    "for file in os.listdir(shp_dir):\n",
    "    if file.endswith(\".shp\"):\n",
    "        tmp = gp.read_file(os.path.join(shp_dir, file)).to_crs('EPSG:4326')\n",
    "        roads = gp.pd.concat([roads, tmp])"
   ]
  },
  {
   "cell_type": "code",
   "execution_count": null,
   "metadata": {},
   "outputs": [],
   "source": [
    "gdf_snapped = dutil.snap_to_road_network(100, gdf, update_db=False, use_osm=False, network=roads)\n",
    "merged = gdf[['id', 'seq', 'camera_type', 'image_url', 'geometry']].merge(gdf_snapped.rename({'image_id': 'id', 'geometry': 'snapped_geometry'}, axis=1), left_on='id', right_on='id', how='right').merge(gdf_osm.rename({'image_id': 'id', 'geometry': 'osm_geometry'}, axis=1), left_on='id', right_on='id', how='right')\n",
    "\n",
    "vis = Visualize(merged)\n",
    "vis.map(additional_geometries=['snapped_geometry', 'osm_geometry'])"
   ]
  },
  {
   "cell_type": "markdown",
   "metadata": {},
   "source": [
    "### test snapping one sequence images"
   ]
  },
  {
   "cell_type": "code",
   "execution_count": null,
   "metadata": {},
   "outputs": [],
   "source": [
    "sequence_ids = imgs.get_sequence_ids()\n",
    "df = imgs.select_by_sequence_id(sequence_ids[0])"
   ]
  },
  {
   "cell_type": "code",
   "execution_count": null,
   "metadata": {},
   "outputs": [],
   "source": [
    "df_snapped = dutil.snap_to_road_network(10, df, update_db=False, use_osm=False, network=roads)\n",
    "merged = df[['id', 'seq', 'camera_type', 'image_url', 'geometry']].merge(df_snapped.rename({'image_id': 'id', 'geometry': 'snapped_geometry'}, axis=1), left_on='id', right_on='id', how='right')\n",
    "\n",
    "vis = Visualize(merged)\n",
    "vis.map(additional_geometries=['geometry','snapped_geometry'])"
   ]
  },
  {
   "cell_type": "markdown",
   "metadata": {},
   "source": [
    "### Saving and Loading Snapped Geometries to the Database\n",
    "\n",
    "When creating a snapped dataframe, it is also possible to save the resulting geometries to the database, which can then be queried later without the need to re-snap the geometries. Setting the `update_db` parameter to `True` will safe the resulting dataframe to the database and setting `update_conflicting=True` will tell the function to overwrite any existing snapped image_id geometries. This may be useful when changing the snapped to geometry to use a user supplied road network instead of OSM, for example."
   ]
  },
  {
   "cell_type": "code",
   "execution_count": null,
   "metadata": {},
   "outputs": [],
   "source": [
    "dutil.snap_to_road_network(100, gdf, update_db=True, use_osm=True, update_conflicting=True)"
   ]
  },
  {
   "cell_type": "markdown",
   "metadata": {},
   "source": [
    "When we query data, we can choose to include snapped geometries in the returned table using the `include_snapped` parameter:"
   ]
  },
  {
   "cell_type": "code",
   "execution_count": null,
   "metadata": {},
   "outputs": [],
   "source": [
    "imgs.select_by_image_id(804124637170637, include_snapped=True)"
   ]
  },
  {
   "cell_type": "markdown",
   "metadata": {},
   "source": [
    "Now, should we decide to use our own road network and update the database with it, we would:"
   ]
  },
  {
   "cell_type": "code",
   "execution_count": null,
   "metadata": {},
   "outputs": [],
   "source": [
    "dutil.snap_to_road_network(100, gdf, update_db=True, use_osm=False, network=roads, update_conflicting=True)"
   ]
  },
  {
   "cell_type": "markdown",
   "metadata": {},
   "source": [
    "Querying the database, we can see that the snapped geometry was updated and we can visualize all three geometries: default, computed, and snapped:"
   ]
  },
  {
   "cell_type": "code",
   "execution_count": null,
   "metadata": {},
   "outputs": [],
   "source": [
    "gdf = imgs.select_by_image_id(804124637170637, include_snapped=True)\n",
    "vis = Visualize(gdf)\n",
    "vis.map(additional_geometries=['geometry', 'computed_geometry', 'snapped_geometry'])"
   ]
  },
  {
   "cell_type": "markdown",
   "metadata": {},
   "source": [
    "# RUN snapping to all data! "
   ]
  },
  {
   "cell_type": "code",
   "execution_count": 7,
   "metadata": {},
   "outputs": [
    {
     "name": "stdout",
     "output_type": "stream",
     "text": [
      "QixEq2SLkvCkPo96qfTjlQ        \n",
      "5kdx1SQbc6_3KzjJCdJDPg        \n"
     ]
    },
    {
     "ename": "AttributeError",
     "evalue": "'NoneType' object has no attribute 'wkt'",
     "output_type": "error",
     "traceback": [
      "\u001B[0;31m---------------------------------------------------------------------------\u001B[0m",
      "\u001B[0;31mAttributeError\u001B[0m                            Traceback (most recent call last)",
      "Cell \u001B[0;32mIn[7], line 8\u001B[0m\n\u001B[1;32m      6\u001B[0m     dutil \u001B[38;5;241m=\u001B[39m DataUtils(df)\n\u001B[1;32m      7\u001B[0m \u001B[38;5;66;03m#     df_snapped = dutil.snap_to_road_network(10, df, update_db=False, use_osm=False, network=roads, update_conflicting=False)\u001B[39;00m\n\u001B[0;32m----> 8\u001B[0m     df_snapped \u001B[38;5;241m=\u001B[39m \u001B[43mdutil\u001B[49m\u001B[38;5;241;43m.\u001B[39;49m\u001B[43msnap_to_road_network\u001B[49m\u001B[43m(\u001B[49m\u001B[38;5;241;43m10\u001B[39;49m\u001B[43m,\u001B[49m\u001B[43m \u001B[49m\u001B[43mdf\u001B[49m\u001B[43m,\u001B[49m\u001B[43m \u001B[49m\u001B[43mupdate_db\u001B[49m\u001B[38;5;241;43m=\u001B[39;49m\u001B[38;5;28;43;01mTrue\u001B[39;49;00m\u001B[43m,\u001B[49m\u001B[43m \u001B[49m\u001B[43muse_osm\u001B[49m\u001B[38;5;241;43m=\u001B[39;49m\u001B[38;5;28;43;01mFalse\u001B[39;49;00m\u001B[43m,\u001B[49m\u001B[43m \u001B[49m\u001B[43mnetwork\u001B[49m\u001B[38;5;241;43m=\u001B[39;49m\u001B[43mroads\u001B[49m\u001B[43m,\u001B[49m\u001B[43m \u001B[49m\u001B[43mupdate_conflicting\u001B[49m\u001B[38;5;241;43m=\u001B[39;49m\u001B[38;5;28;43;01mTrue\u001B[39;49;00m\u001B[43m)\u001B[49m\n",
      "File \u001B[0;32m~/repos/misc/SU_GCPsystem/src/utils.py:185\u001B[0m, in \u001B[0;36mDataUtils.snap_to_road_network\u001B[0;34m(self, tolerance, subset, use_osm, network_type, update_db, update_conflicting, network)\u001B[0m\n\u001B[1;32m    183\u001B[0m \u001B[38;5;28;01mif\u001B[39;00m update_db:\n\u001B[1;32m    184\u001B[0m     importer \u001B[38;5;241m=\u001B[39m MapillaryImport()\n\u001B[0;32m--> 185\u001B[0m     \u001B[43mimporter\u001B[49m\u001B[38;5;241;43m.\u001B[39;49m\u001B[43mimport_snapped_images\u001B[49m\u001B[43m(\u001B[49m\n\u001B[1;32m    186\u001B[0m \u001B[43m        \u001B[49m\u001B[43mpoints\u001B[49m\u001B[43m,\u001B[49m\u001B[43m \u001B[49m\u001B[43muse_osm\u001B[49m\u001B[43m,\u001B[49m\u001B[43m \u001B[49m\u001B[43mupdate_conflicting\u001B[49m\u001B[38;5;241;43m=\u001B[39;49m\u001B[43mupdate_conflicting\u001B[49m\n\u001B[1;32m    187\u001B[0m \u001B[43m    \u001B[49m\u001B[43m)\u001B[49m\n\u001B[1;32m    189\u001B[0m \u001B[38;5;28;01mreturn\u001B[39;00m points\n",
      "File \u001B[0;32m~/repos/misc/SU_GCPsystem/src/controller.py:761\u001B[0m, in \u001B[0;36mMapillaryImport.import_snapped_images\u001B[0;34m(self, geodataframe, use_osm, update_conflicting)\u001B[0m\n\u001B[1;32m    757\u001B[0m conn \u001B[38;5;241m=\u001B[39m psycopg2\u001B[38;5;241m.\u001B[39mconnect(\u001B[38;5;28mself\u001B[39m\u001B[38;5;241m.\u001B[39mDATABASE_URL)\n\u001B[1;32m    758\u001B[0m cur \u001B[38;5;241m=\u001B[39m conn\u001B[38;5;241m.\u001B[39mcursor()\n\u001B[1;32m    760\u001B[0m values \u001B[38;5;241m=\u001B[39m \u001B[38;5;28mtuple\u001B[39m(\n\u001B[0;32m--> 761\u001B[0m     [(row[\u001B[38;5;241m0\u001B[39m], use_osm, row[\u001B[38;5;241m1\u001B[39m]\u001B[38;5;241m.\u001B[39mwkt) \u001B[38;5;28;01mfor\u001B[39;00m row \u001B[38;5;129;01min\u001B[39;00m geodataframe\u001B[38;5;241m.\u001B[39mvalues\u001B[38;5;241m.\u001B[39mtolist()]\n\u001B[1;32m    762\u001B[0m )\n\u001B[1;32m    763\u001B[0m conn\u001B[38;5;241m.\u001B[39mautocommit \u001B[38;5;241m=\u001B[39m \u001B[38;5;28;01mTrue\u001B[39;00m\n\u001B[1;32m    764\u001B[0m \u001B[38;5;28;01mif\u001B[39;00m update_conflicting:\n",
      "File \u001B[0;32m~/repos/misc/SU_GCPsystem/src/controller.py:761\u001B[0m, in \u001B[0;36m<listcomp>\u001B[0;34m(.0)\u001B[0m\n\u001B[1;32m    757\u001B[0m conn \u001B[38;5;241m=\u001B[39m psycopg2\u001B[38;5;241m.\u001B[39mconnect(\u001B[38;5;28mself\u001B[39m\u001B[38;5;241m.\u001B[39mDATABASE_URL)\n\u001B[1;32m    758\u001B[0m cur \u001B[38;5;241m=\u001B[39m conn\u001B[38;5;241m.\u001B[39mcursor()\n\u001B[1;32m    760\u001B[0m values \u001B[38;5;241m=\u001B[39m \u001B[38;5;28mtuple\u001B[39m(\n\u001B[0;32m--> 761\u001B[0m     [(row[\u001B[38;5;241m0\u001B[39m], use_osm, \u001B[43mrow\u001B[49m\u001B[43m[\u001B[49m\u001B[38;5;241;43m1\u001B[39;49m\u001B[43m]\u001B[49m\u001B[38;5;241;43m.\u001B[39;49m\u001B[43mwkt\u001B[49m) \u001B[38;5;28;01mfor\u001B[39;00m row \u001B[38;5;129;01min\u001B[39;00m geodataframe\u001B[38;5;241m.\u001B[39mvalues\u001B[38;5;241m.\u001B[39mtolist()]\n\u001B[1;32m    762\u001B[0m )\n\u001B[1;32m    763\u001B[0m conn\u001B[38;5;241m.\u001B[39mautocommit \u001B[38;5;241m=\u001B[39m \u001B[38;5;28;01mTrue\u001B[39;00m\n\u001B[1;32m    764\u001B[0m \u001B[38;5;28;01mif\u001B[39;00m update_conflicting:\n",
      "\u001B[0;31mAttributeError\u001B[0m: 'NoneType' object has no attribute 'wkt'"
     ]
    }
   ],
   "source": [
    "sequence_ids = imgs.get_sequence_ids()\n",
    "imgs = MapillaryImage()\n",
    "for i in range(len(sequence_ids)):\n",
    "    print(sequence_ids[i])\n",
    "    df = imgs.select_by_sequence_id(sequence_ids[i])\n",
    "    dutil = DataUtils(df)\n",
    "    df_snapped = dutil.snap_to_road_network(10, df, update_db=True, use_osm=False, network=roads, update_conflicting=True)\n"
   ]
  },
  {
   "cell_type": "code",
   "execution_count": 8,
   "metadata": {},
   "outputs": [],
   "source": [
    "df = imgs.select_by_sequence_id('5kdx1SQbc6_3KzjJCdJDPg')\n",
    "dutil = DataUtils(df)\n",
    "df_snapped = dutil.snap_to_road_network(10, df, update_db=False, use_osm=False, network=roads, update_conflicting=False)\n"
   ]
  },
  {
   "cell_type": "code",
   "execution_count": 15,
   "metadata": {},
   "outputs": [
    {
     "name": "stdout",
     "output_type": "stream",
     "text": [
      "(500, 17)\n",
      "[<POINT (140.985 42.389)>, <POINT (140.985 42.387)>, <POINT (140.986 42.388)>, <POINT (140.984 42.389)>, <POINT (140.985 42.387)>, <POINT (140.984 42.388)>, <POINT (140.986 42.389)>, <POINT (140.987 42.389)>, <POINT (140.986 42.389)>, <POINT (140.984 42.387)>, <POINT (140.985 42.387)>, <POINT (140.986 42.388)>, <POINT (140.984 42.388)>, <POINT (140.984 42.388)>, <POINT (140.984 42.389)>, <POINT (140.986 42.388)>, <POINT (140.984 42.388)>, <POINT (140.985 42.388)>, <POINT (140.986 42.389)>, <POINT (140.984 42.388)>, <POINT (140.984 42.388)>, <POINT (140.984 42.388)>, <POINT (140.986 42.388)>, <POINT (140.985 42.388)>, <POINT (140.985 42.387)>, <POINT (140.985 42.389)>, <POINT (140.984 42.388)>, <POINT (140.984 42.388)>, <POINT (140.985 42.387)>, <POINT (140.986 42.388)>, <POINT (140.984 42.388)>, <POINT (140.985 42.388)>, <POINT (140.984 42.387)>, <POINT (140.985 42.387)>, <POINT (140.985 42.387)>, <POINT (140.986 42.388)>, <POINT (140.985 42.387)>, <POINT (140.986 42.388)>, <POINT (140.985 42.387)>, <POINT (140.984 42.389)>, <POINT (140.984 42.388)>, <POINT (140.984 42.387)>, <POINT (140.985 42.387)>, <POINT (140.965 42.392)>, <POINT (141.007 42.394)>, <POINT (141.007 42.394)>, <POINT (141.011 42.389)>, <POINT (141.007 42.394)>, None, <POINT (141.005 42.394)>, <POINT (141.008 42.394)>, None, None, <POINT (141.01 42.392)>, <POINT (141.007 42.394)>, <POINT (141.007 42.394)>, None, <POINT (141.006 42.394)>, <POINT (141.01 42.393)>, <POINT (141.009 42.393)>, <POINT (141.009 42.393)>, <POINT (141.011 42.391)>, <POINT (141.009 42.393)>, <POINT (141.009 42.393)>, <POINT (141.005 42.394)>, <POINT (141.005 42.394)>, <POINT (141.011 42.391)>, <POINT (141.011 42.39)>, None, <POINT (141.01 42.393)>, <POINT (141.011 42.39)>, <POINT (141.011 42.39)>, None, None, <POINT (141.009 42.393)>, <POINT (141.011 42.39)>, None, <POINT (141.008 42.394)>, <POINT (141.011 42.39)>, <POINT (141.01 42.392)>, <POINT (141.006 42.394)>, <POINT (141.005 42.394)>, <POINT (141.009 42.393)>, <POINT (141.006 42.394)>, <POINT (141.008 42.394)>, <POINT (141.011 42.389)>, <POINT (141.005 42.394)>, <POINT (141.008 42.394)>, <POINT (141.008 42.394)>, <POINT (141.01 42.392)>, None, <POINT (141.011 42.39)>, None, <POINT (141.011 42.389)>, None, <POINT (141.009 42.393)>, <POINT (141.008 42.394)>, <POINT (141.006 42.394)>, <POINT (141.007 42.394)>, <POINT (141.006 42.394)>, <POINT (141.011 42.39)>, <POINT (141.01 42.393)>, <POINT (141.008 42.394)>, <POINT (141.01 42.391)>, <POINT (141.011 42.391)>, <POINT (141.011 42.39)>, <POINT (141.006 42.394)>, None, <POINT (141.011 42.39)>, <POINT (141.011 42.39)>, <POINT (141.009 42.393)>, <POINT (140.969 42.393)>, <POINT (140.965 42.392)>, <POINT (140.972 42.394)>, <POINT (140.97 42.393)>, <POINT (140.971 42.394)>, <POINT (140.98 42.393)>, <POINT (140.974 42.393)>, <POINT (140.97 42.393)>, <POINT (140.966 42.391)>, <POINT (140.972 42.394)>, <POINT (140.965 42.391)>, <POINT (140.968 42.392)>, <POINT (140.968 42.392)>, <POINT (140.972 42.394)>, <POINT (140.972 42.394)>, <POINT (140.97 42.393)>, <POINT (140.967 42.391)>, <POINT (140.979 42.393)>, <POINT (140.974 42.393)>, <POINT (140.979 42.393)>, <POINT (140.973 42.394)>, <POINT (140.971 42.393)>, <POINT (140.971 42.394)>, <POINT (140.979 42.392)>, <POINT (140.978 42.392)>, <POINT (140.982 42.393)>, <POINT (140.972 42.394)>, <POINT (140.971 42.394)>, <POINT (140.97 42.393)>, <POINT (140.973 42.394)>, <POINT (140.977 42.392)>, <POINT (140.973 42.394)>, <POINT (140.978 42.392)>, <POINT (140.968 42.392)>, <POINT (140.964 42.392)>, <POINT (140.965 42.391)>, <POINT (140.967 42.391)>, <POINT (140.974 42.393)>, <POINT (140.966 42.39)>, <POINT (140.973 42.394)>, <POINT (140.981 42.393)>, <POINT (140.972 42.394)>, <POINT (140.981 42.393)>, <POINT (140.982 42.393)>, <POINT (140.966 42.391)>, <POINT (140.972 42.394)>, <POINT (140.966 42.39)>, <POINT (140.972 42.394)>, <POINT (140.979 42.392)>, <POINT (140.972 42.394)>, <POINT (140.971 42.394)>, <POINT (140.975 42.393)>, <POINT (140.965 42.392)>, <POINT (140.98 42.393)>, <POINT (140.973 42.394)>, <POINT (140.965 42.392)>, <POINT (140.966 42.391)>, <POINT (140.975 42.393)>, <POINT (140.97 42.393)>, <POINT (140.973 42.394)>, <POINT (140.971 42.393)>, <POINT (140.972 42.394)>, <POINT (140.965 42.392)>, <POINT (140.982 42.393)>, <POINT (140.973 42.394)>, <POINT (140.974 42.393)>, <POINT (140.966 42.391)>, <POINT (140.967 42.391)>, <POINT (140.969 42.392)>, <POINT (140.98 42.393)>, <POINT (140.982 42.393)>, <POINT (140.981 42.393)>, <POINT (140.967 42.391)>, <POINT (140.974 42.393)>, <POINT (140.969 42.392)>, <POINT (140.976 42.393)>, <POINT (140.969 42.393)>, <POINT (140.967 42.391)>, <POINT (140.978 42.392)>, <POINT (140.972 42.394)>, <POINT (140.972 42.394)>, <POINT (140.974 42.393)>, <POINT (140.968 42.392)>, <POINT (140.977 42.392)>, <POINT (140.97 42.393)>, <POINT (140.967 42.39)>, <POINT (140.971 42.394)>, <POINT (140.967 42.391)>, <POINT (140.973 42.394)>, <POINT (140.973 42.394)>, <POINT (140.972 42.394)>, <POINT (140.972 42.394)>, <POINT (140.972 42.394)>, <POINT (140.97 42.393)>, <POINT (140.977 42.392)>, <POINT (140.968 42.392)>, <POINT (140.98 42.393)>, <POINT (140.981 42.393)>, <POINT (140.971 42.394)>, <POINT (140.982 42.393)>, <POINT (140.972 42.394)>, <POINT (140.967 42.391)>, <POINT (140.966 42.391)>, <POINT (140.966 42.391)>, <POINT (140.979 42.392)>, <POINT (140.965 42.392)>, <POINT (140.97 42.393)>, <POINT (140.967 42.391)>, <POINT (140.969 42.393)>, <POINT (140.966 42.391)>, <POINT (140.968 42.392)>, <POINT (140.974 42.394)>, <POINT (140.972 42.394)>, <POINT (140.965 42.391)>, <POINT (140.969 42.392)>, <POINT (140.967 42.391)>, <POINT (140.969 42.392)>, <POINT (140.982 42.393)>, <POINT (140.966 42.39)>, <POINT (140.967 42.391)>, <POINT (140.971 42.394)>, <POINT (140.965 42.391)>, <POINT (140.97 42.393)>, <POINT (140.976 42.392)>, <POINT (140.965 42.391)>, <POINT (140.965 42.391)>, <POINT (140.965 42.392)>, <POINT (140.978 42.392)>, <POINT (140.98 42.393)>, <POINT (140.977 42.392)>, <POINT (140.966 42.391)>, <POINT (140.981 42.393)>, <POINT (140.965 42.392)>, <POINT (140.976 42.393)>, <POINT (140.966 42.391)>, <POINT (140.967 42.39)>, <POINT (140.973 42.394)>, <POINT (140.975 42.393)>, <POINT (140.972 42.394)>, <POINT (140.965 42.392)>, <POINT (140.981 42.393)>, <POINT (140.969 42.393)>, <POINT (140.97 42.393)>, <POINT (140.977 42.392)>, <POINT (140.969 42.393)>, <POINT (140.964 42.392)>, <POINT (140.965 42.392)>, <POINT (140.97 42.393)>, <POINT (140.972 42.394)>, <POINT (140.972 42.394)>, <POINT (140.975 42.393)>, <POINT (140.972 42.394)>, <POINT (140.965 42.391)>, <POINT (140.969 42.392)>, <POINT (140.966 42.39)>, <POINT (140.97 42.393)>, <POINT (140.982 42.393)>, <POINT (140.971 42.394)>, <POINT (140.97 42.393)>, <POINT (140.966 42.39)>, <POINT (140.968 42.391)>, <POINT (140.964 42.392)>, <POINT (140.965 42.391)>, <POINT (140.965 42.392)>, <POINT (140.972 42.394)>, <POINT (140.974 42.393)>, <POINT (140.981 42.393)>, <POINT (140.971 42.393)>, <POINT (140.966 42.391)>, <POINT (140.983 42.393)>, <POINT (140.966 42.391)>, <POINT (140.965 42.391)>, <POINT (140.966 42.391)>, <POINT (140.969 42.392)>, <POINT (140.976 42.393)>, <POINT (140.971 42.393)>, <POINT (140.972 42.394)>, <POINT (140.976 42.392)>, <POINT (140.967 42.391)>, <POINT (140.968 42.391)>, <POINT (140.977 42.392)>, <POINT (140.969 42.393)>, <POINT (140.978 42.392)>, <POINT (140.972 42.394)>, <POINT (140.973 42.394)>, <POINT (140.975 42.393)>, <POINT (140.97 42.393)>, <POINT (140.983 42.393)>, <POINT (140.966 42.391)>, <POINT (140.978 42.392)>, <POINT (140.966 42.391)>, <POINT (140.968 42.392)>, <POINT (140.965 42.392)>, <POINT (140.975 42.393)>, <POINT (140.971 42.394)>, <POINT (140.975 42.393)>, <POINT (140.966 42.391)>, <POINT (140.968 42.392)>, <POINT (140.968 42.391)>, <POINT (140.972 42.394)>, <POINT (140.965 42.392)>, <POINT (140.972 42.394)>, <POINT (140.97 42.393)>, <POINT (140.965 42.391)>, <POINT (140.971 42.393)>, <POINT (140.965 42.392)>, <POINT (140.965 42.392)>, <POINT (140.972 42.394)>, <POINT (140.972 42.394)>, <POINT (140.968 42.391)>, <POINT (140.976 42.392)>, <POINT (140.967 42.39)>, <POINT (140.973 42.394)>, <POINT (140.974 42.394)>, <POINT (140.969 42.392)>, <POINT (140.964 42.392)>, <POINT (140.968 42.392)>, <POINT (140.966 42.39)>, <POINT (140.967 42.39)>, <POINT (140.969 42.393)>, <POINT (140.965 42.391)>, <POINT (140.969 42.393)>, <POINT (140.968 42.392)>, <POINT (140.98 42.393)>, <POINT (140.968 42.392)>, <POINT (140.965 42.391)>, <POINT (140.965 42.392)>, <POINT (140.965 42.392)>, <POINT (140.969 42.393)>, <POINT (140.97 42.393)>, <POINT (140.997 42.391)>, <POINT (140.986 42.391)>, <POINT (141.002 42.391)>, <POINT (141 42.391)>, <POINT (140.998 42.391)>, <POINT (140.994 42.39)>, <POINT (140.99 42.39)>, <POINT (140.997 42.391)>, <POINT (140.998 42.391)>, <POINT (140.991 42.39)>, <POINT (140.989 42.39)>, <POINT (140.985 42.389)>, <POINT (140.985 42.392)>, <POINT (140.992 42.39)>, <POINT (141.002 42.392)>, <POINT (141.001 42.391)>, <POINT (141.002 42.392)>, <POINT (140.983 42.392)>, <POINT (140.99 42.39)>, <POINT (140.993 42.39)>, <POINT (141.003 42.393)>, <POINT (140.983 42.392)>, <POINT (140.983 42.393)>, <POINT (140.986 42.391)>, <POINT (140.986 42.391)>, <POINT (141.001 42.391)>, <POINT (140.994 42.39)>, <POINT (141.001 42.391)>, <POINT (140.988 42.39)>, <POINT (140.99 42.39)>, <POINT (140.985 42.39)>, <POINT (141.004 42.394)>, <POINT (141 42.391)>, <POINT (140.991 42.39)>, <POINT (141.001 42.391)>, <POINT (140.989 42.39)>, <POINT (140.986 42.39)>, <POINT (140.988 42.39)>, <POINT (140.983 42.392)>, <POINT (140.999 42.391)>, <POINT (141 42.391)>, <POINT (140.998 42.391)>, <POINT (141.001 42.391)>, <POINT (140.99 42.39)>, <POINT (140.998 42.391)>, <POINT (140.993 42.39)>, <POINT (140.999 42.391)>, <POINT (140.989 42.39)>, <POINT (140.983 42.392)>, <POINT (140.985 42.389)>, <POINT (141.001 42.391)>, <POINT (140.984 42.392)>, <POINT (140.993 42.39)>, <POINT (140.986 42.391)>, <POINT (140.986 42.39)>, <POINT (140.984 42.392)>, <POINT (141.002 42.392)>, <POINT (140.989 42.39)>, <POINT (141.002 42.392)>, <POINT (140.988 42.39)>, <POINT (141.002 42.391)>, <POINT (140.997 42.391)>, <POINT (141.002 42.392)>, <POINT (140.99 42.39)>, <POINT (140.986 42.39)>, <POINT (141.003 42.393)>, <POINT (140.991 42.39)>, <POINT (140.984 42.392)>, <POINT (140.987 42.389)>, <POINT (141 42.391)>, <POINT (140.996 42.391)>, <POINT (140.986 42.391)>, <POINT (140.986 42.39)>, <POINT (140.997 42.391)>, <POINT (140.995 42.39)>, <POINT (140.987 42.389)>, <POINT (140.992 42.39)>, <POINT (141.004 42.393)>, <POINT (140.985 42.389)>, <POINT (140.995 42.39)>, <POINT (140.984 42.392)>, <POINT (141.003 42.392)>, <POINT (140.986 42.39)>, <POINT (140.985 42.39)>, <POINT (141.003 42.393)>, <POINT (140.985 42.392)>, <POINT (140.998 42.391)>, <POINT (141.002 42.391)>, <POINT (140.985 42.389)>, <POINT (140.988 42.39)>, <POINT (140.984 42.392)>, <POINT (141.004 42.394)>, <POINT (140.985 42.392)>, <POINT (140.985 42.39)>, <POINT (140.987 42.389)>, <POINT (140.987 42.389)>, <POINT (140.984 42.392)>, <POINT (141.003 42.393)>, <POINT (141.004 42.394)>, <POINT (140.99 42.39)>, <POINT (140.996 42.391)>, <POINT (141.003 42.393)>, <POINT (140.985 42.389)>, <POINT (140.985 42.391)>, <POINT (141.003 42.393)>, <POINT (140.988 42.39)>, <POINT (140.985 42.392)>, <POINT (140.999 42.391)>, <POINT (141.004 42.393)>, <POINT (140.984 42.392)>, <POINT (140.985 42.39)>, <POINT (140.994 42.39)>, <POINT (140.987 42.389)>, <POINT (140.995 42.39)>, <POINT (140.996 42.391)>, <POINT (140.995 42.39)>, <POINT (141 42.391)>, <POINT (141.001 42.391)>, <POINT (140.996 42.391)>, <POINT (140.983 42.392)>, <POINT (140.988 42.39)>, <POINT (141.005 42.394)>, <POINT (140.985 42.39)>, <POINT (141 42.391)>, <POINT (140.985 42.392)>, <POINT (140.985 42.392)>, <POINT (140.991 42.39)>, <POINT (140.986 42.391)>, <POINT (140.999 42.391)>, <POINT (140.993 42.39)>, <POINT (140.992 42.39)>, <POINT (140.989 42.39)>, <POINT (141.003 42.392)>, <POINT (140.985 42.391)>, <POINT (140.993 42.39)>, <POINT (140.985 42.39)>, <POINT (141.004 42.394)>, <POINT (141.004 42.394)>, <POINT (140.994 42.39)>, <POINT (140.985 42.392)>, <POINT (140.983 42.393)>, <POINT (140.995 42.39)>, <POINT (140.987 42.389)>, <POINT (140.992 42.39)>, <POINT (140.999 42.391)>, <POINT (140.994 42.39)>, <POINT (141.003 42.392)>, <POINT (140.996 42.39)>, <POINT (140.991 42.39)>, <POINT (140.999 42.391)>, <POINT (140.985 42.389)>, <POINT (140.986 42.391)>, <POINT (140.992 42.39)>, <POINT (140.993 42.39)>, <POINT (141.003 42.393)>, <POINT (140.997 42.391)>, <POINT (140.986 42.391)>, <POINT (141.002 42.392)>, <POINT (141.004 42.394)>]\n"
     ]
    }
   ],
   "source": [
    "print(df.shape)\n",
    "print(df_snapped['geometry'].values.tolist())"
   ]
  },
  {
   "cell_type": "code",
   "execution_count": 10,
   "metadata": {
    "scrolled": false
   },
   "outputs": [
    {
     "data": {
      "text/html": [
       "<div>\n",
       "<style scoped>\n",
       "    .dataframe tbody tr th:only-of-type {\n",
       "        vertical-align: middle;\n",
       "    }\n",
       "\n",
       "    .dataframe tbody tr th {\n",
       "        vertical-align: top;\n",
       "    }\n",
       "\n",
       "    .dataframe thead th {\n",
       "        text-align: right;\n",
       "    }\n",
       "</style>\n",
       "<table border=\"1\" class=\"dataframe\">\n",
       "  <thead>\n",
       "    <tr style=\"text-align: right;\">\n",
       "      <th></th>\n",
       "      <th>id</th>\n",
       "      <th>seq</th>\n",
       "      <th>camera_type</th>\n",
       "      <th>image_url</th>\n",
       "      <th>geometry</th>\n",
       "      <th>snapped_geometry</th>\n",
       "      <th>use_osm</th>\n",
       "    </tr>\n",
       "  </thead>\n",
       "  <tbody>\n",
       "    <tr>\n",
       "      <th>0</th>\n",
       "      <td>518456039564350</td>\n",
       "      <td>5kdx1SQbc6_3KzjJCdJDPg</td>\n",
       "      <td>fisheye</td>\n",
       "      <td>https://storage.cloud.google.com/sudb_images/i...</td>\n",
       "      <td>POINT (140.98457 42.38890)</td>\n",
       "      <td>POINT (140.98458 42.38890)</td>\n",
       "      <td>False</td>\n",
       "    </tr>\n",
       "    <tr>\n",
       "      <th>1</th>\n",
       "      <td>189431889702066</td>\n",
       "      <td>5kdx1SQbc6_3KzjJCdJDPg</td>\n",
       "      <td>fisheye</td>\n",
       "      <td>https://storage.cloud.google.com/sudb_images/i...</td>\n",
       "      <td>POINT (140.98493 42.38726)</td>\n",
       "      <td>POINT (140.98493 42.38726)</td>\n",
       "      <td>False</td>\n",
       "    </tr>\n",
       "    <tr>\n",
       "      <th>2</th>\n",
       "      <td>291621625972829</td>\n",
       "      <td>5kdx1SQbc6_3KzjJCdJDPg</td>\n",
       "      <td>fisheye</td>\n",
       "      <td>https://storage.cloud.google.com/sudb_images/i...</td>\n",
       "      <td>POINT (140.98620 42.38847)</td>\n",
       "      <td>POINT (140.98617 42.38849)</td>\n",
       "      <td>False</td>\n",
       "    </tr>\n",
       "    <tr>\n",
       "      <th>3</th>\n",
       "      <td>1638308459698633</td>\n",
       "      <td>5kdx1SQbc6_3KzjJCdJDPg</td>\n",
       "      <td>fisheye</td>\n",
       "      <td>https://storage.cloud.google.com/sudb_images/i...</td>\n",
       "      <td>POINT (140.98437 42.38865)</td>\n",
       "      <td>POINT (140.98438 42.38865)</td>\n",
       "      <td>False</td>\n",
       "    </tr>\n",
       "    <tr>\n",
       "      <th>4</th>\n",
       "      <td>1191133854691693</td>\n",
       "      <td>5kdx1SQbc6_3KzjJCdJDPg</td>\n",
       "      <td>fisheye</td>\n",
       "      <td>https://storage.cloud.google.com/sudb_images/i...</td>\n",
       "      <td>POINT (140.98501 42.38733)</td>\n",
       "      <td>POINT (140.98501 42.38733)</td>\n",
       "      <td>False</td>\n",
       "    </tr>\n",
       "    <tr>\n",
       "      <th>...</th>\n",
       "      <td>...</td>\n",
       "      <td>...</td>\n",
       "      <td>...</td>\n",
       "      <td>...</td>\n",
       "      <td>...</td>\n",
       "      <td>...</td>\n",
       "      <td>...</td>\n",
       "    </tr>\n",
       "    <tr>\n",
       "      <th>495</th>\n",
       "      <td>303043051293985</td>\n",
       "      <td>5kdx1SQbc6_3KzjJCdJDPg</td>\n",
       "      <td>fisheye</td>\n",
       "      <td>https://storage.cloud.google.com/sudb_images/i...</td>\n",
       "      <td>POINT (141.00286 42.39251)</td>\n",
       "      <td>POINT (141.00287 42.39251)</td>\n",
       "      <td>False</td>\n",
       "    </tr>\n",
       "    <tr>\n",
       "      <th>496</th>\n",
       "      <td>126666546115263</td>\n",
       "      <td>5kdx1SQbc6_3KzjJCdJDPg</td>\n",
       "      <td>fisheye</td>\n",
       "      <td>https://storage.cloud.google.com/sudb_images/i...</td>\n",
       "      <td>POINT (140.99662 42.39050)</td>\n",
       "      <td>POINT (140.99661 42.39056)</td>\n",
       "      <td>False</td>\n",
       "    </tr>\n",
       "    <tr>\n",
       "      <th>497</th>\n",
       "      <td>965367387594629</td>\n",
       "      <td>5kdx1SQbc6_3KzjJCdJDPg</td>\n",
       "      <td>fisheye</td>\n",
       "      <td>https://storage.cloud.google.com/sudb_images/i...</td>\n",
       "      <td>POINT (140.98549 42.39127)</td>\n",
       "      <td>POINT (140.98554 42.39129)</td>\n",
       "      <td>False</td>\n",
       "    </tr>\n",
       "    <tr>\n",
       "      <th>498</th>\n",
       "      <td>3842588242524848</td>\n",
       "      <td>5kdx1SQbc6_3KzjJCdJDPg</td>\n",
       "      <td>fisheye</td>\n",
       "      <td>https://storage.cloud.google.com/sudb_images/i...</td>\n",
       "      <td>POINT (141.00229 42.39185)</td>\n",
       "      <td>POINT (141.00231 42.39184)</td>\n",
       "      <td>False</td>\n",
       "    </tr>\n",
       "    <tr>\n",
       "      <th>499</th>\n",
       "      <td>314681866862632</td>\n",
       "      <td>5kdx1SQbc6_3KzjJCdJDPg</td>\n",
       "      <td>fisheye</td>\n",
       "      <td>https://storage.cloud.google.com/sudb_images/i...</td>\n",
       "      <td>POINT (141.00450 42.39400)</td>\n",
       "      <td>POINT (141.00450 42.39402)</td>\n",
       "      <td>False</td>\n",
       "    </tr>\n",
       "  </tbody>\n",
       "</table>\n",
       "<p>500 rows × 7 columns</p>\n",
       "</div>"
      ],
      "text/plain": [
       "                   id                             seq camera_type  \\\n",
       "0     518456039564350  5kdx1SQbc6_3KzjJCdJDPg             fisheye   \n",
       "1     189431889702066  5kdx1SQbc6_3KzjJCdJDPg             fisheye   \n",
       "2     291621625972829  5kdx1SQbc6_3KzjJCdJDPg             fisheye   \n",
       "3    1638308459698633  5kdx1SQbc6_3KzjJCdJDPg             fisheye   \n",
       "4    1191133854691693  5kdx1SQbc6_3KzjJCdJDPg             fisheye   \n",
       "..                ...                             ...         ...   \n",
       "495   303043051293985  5kdx1SQbc6_3KzjJCdJDPg             fisheye   \n",
       "496   126666546115263  5kdx1SQbc6_3KzjJCdJDPg             fisheye   \n",
       "497   965367387594629  5kdx1SQbc6_3KzjJCdJDPg             fisheye   \n",
       "498  3842588242524848  5kdx1SQbc6_3KzjJCdJDPg             fisheye   \n",
       "499   314681866862632  5kdx1SQbc6_3KzjJCdJDPg             fisheye   \n",
       "\n",
       "                                             image_url  \\\n",
       "0    https://storage.cloud.google.com/sudb_images/i...   \n",
       "1    https://storage.cloud.google.com/sudb_images/i...   \n",
       "2    https://storage.cloud.google.com/sudb_images/i...   \n",
       "3    https://storage.cloud.google.com/sudb_images/i...   \n",
       "4    https://storage.cloud.google.com/sudb_images/i...   \n",
       "..                                                 ...   \n",
       "495  https://storage.cloud.google.com/sudb_images/i...   \n",
       "496  https://storage.cloud.google.com/sudb_images/i...   \n",
       "497  https://storage.cloud.google.com/sudb_images/i...   \n",
       "498  https://storage.cloud.google.com/sudb_images/i...   \n",
       "499  https://storage.cloud.google.com/sudb_images/i...   \n",
       "\n",
       "                       geometry            snapped_geometry  use_osm  \n",
       "0    POINT (140.98457 42.38890)  POINT (140.98458 42.38890)    False  \n",
       "1    POINT (140.98493 42.38726)  POINT (140.98493 42.38726)    False  \n",
       "2    POINT (140.98620 42.38847)  POINT (140.98617 42.38849)    False  \n",
       "3    POINT (140.98437 42.38865)  POINT (140.98438 42.38865)    False  \n",
       "4    POINT (140.98501 42.38733)  POINT (140.98501 42.38733)    False  \n",
       "..                          ...                         ...      ...  \n",
       "495  POINT (141.00286 42.39251)  POINT (141.00287 42.39251)    False  \n",
       "496  POINT (140.99662 42.39050)  POINT (140.99661 42.39056)    False  \n",
       "497  POINT (140.98549 42.39127)  POINT (140.98554 42.39129)    False  \n",
       "498  POINT (141.00229 42.39185)  POINT (141.00231 42.39184)    False  \n",
       "499  POINT (141.00450 42.39400)  POINT (141.00450 42.39402)    False  \n",
       "\n",
       "[500 rows x 7 columns]"
      ]
     },
     "execution_count": 10,
     "metadata": {},
     "output_type": "execute_result"
    }
   ],
   "source": [
    "merged = df[['id', 'seq', 'camera_type', 'image_url', 'geometry']].merge(df_snapped.rename({'image_id': 'id', 'geometry': 'snapped_geometry'}, axis=1), left_on='id', right_on='id', how='right')\n",
    "merged"
   ]
  },
  {
   "cell_type": "code",
   "execution_count": null,
   "metadata": {},
   "outputs": [],
   "source": [
    "\n",
    "vis = Visualize(merged)\n",
    "vis.map(additional_geometries=['snapped_geometry'])"
   ]
  },
  {
   "cell_type": "markdown",
   "metadata": {},
   "source": []
  }
 ],
 "metadata": {
  "kernelspec": {
   "display_name": "Python 3 (ipykernel)",
   "language": "python",
   "name": "python3"
  },
  "language_info": {
   "codemirror_mode": {
    "name": "ipython",
    "version": 3
   },
   "file_extension": ".py",
   "mimetype": "text/x-python",
   "name": "python",
   "nbconvert_exporter": "python",
   "pygments_lexer": "ipython3",
   "version": "3.10.10"
  },
  "vscode": {
   "interpreter": {
    "hash": "36eebccf1b0ba41913a8d0b6dcb969edcc66f93154303ef11bc00bb75bd6ebb2"
   }
  }
 },
 "nbformat": 4,
 "nbformat_minor": 1
}
