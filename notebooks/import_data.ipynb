{
 "cells": [
  {
   "cell_type": "markdown",
   "metadata": {
    "collapsed": true
   },
   "source": [
    "# Import Data from Mapillary API\n",
    "\n",
    "This short notebook demostrates how the MapillaryImport functions can be used to import data from mapillary and save data to both the database and the Google Storage bucket.\n",
    "\n",
    "\n",
    "### Authenticating with Google Cloud\n",
    "\n",
    "Before we can run this notebook on a new device, we will have to authenticate with google cloud. To do so, please run the following command in a terminal window (you shouldn't need to do this if you have already authenticated on this device):\n",
    "\n",
    "```\n",
    "gcloud auth application-default login \n",
    "```\n",
    "\n",
    "Now we can continue with importing the python modules that we will use."
   ]
  },
  {
   "cell_type": "code",
   "execution_count": null,
   "metadata": {},
   "outputs": [],
   "source": [
    "from src.controller import MapillaryImport"
   ]
  },
  {
   "cell_type": "markdown",
   "metadata": {},
   "source": [
    "## Setting Environmental Variables\n",
    "\n",
    "In order for the importer module to access both Google Storage and the Mapillary API, the following environmental variables must be set. Replace the text in `<>` with actual variables before running the next block."
   ]
  },
  {
   "cell_type": "code",
   "execution_count": 6,
   "metadata": {},
   "outputs": [
    {
     "name": "stdout",
     "output_type": "stream",
     "text": [
      "env: BUCKET_NAME=sudb_images\n",
      "env: DATABASE_URL=postgresql://admin:NKbu5:$c7QyA{+-Z@104.198.127.192:5432/mapillary\n",
      "env: MAPILLARY_TOKEN=MLY|8292936474114144|1bc3292bea17defdbda2c0fdbdc891ec\n"
     ]
    }
   ],
   "source": [
    "%env BUCKET_NAME=<bucket_name>\n",
    "%env DATABASE_URL=<database_url>\n",
    "%env MAPILLARY_TOKEN=<mapillary_token>"
   ]
  },
  {
   "cell_type": "markdown",
   "metadata": {},
   "source": [
    "## Import Data by Bounding Box and Dates\n",
    "\n",
    "Now we can go ahead and import the data. We will filter data from the API by points that lie within a bounding box and within some date range. Before we set these parameters, we will need to initialize the mapillary import class."
   ]
  },
  {
   "cell_type": "code",
   "execution_count": 7,
   "metadata": {},
   "outputs": [],
   "source": [
    "importer = MapillaryImport()"
   ]
  },
  {
   "cell_type": "markdown",
   "metadata": {},
   "source": [
    "Now set the parameters used:"
   ]
  },
  {
   "cell_type": "code",
   "execution_count": 8,
   "metadata": {},
   "outputs": [],
   "source": [
    "bbox = [140.8282500,42.2625132,141.1812100,42.4647410]\n",
    "start = '2019-10-22'\n",
    "end = '2019-10-24'\n",
    "image_dir = 'images'"
   ]
  },
  {
   "cell_type": "markdown",
   "metadata": {},
   "source": [
    "With the importer we can download data from Mapillary filtered by the above parameters. Please note that this may take a very long time depending on the number of images requested. Each image needs to be downloaded to memory and then uploaded to GCP storage before entering metadata in the database. It may take an average of about 10 seconds per image."
   ]
  },
  {
   "cell_type": "code",
   "execution_count": null,
   "metadata": {},
   "outputs": [
    {
     "name": "stdout",
     "output_type": "stream",
     "text": [
      "Fetching data from Mapillary ...\n",
      "fetched a total of 17944 images\n",
      "Beginning import\n"
     ]
    },
    {
     "name": "stderr",
     "output_type": "stream",
     "text": [
      " 27%|██▋       | 4897/17944 [1:58:57<13:22:12,  3.69s/it] "
     ]
    }
   ],
   "source": [
    "importer.import_images_by_bbox(bbox, start, end, image_dir)"
   ]
  }
 ],
 "metadata": {
  "kernelspec": {
   "display_name": "Python 3 (ipykernel)",
   "language": "python",
   "name": "python3"
  },
  "language_info": {
   "codemirror_mode": {
    "name": "ipython",
    "version": 3
   },
   "file_extension": ".py",
   "mimetype": "text/x-python",
   "name": "python",
   "nbconvert_exporter": "python",
   "pygments_lexer": "ipython3",
   "version": "3.8.15"
  }
 },
 "nbformat": 4,
 "nbformat_minor": 1
}
