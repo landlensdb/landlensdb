{
 "cells": [
  {
   "cell_type": "markdown",
   "metadata": {
    "collapsed": true,
    "jupyter": {
     "outputs_hidden": true
    }
   },
   "source": [
    "# Tutorial 1: Loading, Processing, Visualizing, and Storing Data\n",
    "\n",
    "This short notebook demostrates how `landlens_db` can be used to load, process, visualize, and store street-view data from local file directories and Mapillary servers."
   ]
  },
  {
   "cell_type": "markdown",
   "metadata": {},
   "source": [
    "## Pre-requisites\n",
    "\n",
    "Before getting started, you will need to have [PostgreSQL](https://www.postgresql.org/download/) and [PostGIS](https://postgis.net/documentation/getting_started/) installed. \n",
    "\n",
    "### PostgreSQL and PostGIS\n",
    "Once PostgreSQL and PostGIS are installed, or if they are already installed, then you will need to have a PostGIS enabled PostgreSQL database to work with. To create one, use:\n",
    "\n",
    "```bash\n",
    "createdb <database_name> && psql <database_name> -c \"CREATE EXTENSION POSTGIS\"\n",
    "```\n",
    "\n",
    "Be sure to replace `<database_name>` with the name you want to call your database. For example, it could be:\n",
    "\n",
    "```bash\n",
    "createdb landlens && psql landlens -c \"CREATE EXTENSION POSTGIS\"\n",
    "```\n",
    "\n",
    "### Mapillary Token\n",
    "You will also need to have a Mapillary API token. This isnt necessary to use the library, but you will need it to follow the tutorial, which includes examples on connecting to Mapillary and downloading images.\n",
    "\n",
    "### .env File\n",
    "Finally, you will need to save this information into a `.env` file. To create a `.env` file, use:\n",
    "\n",
    "```bash\n",
    "touch .env\n",
    "```\n",
    "\n",
    "Then, paste the following:\n",
    "\n",
    "```\n",
    "MLY_TOKEN=<token>\n",
    "LOCAL_IMAGES=<path_to_local_images>\n",
    "DOWNLOAD_DIR=<path_to_download_images_do>\n",
    "DATABASE_URL=<PostgreSQL_database_url>\n",
    "DB_TABLE=<table_name>\n",
    "```\n",
    "\n",
    "Replace the text enclosed by angular brackets `<>` with the actual text. For example, your `MLY_TOKEN` would be the Mapillary token you can acquire from a Mapillary account. Usually, these start with `MLY|`. The path variables are absolute paths to where you want files to be read or written. The database URL, if the database was created using the earlier instructions, would look like: `postgresql://localhost:5432/landlens`, assuming PostgreSQL is being served on localhost with port 5432 (the default). The `DB_TABLE` will be the table name to use in this tutorial. It can be anything, for example: `mapillary_images`. \n",
    "\n",
    "Once this is done, you should be ready to proceed with the tutorial.\n",
    "\n",
    "If you don't have `landlens_db` installed, you can do so with `pip install landlens_db`."
   ]
  },
  {
   "cell_type": "code",
   "execution_count": 1,
   "metadata": {
    "ExecuteTime": {
     "start_time": "2024-02-03T02:19:40.742891Z"
    },
    "is_executing": true
   },
   "outputs": [],
   "source": [
    "from landlens_db.handlers.cloud import Mapillary\n",
    "from landlens_db.handlers.image import Local\n",
    "from landlens_db.process.snap import create_bbox, get_osm_lines, snap_to_road_network\n",
    "from landlens_db.handlers.db import Postgres\n",
    "from landlens_db.geoclasses.geoimageframe import GeoImageFrame"
   ]
  },
  {
   "cell_type": "markdown",
   "metadata": {},
   "source": [
    "Before we get started, we will need to load our Mapillary API token and other environmental variables. For simplicity, we will use the `dotenv` library to please install this and create a .env file to follow this tutorial. You will also need to make sure that pandas and geopandas are installed in order to manipulate some of the data required for the tutorial."
   ]
  },
  {
   "cell_type": "code",
   "execution_count": 2,
   "metadata": {
    "ExecuteTime": {
     "end_time": "2023-10-01T01:17:02.460954Z",
     "start_time": "2023-10-01T01:17:02.446709Z"
    }
   },
   "outputs": [],
   "source": [
    "import os\n",
    "import geopandas as gpd\n",
    "import glob\n",
    "import pandas as pd\n",
    "\n",
    "from dotenv import load_dotenv\n",
    "\n",
    "load_dotenv()\n",
    "\n",
    "MLY_TOKEN = os.environ.get(\"MLY_TOKEN\")\n",
    "LOCAL_IMAGES = os.environ.get(\"LOCAL_IMAGES\")\n",
    "DOWNLOAD_DIR = os.environ.get(\"DOWNLOAD_DIR\")\n",
    "DATABASE_URL = os.environ.get(\"DATABASE_URL\")\n",
    "DB_TABLE = os.environ.get(\"DB_TABLE\")"
   ]
  },
  {
   "cell_type": "markdown",
   "metadata": {},
   "source": [
    "# Loading Images\n",
    "\n",
    "`landlens_db` provides two simple ways to load images for the first time which can then be processed and stored for further analysis.\n",
    "\n",
    "## 1. Loading images from local directory\n",
    "\n",
    "To load images from a local directory, simply call the `load_images` function while providing the source directory to read from. Currently, only `jpeg` images are supported and it is best to provide the full path to the images."
   ]
  },
  {
   "cell_type": "code",
   "execution_count": 3,
   "metadata": {},
   "outputs": [
    {
     "data": {
      "text/html": [
       "<div>\n",
       "<style scoped>\n",
       "    .dataframe tbody tr th:only-of-type {\n",
       "        vertical-align: middle;\n",
       "    }\n",
       "\n",
       "    .dataframe tbody tr th {\n",
       "        vertical-align: top;\n",
       "    }\n",
       "\n",
       "    .dataframe thead th {\n",
       "        text-align: right;\n",
       "    }\n",
       "</style>\n",
       "<table border=\"1\" class=\"dataframe\">\n",
       "  <thead>\n",
       "    <tr style=\"text-align: right;\">\n",
       "      <th></th>\n",
       "      <th>name</th>\n",
       "      <th>altitude</th>\n",
       "      <th>camera_type</th>\n",
       "      <th>camera_parameters</th>\n",
       "      <th>captured_at</th>\n",
       "      <th>compass_angle</th>\n",
       "      <th>exif_orientation</th>\n",
       "      <th>image_url</th>\n",
       "      <th>geometry</th>\n",
       "    </tr>\n",
       "  </thead>\n",
       "  <tbody>\n",
       "    <tr>\n",
       "      <th>0</th>\n",
       "      <td>IMG_0408.jpeg</td>\n",
       "      <td>234.415619</td>\n",
       "      <td>perspective</td>\n",
       "      <td>NaN</td>\n",
       "      <td>2023-03-06T11:04:19+03:00</td>\n",
       "      <td>316.262604</td>\n",
       "      <td>1.0</td>\n",
       "      <td>/Users/iosefa/repos/misc/SU_GCPsystem/notebook...</td>\n",
       "      <td>POINT (46.79483 -16.33181)</td>\n",
       "    </tr>\n",
       "    <tr>\n",
       "      <th>1</th>\n",
       "      <td>IMG_0404.jpeg</td>\n",
       "      <td>235.402679</td>\n",
       "      <td>perspective</td>\n",
       "      <td>NaN</td>\n",
       "      <td>2023-03-06T11:04:15+03:00</td>\n",
       "      <td>76.328430</td>\n",
       "      <td>1.0</td>\n",
       "      <td>/Users/iosefa/repos/misc/SU_GCPsystem/notebook...</td>\n",
       "      <td>POINT (46.79484 -16.33181)</td>\n",
       "    </tr>\n",
       "    <tr>\n",
       "      <th>2</th>\n",
       "      <td>IMG_0405.jpeg</td>\n",
       "      <td>235.890045</td>\n",
       "      <td>perspective</td>\n",
       "      <td>NaN</td>\n",
       "      <td>2023-03-06T11:04:15+03:00</td>\n",
       "      <td>45.822021</td>\n",
       "      <td>1.0</td>\n",
       "      <td>/Users/iosefa/repos/misc/SU_GCPsystem/notebook...</td>\n",
       "      <td>POINT (46.79484 -16.33181)</td>\n",
       "    </tr>\n",
       "    <tr>\n",
       "      <th>3</th>\n",
       "      <td>IMG_0409.jpeg</td>\n",
       "      <td>234.390961</td>\n",
       "      <td>perspective</td>\n",
       "      <td>NaN</td>\n",
       "      <td>2023-03-06T11:04:20+03:00</td>\n",
       "      <td>271.465851</td>\n",
       "      <td>1.0</td>\n",
       "      <td>/Users/iosefa/repos/misc/SU_GCPsystem/notebook...</td>\n",
       "      <td>POINT (46.79483 -16.33181)</td>\n",
       "    </tr>\n",
       "    <tr>\n",
       "      <th>4</th>\n",
       "      <td>R0013708.JPG</td>\n",
       "      <td>221.110001</td>\n",
       "      <td>360-degree</td>\n",
       "      <td>NaN</td>\n",
       "      <td>2023-03-10T11:39:47+03:00</td>\n",
       "      <td>NaN</td>\n",
       "      <td>1.0</td>\n",
       "      <td>/Users/iosefa/repos/misc/SU_GCPsystem/notebook...</td>\n",
       "      <td>POINT (46.80393 -16.32318)</td>\n",
       "    </tr>\n",
       "    <tr>\n",
       "      <th>5</th>\n",
       "      <td>IMG_0403.jpeg</td>\n",
       "      <td>235.643890</td>\n",
       "      <td>perspective</td>\n",
       "      <td>NaN</td>\n",
       "      <td>2023-03-06T11:04:14+03:00</td>\n",
       "      <td>97.850014</td>\n",
       "      <td>1.0</td>\n",
       "      <td>/Users/iosefa/repos/misc/SU_GCPsystem/notebook...</td>\n",
       "      <td>POINT (46.79484 -16.33182)</td>\n",
       "    </tr>\n",
       "    <tr>\n",
       "      <th>6</th>\n",
       "      <td>IMG_0410.jpeg</td>\n",
       "      <td>234.289215</td>\n",
       "      <td>perspective</td>\n",
       "      <td>NaN</td>\n",
       "      <td>2023-03-06T11:04:21+03:00</td>\n",
       "      <td>254.171234</td>\n",
       "      <td>1.0</td>\n",
       "      <td>/Users/iosefa/repos/misc/SU_GCPsystem/notebook...</td>\n",
       "      <td>POINT (46.79483 -16.33181)</td>\n",
       "    </tr>\n",
       "    <tr>\n",
       "      <th>7</th>\n",
       "      <td>IMG_0406.jpeg</td>\n",
       "      <td>235.161835</td>\n",
       "      <td>perspective</td>\n",
       "      <td>NaN</td>\n",
       "      <td>2023-03-06T11:04:16+03:00</td>\n",
       "      <td>36.924500</td>\n",
       "      <td>1.0</td>\n",
       "      <td>/Users/iosefa/repos/misc/SU_GCPsystem/notebook...</td>\n",
       "      <td>POINT (46.79484 -16.33181)</td>\n",
       "    </tr>\n",
       "    <tr>\n",
       "      <th>8</th>\n",
       "      <td>IMG_0407.jpeg</td>\n",
       "      <td>234.766693</td>\n",
       "      <td>perspective</td>\n",
       "      <td>NaN</td>\n",
       "      <td>2023-03-06T11:04:18+03:00</td>\n",
       "      <td>350.140991</td>\n",
       "      <td>1.0</td>\n",
       "      <td>/Users/iosefa/repos/misc/SU_GCPsystem/notebook...</td>\n",
       "      <td>POINT (46.79484 -16.33181)</td>\n",
       "    </tr>\n",
       "    <tr>\n",
       "      <th>9</th>\n",
       "      <td>IMG_0411.jpeg</td>\n",
       "      <td>234.289215</td>\n",
       "      <td>perspective</td>\n",
       "      <td>NaN</td>\n",
       "      <td>2023-03-06T11:04:22+03:00</td>\n",
       "      <td>248.655853</td>\n",
       "      <td>1.0</td>\n",
       "      <td>/Users/iosefa/repos/misc/SU_GCPsystem/notebook...</td>\n",
       "      <td>POINT (46.79483 -16.33181)</td>\n",
       "    </tr>\n",
       "  </tbody>\n",
       "</table>\n",
       "</div>"
      ],
      "text/plain": [
       "            name    altitude  camera_type  camera_parameters  \\\n",
       "0  IMG_0408.jpeg  234.415619  perspective                NaN   \n",
       "1  IMG_0404.jpeg  235.402679  perspective                NaN   \n",
       "2  IMG_0405.jpeg  235.890045  perspective                NaN   \n",
       "3  IMG_0409.jpeg  234.390961  perspective                NaN   \n",
       "4   R0013708.JPG  221.110001   360-degree                NaN   \n",
       "5  IMG_0403.jpeg  235.643890  perspective                NaN   \n",
       "6  IMG_0410.jpeg  234.289215  perspective                NaN   \n",
       "7  IMG_0406.jpeg  235.161835  perspective                NaN   \n",
       "8  IMG_0407.jpeg  234.766693  perspective                NaN   \n",
       "9  IMG_0411.jpeg  234.289215  perspective                NaN   \n",
       "\n",
       "                 captured_at  compass_angle  exif_orientation  \\\n",
       "0  2023-03-06T11:04:19+03:00     316.262604               1.0   \n",
       "1  2023-03-06T11:04:15+03:00      76.328430               1.0   \n",
       "2  2023-03-06T11:04:15+03:00      45.822021               1.0   \n",
       "3  2023-03-06T11:04:20+03:00     271.465851               1.0   \n",
       "4  2023-03-10T11:39:47+03:00            NaN               1.0   \n",
       "5  2023-03-06T11:04:14+03:00      97.850014               1.0   \n",
       "6  2023-03-06T11:04:21+03:00     254.171234               1.0   \n",
       "7  2023-03-06T11:04:16+03:00      36.924500               1.0   \n",
       "8  2023-03-06T11:04:18+03:00     350.140991               1.0   \n",
       "9  2023-03-06T11:04:22+03:00     248.655853               1.0   \n",
       "\n",
       "                                           image_url  \\\n",
       "0  /Users/iosefa/repos/misc/SU_GCPsystem/notebook...   \n",
       "1  /Users/iosefa/repos/misc/SU_GCPsystem/notebook...   \n",
       "2  /Users/iosefa/repos/misc/SU_GCPsystem/notebook...   \n",
       "3  /Users/iosefa/repos/misc/SU_GCPsystem/notebook...   \n",
       "4  /Users/iosefa/repos/misc/SU_GCPsystem/notebook...   \n",
       "5  /Users/iosefa/repos/misc/SU_GCPsystem/notebook...   \n",
       "6  /Users/iosefa/repos/misc/SU_GCPsystem/notebook...   \n",
       "7  /Users/iosefa/repos/misc/SU_GCPsystem/notebook...   \n",
       "8  /Users/iosefa/repos/misc/SU_GCPsystem/notebook...   \n",
       "9  /Users/iosefa/repos/misc/SU_GCPsystem/notebook...   \n",
       "\n",
       "                     geometry  \n",
       "0  POINT (46.79483 -16.33181)  \n",
       "1  POINT (46.79484 -16.33181)  \n",
       "2  POINT (46.79484 -16.33181)  \n",
       "3  POINT (46.79483 -16.33181)  \n",
       "4  POINT (46.80393 -16.32318)  \n",
       "5  POINT (46.79484 -16.33182)  \n",
       "6  POINT (46.79483 -16.33181)  \n",
       "7  POINT (46.79484 -16.33181)  \n",
       "8  POINT (46.79484 -16.33181)  \n",
       "9  POINT (46.79483 -16.33181)  "
      ]
     },
     "execution_count": 3,
     "metadata": {},
     "output_type": "execute_result"
    }
   ],
   "source": [
    "local_images = Local.load_images(LOCAL_IMAGES)\n",
    "local_images"
   ]
  },
  {
   "cell_type": "markdown",
   "metadata": {},
   "source": [
    "The resulting image is a GeoImageFrame, which is a simple extension of a Pandas GeoDataFrame with a few required column definitions and additional methods for visualization and data verification."
   ]
  },
  {
   "cell_type": "markdown",
   "metadata": {},
   "source": [
    "## 2. Loading images from mapillary"
   ]
  },
  {
   "cell_type": "markdown",
   "metadata": {},
   "source": [
    "`landlens_db` was made to work with Mapillary data and it includes helper functions to make calls to the Mapillary API and download and convert Mapillary data into a format for `landlens_db`.\n",
    "\n",
    "To use `landlens_db` to fetch data from Mapillary, you first need to initialize a Mapillary connection using your Mapillary Secret Token."
   ]
  },
  {
   "cell_type": "code",
   "execution_count": 4,
   "metadata": {},
   "outputs": [],
   "source": [
    "importer = Mapillary(MLY_TOKEN)"
   ]
  },
  {
   "cell_type": "markdown",
   "metadata": {},
   "source": [
    "`landlens_db` offers a few functions to filter Mapillary data from their API. However, for more advanced filtering, we recommend that users use the `mapillary-python-sdk` and convert the resulting data into a GeoImageFrame.\n",
    "\n",
    "Here is an example of how to load data using the `fetch_by_id` method of `landlens_db`:"
   ]
  },
  {
   "cell_type": "code",
   "execution_count": 5,
   "metadata": {},
   "outputs": [
    {
     "data": {
      "text/html": [
       "<div>\n",
       "<style scoped>\n",
       "    .dataframe tbody tr th:only-of-type {\n",
       "        vertical-align: middle;\n",
       "    }\n",
       "\n",
       "    .dataframe tbody tr th {\n",
       "        vertical-align: top;\n",
       "    }\n",
       "\n",
       "    .dataframe thead th {\n",
       "        text-align: right;\n",
       "    }\n",
       "</style>\n",
       "<table border=\"1\" class=\"dataframe\">\n",
       "  <thead>\n",
       "    <tr style=\"text-align: right;\">\n",
       "      <th></th>\n",
       "      <th>altitude</th>\n",
       "      <th>atomic_scale</th>\n",
       "      <th>camera_parameters</th>\n",
       "      <th>camera_type</th>\n",
       "      <th>captured_at</th>\n",
       "      <th>compass_angle</th>\n",
       "      <th>computed_altitude</th>\n",
       "      <th>computed_compass_angle</th>\n",
       "      <th>computed_geometry</th>\n",
       "      <th>computed_rotation</th>\n",
       "      <th>...</th>\n",
       "      <th>height</th>\n",
       "      <th>merge_cc</th>\n",
       "      <th>mesh</th>\n",
       "      <th>sequence</th>\n",
       "      <th>sfm_cluster</th>\n",
       "      <th>width</th>\n",
       "      <th>detections</th>\n",
       "      <th>mly_id</th>\n",
       "      <th>name</th>\n",
       "      <th>image_url</th>\n",
       "    </tr>\n",
       "  </thead>\n",
       "  <tbody>\n",
       "    <tr>\n",
       "      <th>0</th>\n",
       "      <td>41.782</td>\n",
       "      <td>1.002665</td>\n",
       "      <td>0.61739578749889,0.26131500830183,0.1242660260...</td>\n",
       "      <td>fisheye</td>\n",
       "      <td>2019-10-23T22:29:42+09:00</td>\n",
       "      <td>99.299232</td>\n",
       "      <td>1.795589</td>\n",
       "      <td>102.951814</td>\n",
       "      <td>POINT (140.95153462743 42.329677227362)</td>\n",
       "      <td>-1.0627190885041,-0.84029284280692,-1.15538369...</td>\n",
       "      <td>...</td>\n",
       "      <td>3000</td>\n",
       "      <td>1.926644e+18</td>\n",
       "      <td>{'id': '313263440182706', 'url': 'https://scon...</td>\n",
       "      <td>emgV_2cwMSoW9w7fkg7xJQ</td>\n",
       "      <td>{'id': '169747341731652', 'url': 'https://scon...</td>\n",
       "      <td>4000</td>\n",
       "      <td>{'data': [{'id': '916266259223890'}, {'id': '9...</td>\n",
       "      <td>915374089313107</td>\n",
       "      <td>mly|915374089313107</td>\n",
       "      <td>https://scontent-itm1-1.xx.fbcdn.net/m1/v/t6/A...</td>\n",
       "    </tr>\n",
       "  </tbody>\n",
       "</table>\n",
       "<p>1 rows × 22 columns</p>\n",
       "</div>"
      ],
      "text/plain": [
       "   altitude  atomic_scale                                  camera_parameters  \\\n",
       "0    41.782      1.002665  0.61739578749889,0.26131500830183,0.1242660260...   \n",
       "\n",
       "  camera_type                captured_at  compass_angle  computed_altitude  \\\n",
       "0     fisheye  2019-10-23T22:29:42+09:00      99.299232           1.795589   \n",
       "\n",
       "   computed_compass_angle                        computed_geometry  \\\n",
       "0              102.951814  POINT (140.95153462743 42.329677227362)   \n",
       "\n",
       "                                   computed_rotation  ...  height  \\\n",
       "0  -1.0627190885041,-0.84029284280692,-1.15538369...  ...    3000   \n",
       "\n",
       "       merge_cc                                               mesh  \\\n",
       "0  1.926644e+18  {'id': '313263440182706', 'url': 'https://scon...   \n",
       "\n",
       "                 sequence                                        sfm_cluster  \\\n",
       "0  emgV_2cwMSoW9w7fkg7xJQ  {'id': '169747341731652', 'url': 'https://scon...   \n",
       "\n",
       "  width                                         detections           mly_id  \\\n",
       "0  4000  {'data': [{'id': '916266259223890'}, {'id': '9...  915374089313107   \n",
       "\n",
       "                  name                                          image_url  \n",
       "0  mly|915374089313107  https://scontent-itm1-1.xx.fbcdn.net/m1/v/t6/A...  \n",
       "\n",
       "[1 rows x 22 columns]"
      ]
     },
     "execution_count": 5,
     "metadata": {},
     "output_type": "execute_result"
    }
   ],
   "source": [
    "image_id = 915374089313107\n",
    "image = importer.fetch_by_id(image_id)\n",
    "image"
   ]
  },
  {
   "cell_type": "markdown",
   "metadata": {},
   "source": [
    "By default, `landlens_db` will download all fields from the Mapillary image endpoint and default to `thumb_1024_url` as the `image_url`, however, you may specify a subset of fields using the `fields` argument and only these fields will be downloaded. Note, you must supply at least the `id`, `geometry`, and one of the image url fields.\n",
    "\n",
    "For example, using the `fetch_within_bbox` method of `landlens_db`:"
   ]
  },
  {
   "cell_type": "code",
   "execution_count": 6,
   "metadata": {},
   "outputs": [
    {
     "data": {
      "text/html": [
       "<div>\n",
       "<style scoped>\n",
       "    .dataframe tbody tr th:only-of-type {\n",
       "        vertical-align: middle;\n",
       "    }\n",
       "\n",
       "    .dataframe tbody tr th {\n",
       "        vertical-align: top;\n",
       "    }\n",
       "\n",
       "    .dataframe thead th {\n",
       "        text-align: right;\n",
       "    }\n",
       "</style>\n",
       "<table border=\"1\" class=\"dataframe\">\n",
       "  <thead>\n",
       "    <tr style=\"text-align: right;\">\n",
       "      <th></th>\n",
       "      <th>altitude</th>\n",
       "      <th>captured_at</th>\n",
       "      <th>camera_type</th>\n",
       "      <th>compass_angle</th>\n",
       "      <th>computed_compass_angle</th>\n",
       "      <th>computed_geometry</th>\n",
       "      <th>geometry</th>\n",
       "      <th>mly_id</th>\n",
       "      <th>name</th>\n",
       "      <th>image_url</th>\n",
       "    </tr>\n",
       "  </thead>\n",
       "  <tbody>\n",
       "    <tr>\n",
       "      <th>0</th>\n",
       "      <td>38.640</td>\n",
       "      <td>2022-03-16T02:46:44.229000+09:00</td>\n",
       "      <td>perspective</td>\n",
       "      <td>346.376743</td>\n",
       "      <td>350.233731</td>\n",
       "      <td>POINT (139.62202815944 35.87962303497)</td>\n",
       "      <td>POINT (139.62201 35.87961)</td>\n",
       "      <td>1056391831896042</td>\n",
       "      <td>mly|1056391831896042</td>\n",
       "      <td>https://scontent-itm1-1.xx.fbcdn.net/m1/v/t6/A...</td>\n",
       "    </tr>\n",
       "    <tr>\n",
       "      <th>1</th>\n",
       "      <td>40.539</td>\n",
       "      <td>2022-03-16T18:44:07.106000+09:00</td>\n",
       "      <td>perspective</td>\n",
       "      <td>264.977394</td>\n",
       "      <td>260.561395</td>\n",
       "      <td>POINT (139.62272895993 35.882495429369)</td>\n",
       "      <td>POINT (139.62280 35.88253)</td>\n",
       "      <td>117242294104865</td>\n",
       "      <td>mly|117242294104865</td>\n",
       "      <td>https://scontent-itm1-1.xx.fbcdn.net/m1/v/t6/A...</td>\n",
       "    </tr>\n",
       "    <tr>\n",
       "      <th>2</th>\n",
       "      <td>32.324</td>\n",
       "      <td>2022-03-16T02:39:30.831000+09:00</td>\n",
       "      <td>perspective</td>\n",
       "      <td>23.902162</td>\n",
       "      <td>27.524590</td>\n",
       "      <td>POINT (139.60894199878 35.866945069785)</td>\n",
       "      <td>POINT (139.60890 35.86694)</td>\n",
       "      <td>153264953775899</td>\n",
       "      <td>mly|153264953775899</td>\n",
       "      <td>https://scontent-itm1-1.xx.fbcdn.net/m1/v/t6/A...</td>\n",
       "    </tr>\n",
       "    <tr>\n",
       "      <th>3</th>\n",
       "      <td>35.907</td>\n",
       "      <td>2022-03-16T02:48:56.295000+09:00</td>\n",
       "      <td>perspective</td>\n",
       "      <td>77.650447</td>\n",
       "      <td>80.105901</td>\n",
       "      <td>POINT (139.6226116354 35.882501362048)</td>\n",
       "      <td>POINT (139.62258 35.88251)</td>\n",
       "      <td>173595095002718</td>\n",
       "      <td>mly|173595095002718</td>\n",
       "      <td>https://scontent-itm1-1.xx.fbcdn.net/m1/v/t6/A...</td>\n",
       "    </tr>\n",
       "    <tr>\n",
       "      <th>4</th>\n",
       "      <td>43.166</td>\n",
       "      <td>2022-03-16T18:48:37.162000+09:00</td>\n",
       "      <td>perspective</td>\n",
       "      <td>159.181296</td>\n",
       "      <td>163.441132</td>\n",
       "      <td>POINT (139.61837370823 35.877372117104)</td>\n",
       "      <td>POINT (139.61833 35.87740)</td>\n",
       "      <td>1131077224318050</td>\n",
       "      <td>mly|1131077224318050</td>\n",
       "      <td>https://scontent-itm1-1.xx.fbcdn.net/m1/v/t6/A...</td>\n",
       "    </tr>\n",
       "  </tbody>\n",
       "</table>\n",
       "</div>"
      ],
      "text/plain": [
       "   altitude                       captured_at  camera_type  compass_angle  \\\n",
       "0    38.640  2022-03-16T02:46:44.229000+09:00  perspective     346.376743   \n",
       "1    40.539  2022-03-16T18:44:07.106000+09:00  perspective     264.977394   \n",
       "2    32.324  2022-03-16T02:39:30.831000+09:00  perspective      23.902162   \n",
       "3    35.907  2022-03-16T02:48:56.295000+09:00  perspective      77.650447   \n",
       "4    43.166  2022-03-16T18:48:37.162000+09:00  perspective     159.181296   \n",
       "\n",
       "   computed_compass_angle                        computed_geometry  \\\n",
       "0              350.233731   POINT (139.62202815944 35.87962303497)   \n",
       "1              260.561395  POINT (139.62272895993 35.882495429369)   \n",
       "2               27.524590  POINT (139.60894199878 35.866945069785)   \n",
       "3               80.105901   POINT (139.6226116354 35.882501362048)   \n",
       "4              163.441132  POINT (139.61837370823 35.877372117104)   \n",
       "\n",
       "                     geometry            mly_id                  name  \\\n",
       "0  POINT (139.62201 35.87961)  1056391831896042  mly|1056391831896042   \n",
       "1  POINT (139.62280 35.88253)   117242294104865   mly|117242294104865   \n",
       "2  POINT (139.60890 35.86694)   153264953775899   mly|153264953775899   \n",
       "3  POINT (139.62258 35.88251)   173595095002718   mly|173595095002718   \n",
       "4  POINT (139.61833 35.87740)  1131077224318050  mly|1131077224318050   \n",
       "\n",
       "                                           image_url  \n",
       "0  https://scontent-itm1-1.xx.fbcdn.net/m1/v/t6/A...  \n",
       "1  https://scontent-itm1-1.xx.fbcdn.net/m1/v/t6/A...  \n",
       "2  https://scontent-itm1-1.xx.fbcdn.net/m1/v/t6/A...  \n",
       "3  https://scontent-itm1-1.xx.fbcdn.net/m1/v/t6/A...  \n",
       "4  https://scontent-itm1-1.xx.fbcdn.net/m1/v/t6/A...  "
      ]
     },
     "execution_count": 6,
     "metadata": {},
     "output_type": "execute_result"
    }
   ],
   "source": [
    "bbox = [139.59,35.865358, 139.719, 35.882781]\n",
    "start = '2022-03-16'\n",
    "end = '2022-03-16'\n",
    "fields = ['id', 'altitude', 'captured_at', 'camera_type', 'thumb_1024_url', \n",
    "          'compass_angle', 'computed_compass_angle', 'computed_geometry', 'geometry']\n",
    "\n",
    "images = importer.fetch_within_bbox(bbox, start_date=start, end_date=end, fields=fields)\n",
    "images.head()"
   ]
  },
  {
   "cell_type": "markdown",
   "metadata": {},
   "source": [
    "It is also important to realize that Mapillary image urls are not permanent. So, `landlens_db` offers a method to download Mapillary images and return a new `GeoImageFrame` with the updated the `image_url` to the new location."
   ]
  },
  {
   "cell_type": "code",
   "execution_count": null,
   "metadata": {},
   "outputs": [
    {
     "name": "stderr",
     "output_type": "stream",
     "text": [
      " 93%|█████████▎| 386/413 [01:43<00:08,  3.35it/s]"
     ]
    }
   ],
   "source": [
    "images = images.download_images_to_local(DOWNLOAD_DIR, filename_column='name')\n",
    "images.head()"
   ]
  },
  {
   "cell_type": "markdown",
   "metadata": {},
   "source": [
    "## Loading data from arbitrary sources\n",
    "It is also possible to read from any OGC-recognized vector file format, including ESRI shapefile, geojson, and geopackage, or to create a `GeoImageFrame` in the same manner as a geopandas dataframe by initializing it with data so long as it has a `name`, `image_url`, and `geometry` column.\n",
    "\n",
    "Data can also be imported from a PostreSQL postGIS enabled database. There is more information below on creating and exporting postgres tables for `landlens_db`.\n",
    "\n",
    "When reading from postgres, it can be beneficial to load a subset of data. This can be important when the database contains upwards of tens of thousands of images. For this purpose, there are several database utility and query functions to select only a subset of the data in the database."
   ]
  },
  {
   "cell_type": "markdown",
   "metadata": {},
   "source": [
    "# Processing Images\n",
    "\n",
    "Now that we have loaded some data, we can perform some simple processing on the images. Check the documentation for the current processing functions available. Here is an example of how `landlens_db` can be used to snap images to road networks.\n",
    "\n",
    "First, we need a road network to snap your images to. `landlens_db` also offers a helper function to download road networks from Open Street Map within a given bounding box."
   ]
  },
  {
   "cell_type": "code",
   "execution_count": null,
   "metadata": {},
   "outputs": [],
   "source": [
    "bbox = images['geometry'].total_bounds\n",
    "network = get_osm_lines(bbox)"
   ]
  },
  {
   "cell_type": "markdown",
   "metadata": {},
   "source": [
    "Then, calling the `snap_to_road_network` will snap all points to the closest road network (within the provided threshold distance) and will create a new geometry column in the `GeoImageFrame` falled `snapped_geometry` to represent this new point."
   ]
  },
  {
   "cell_type": "code",
   "execution_count": null,
   "metadata": {},
   "outputs": [],
   "source": [
    "snap_to_road_network(images, 100, network)"
   ]
  },
  {
   "cell_type": "markdown",
   "metadata": {},
   "source": [
    "## Snapping to a local road network\n",
    "\n",
    "It is also possible to load your own road network and snap to this. When doing this, it is important that all the image points are within a reasonable distance from any given road in your network and that the threshold is appropriately set. If you suspect that there are images far from a road, and you do need that image to be snapped to the closest road, then be sure to set a high enough threshold.\n",
    "\n",
    "Here is an example of how this can be achieved:\n",
    "\n",
    "```python\n",
    "roads_path = 'data/roads/*.shp'\n",
    "road_files = glob.glob(roads_path)\n",
    "roads = [gpd.read_file(road) for road in road_files]\n",
    "network = pd.concat(roads, ignore_index=True)\n",
    "snap_to_road_network(images, 100, network, realign_camera=True)\n",
    "```"
   ]
  },
  {
   "cell_type": "markdown",
   "metadata": {},
   "source": [
    "# Visualizing Images\n",
    "\n",
    "`landlens_db` provides a simple way to visualize its `GeoImageFrames` interactively using Folium. The `map` method of a `GeoImageFrame` will plot all images as markers on a map and will display the image on click along with any metadata set using the `additional_properties` argument as well as markers for any provided additional geometry."
   ]
  },
  {
   "cell_type": "code",
   "execution_count": null,
   "metadata": {},
   "outputs": [],
   "source": [
    "images.map(\n",
    "    additional_properties=['altitude', 'camera_type'],\n",
    "    additional_geometries=[\n",
    "        {'geometry': 'computed_geometry', 'angle': 'computed_compass_angle', 'label': 'Computed'},\n",
    "        {'geometry': 'snapped_geometry', 'angle': 'snapped_angle', 'label': 'Snapped'},\n",
    "    ]\n",
    ")"
   ]
  },
  {
   "cell_type": "markdown",
   "metadata": {},
   "source": [
    " "
   ]
  },
  {
   "cell_type": "markdown",
   "metadata": {},
   "source": [
    "# Storing Images\n",
    "\n",
    "`GeoImageFrame` data can be stored in a variety of formats. Given that it is built on GeoPandas the `GeoDataFrame` class, it will take any geodataframe method to save data. For instance, to save a table as a `geopackage`, we simply call:"
   ]
  },
  {
   "cell_type": "code",
   "execution_count": null,
   "metadata": {},
   "outputs": [],
   "source": [
    "images.to_file('data/images_tutorial.gpkg')"
   ]
  },
  {
   "cell_type": "markdown",
   "metadata": {},
   "source": [
    "However, in the current version when reading a saved vector format it is important to then initialize the GeoDataFrame as a GeoImageFrame if you want to make use of the features of `landlens_db`. For example:"
   ]
  },
  {
   "cell_type": "code",
   "execution_count": null,
   "metadata": {},
   "outputs": [],
   "source": [
    "images_gdf = gpd.read_file('data/images_tutorial.gpkg')\n",
    "images = GeoImageFrame(images_gdf)"
   ]
  },
  {
   "cell_type": "markdown",
   "metadata": {},
   "source": [
    "## Saving to a PostgreSQL Database\n",
    "\n",
    "`landlens_db` also offers functionality to store data in a PostGIS enabled PostgreSQL database. This is done by extending the `to_postgis` method of GeoPandas. There are some constraints, such as unique image_urls, that are automatically applied when storing data, as well as some data validity checks -- see the documentation for details. \n",
    "\n",
    "To save a `GeoImageFrame` to a PostgreSQL table, you will need to first initiate a connection to a PostgreSQL database. You can do this using the `ImageDB` class:"
   ]
  },
  {
   "cell_type": "code",
   "execution_count": null,
   "metadata": {},
   "outputs": [],
   "source": [
    "db_con = Postgres(DATABASE_URL)"
   ]
  },
  {
   "cell_type": "markdown",
   "metadata": {},
   "source": [
    "This database must already exist and have PostGIS loaded. \n",
    "\n",
    "Then, you can save using `to_postgis`:"
   ]
  },
  {
   "cell_type": "code",
   "execution_count": null,
   "metadata": {},
   "outputs": [],
   "source": [
    "images.to_postgis(DB_TABLE, db_con.engine, if_exists=\"replace\")"
   ]
  },
  {
   "cell_type": "markdown",
   "metadata": {},
   "source": [
    "### Updating an Existing Table\n",
    "\n",
    "When saving to PostgreSQL, you can choose to handle existing tables. `to_postgis` offers the same `fail`, `replace` and `append` methods that GeoPandas offers, however, `append` requires that all data going in will not conflict with any existing data. Instead, it is possible to \"upsert\" (insert and update) data into existing tables using the `upsert_images` class method of `Image_DB`. You may choose to either update conflicting records or skip them by declaring `\"update\"` or `\"nothing\"` in the conflict argument of the function."
   ]
  },
  {
   "cell_type": "code",
   "execution_count": null,
   "metadata": {},
   "outputs": [],
   "source": [
    "db_con.upsert_images(images, DB_TABLE, conflict='update')"
   ]
  },
  {
   "cell_type": "markdown",
   "metadata": {},
   "source": [
    "### Querying an Existing Table\n",
    "\n",
    "It is also possible to load and filter data from existing postgres connections. `landlens_db` offers simple filter functions to query and filter tables to provide a subset of the data. This can be important when working with very large datasets. For example, to load all images with an altitude greater than 50:"
   ]
  },
  {
   "cell_type": "code",
   "execution_count": null,
   "metadata": {},
   "outputs": [],
   "source": [
    "high_altitude_images = db_con.table(DB_TABLE).filter(altitude__gt=50).all()\n",
    "\n",
    "high_alt_map = high_altitude_images.map(\n",
    "    additional_properties=['altitude', 'camera_type'],\n",
    "    additional_geometries=[\n",
    "        {'geometry': 'geometry', 'angle': 'compass_angle', 'label': 'Base Geometry'},\n",
    "    ])\n",
    "high_alt_map.save('data/query_map.html')"
   ]
  },
  {
   "cell_type": "code",
   "execution_count": null,
   "metadata": {},
   "outputs": [],
   "source": [
    "high_alt_map"
   ]
  },
  {
   "cell_type": "code",
   "execution_count": null,
   "metadata": {},
   "outputs": [],
   "source": []
  }
 ],
 "metadata": {
  "kernelspec": {
   "display_name": "Python 3 (ipykernel)",
   "language": "python",
   "name": "python3"
  },
  "language_info": {
   "codemirror_mode": {
    "name": "ipython",
    "version": 3
   },
   "file_extension": ".py",
   "mimetype": "text/x-python",
   "name": "python",
   "nbconvert_exporter": "python",
   "pygments_lexer": "ipython3",
   "version": "3.11.6"
  }
 },
 "nbformat": 4,
 "nbformat_minor": 4
}
