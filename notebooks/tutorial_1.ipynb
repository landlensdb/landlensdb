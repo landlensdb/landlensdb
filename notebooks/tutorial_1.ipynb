{
 "cells": [
  {
   "cell_type": "markdown",
   "metadata": {
    "collapsed": true,
    "jupyter": {
     "outputs_hidden": true
    }
   },
   "source": [
    "# Tutorial 1: Loading, Processing, Visualizing, and Storing Data\n",
    "\n",
    "This short notebook demostrates how `landlens_db` can be used to load, process, visualize, and store street-view data from local file directories and Mapillary servers."
   ]
  },
  {
   "cell_type": "code",
   "execution_count": null,
   "metadata": {
    "ExecuteTime": {
     "end_time": "2024-01-22T01:35:01.121390Z",
     "start_time": "2024-01-22T01:34:58.761169Z"
    }
   },
   "outputs": [],
   "source": [
    "from landlens_db.handlers.cloud import Mapillary\n",
    "from landlens_db.handlers.image import Local\n",
    "from landlens_db.process.snap import create_bbox, get_osm_lines, snap_to_road_network\n",
    "from landlens_db.handlers.db import Postgres\n",
    "from landlens_db.geoclasses.geoimageframe import GeoImageFrame"
   ]
  },
  {
   "cell_type": "markdown",
   "metadata": {},
   "source": [
    "Before we get started, we will need to load our Mapillary API token and other environmental variables. For simplicity, we will use the `dotenv` library to please install this and create a .env file to follow this tutorial. You will also need to make sure that pandas and geopandas are installed in order to manipulate some of the data required for the tutorial."
   ]
  },
  {
   "cell_type": "code",
   "execution_count": null,
   "metadata": {
    "ExecuteTime": {
     "end_time": "2023-10-01T01:17:02.460954Z",
     "start_time": "2023-10-01T01:17:02.446709Z"
    }
   },
   "outputs": [],
   "source": [
    "import os\n",
    "import geopandas as gpd\n",
    "import glob\n",
    "import pandas as pd\n",
    "\n",
    "from dotenv import load_dotenv\n",
    "\n",
    "load_dotenv()\n",
    "\n",
    "MLY_TOKEN = os.environ.get(\"MLY_TOKEN\")\n",
    "LOCAL_IMAGES = os.environ.get(\"LOCAL_IMAGES\")\n",
    "DOWNLOAD_DIR = os.environ.get(\"DOWNLOAD_DIR\")\n",
    "DATABASE_URL = os.environ.get(\"DATABASE_URL\")\n",
    "DB_TABLE = os.environ.get(\"DB_TABLE\")"
   ]
  },
  {
   "cell_type": "markdown",
   "metadata": {},
   "source": [
    "# Loading Images\n",
    "\n",
    "`landlens_db` provides two simple ways to load images for the first time which can then be processed and stored for further analysis.\n",
    "\n",
    "## 1. Loading images from local directory\n",
    "\n",
    "To load images from a local directory, simply call the `load_images` function while providing the source directory to read from. Currently, only `jpeg` images are supported and it is best to provide the full path to the images."
   ]
  },
  {
   "cell_type": "code",
   "execution_count": null,
   "metadata": {},
   "outputs": [],
   "source": [
    "local_images = Local.load_images(LOCAL_IMAGES)\n",
    "local_images"
   ]
  },
  {
   "cell_type": "markdown",
   "metadata": {},
   "source": [
    "The resulting image is a GeoImageFrame, which is a simple extension of a Pandas GeoDataFrame with a few required column definitions and additional methods for visualization and data verification."
   ]
  },
  {
   "cell_type": "markdown",
   "metadata": {},
   "source": [
    "## 2. Loading images from mapillary"
   ]
  },
  {
   "cell_type": "markdown",
   "metadata": {},
   "source": [
    "`landlens_db` was made to work with Mapillary data and it includes helper functions to make calls to the Mapillary API and download and convert Mapillary data into a format for `landlens_db`.\n",
    "\n",
    "To use `landlens_db` to fetch data from Mapillary, you first need to initialize a Mapillary connection using your Mapillary Secret Token."
   ]
  },
  {
   "cell_type": "code",
   "execution_count": null,
   "metadata": {},
   "outputs": [],
   "source": [
    "importer = Mapillary(MLY_TOKEN)"
   ]
  },
  {
   "cell_type": "markdown",
   "metadata": {},
   "source": [
    "`landlens_db` offers a few functions to filter Mapillary data from their API. However, for more advanced filtering, we recommend that users use the `mapillary-python-sdk` and convert the resulting data into a GeoImageFrame.\n",
    "\n",
    "Here is an example of how to load data using the `fetch_by_id` method of `landlens_db`:"
   ]
  },
  {
   "cell_type": "code",
   "execution_count": null,
   "metadata": {},
   "outputs": [],
   "source": [
    "image_id = 915374089313107\n",
    "image = importer.fetch_by_id(image_id)\n",
    "image"
   ]
  },
  {
   "cell_type": "markdown",
   "metadata": {},
   "source": [
    "By default, `landlens_db` will download all fields from the Mapillary image endpoint and default to `thumb_1024_url` as the `image_url`, however, you may specify a subset of fields using the `fields` argument and only these fields will be downloaded. Note, you must supply at least the `id`, `geometry`, and one of the image url fields.\n",
    "\n",
    "For example, using the `fetch_within_bbox` method of `landlens_db`:"
   ]
  },
  {
   "cell_type": "code",
   "execution_count": null,
   "metadata": {},
   "outputs": [],
   "source": [
    "bbox = [139.59,35.865358, 139.719, 35.882781]\n",
    "start = '2022-03-16'\n",
    "end = '2022-03-16'\n",
    "fields = ['id', 'altitude', 'captured_at', 'camera_type', 'thumb_1024_url', \n",
    "          'compass_angle', 'computed_compass_angle', 'computed_geometry', 'geometry']\n",
    "\n",
    "images = importer.fetch_within_bbox(bbox, start_date=start, end_date=end, fields=fields)\n",
    "images.head()"
   ]
  },
  {
   "cell_type": "markdown",
   "metadata": {},
   "source": [
    "It is also important to realize that Mapillary image urls are not permanent. So, `landlens_db` offers a method to download Mapillary images and return a new `GeoImageFrame` with the updated the `image_url` to the new location."
   ]
  },
  {
   "cell_type": "code",
   "execution_count": null,
   "metadata": {},
   "outputs": [],
   "source": [
    "images = images.download_images_to_local(DOWNLOAD_DIR, filename_column='name')\n",
    "images.head()"
   ]
  },
  {
   "cell_type": "markdown",
   "metadata": {},
   "source": [
    "## Loading data from arbitrary sources\n",
    "It is also possible to read from any OGC-recognized vector file format, including ESRI shapefile, geojson, and geopackage, or to create a `GeoImageFrame` in the same manner as a geopandas dataframe by initializing it with data so long as it has a `name`, `image_url`, and `geometry` column.\n",
    "\n",
    "Data can also be imported from a PostreSQL postGIS enabled database. There is more information below on creating and exporting postgres tables for `landlens_db`.\n",
    "\n",
    "When reading from postgres, it can be beneficial to load a subset of data. This can be important when the database contains upwards of tens of thousands of images. For this purpose, there are several database utility and query functions to select only a subset of the data in the database."
   ]
  },
  {
   "cell_type": "markdown",
   "metadata": {},
   "source": [
    "# Processing Images\n",
    "\n",
    "Now that we have loaded some data, we can perform some simple processing on the images. Check the documentation for the current processing functions available. Here is an example of how `landlens_db` can be used to snap images to road networks.\n",
    "\n",
    "First, we need a road network to snap your images to. `landlens_db` also offers a helper function to download road networks from Open Street Map within a given bounding box."
   ]
  },
  {
   "cell_type": "code",
   "execution_count": null,
   "metadata": {},
   "outputs": [],
   "source": [
    "bbox = images['geometry'].total_bounds\n",
    "network = get_osm_lines(bbox)"
   ]
  },
  {
   "cell_type": "markdown",
   "metadata": {},
   "source": [
    "Then, calling the `snap_to_road_network` will snap all points to the closest road network (within the provided threshold distance) and will create a new geometry column in the `GeoImageFrame` falled `snapped_geometry` to represent this new point."
   ]
  },
  {
   "cell_type": "code",
   "execution_count": null,
   "metadata": {},
   "outputs": [],
   "source": [
    "snap_to_road_network(images, 100, network)"
   ]
  },
  {
   "cell_type": "markdown",
   "metadata": {},
   "source": [
    "## Snapping to a local road network\n",
    "\n",
    "It is also possible to load your own road network and snap to this. When doing this, it is important that all the image points are within a reasonable distance from any given road in your network and that the threshold is appropriately set. If you suspect that there are images far from a road, and you do need that image to be snapped to the closest road, then be sure to set a high enough threshold."
   ]
  },
  {
   "cell_type": "code",
   "execution_count": null,
   "metadata": {},
   "outputs": [],
   "source": [
    "roads_path = 'data/roads/*.shp'\n",
    "road_files = glob.glob(roads_path)\n",
    "roads = [gpd.read_file(road) for road in road_files]\n",
    "network = pd.concat(roads, ignore_index=True)"
   ]
  },
  {
   "cell_type": "code",
   "execution_count": null,
   "metadata": {},
   "outputs": [],
   "source": [
    "snap_to_road_network(images, 100, network, realign_camera=True)"
   ]
  },
  {
   "cell_type": "markdown",
   "metadata": {},
   "source": [
    "# Visualizing Images\n",
    "\n",
    "`landlens_db` provides a simple way to visualize its `GeoImageFrames` interactively using Folium. The `map` method of a `GeoImageFrame` will plot all images as markers on a map and will display the image on click along with any metadata set using the `additional_properties` argument as well as markers for any provided additional geometry."
   ]
  },
  {
   "cell_type": "code",
   "execution_count": null,
   "metadata": {
    "scrolled": true
   },
   "outputs": [],
   "source": [
    "images.map(\n",
    "    additional_properties=['altitude', 'camera_type'],\n",
    "    additional_geometries=[\n",
    "        {'geometry': 'computed_geometry', 'angle': 'computed_compass_angle', 'label': 'Computed'},\n",
    "        {'geometry': 'snapped_geometry', 'angle': 'snapped_angle', 'label': 'Snapped'},\n",
    "    ]\n",
    ")"
   ]
  },
  {
   "cell_type": "markdown",
   "metadata": {},
   "source": [
    " "
   ]
  },
  {
   "cell_type": "markdown",
   "metadata": {},
   "source": [
    "# Storing Images\n",
    "\n",
    "`GeoImageFrame` data can be stored in a variety of formats. Given that it is built on GeoPandas the `GeoDataFrame` class, it will take any geodataframe method to save data. For instance, to save a table as a `geopackage`, we simply call:"
   ]
  },
  {
   "cell_type": "code",
   "execution_count": null,
   "metadata": {},
   "outputs": [],
   "source": [
    "images.to_file('data/images_tutorial.gpkg')"
   ]
  },
  {
   "cell_type": "markdown",
   "metadata": {},
   "source": [
    "However, in the current version when reading a saved vector format it is important to then initialize the GeoDataFrame as a GeoImageFrame if you want to make use of the features of `landlens_db`. For example:"
   ]
  },
  {
   "cell_type": "code",
   "execution_count": null,
   "metadata": {},
   "outputs": [],
   "source": [
    "images_gdf = gpd.read_file('data/images_tutorial.gpkg')\n",
    "images = GeoImageFrame(images_gdf)"
   ]
  },
  {
   "cell_type": "markdown",
   "metadata": {},
   "source": [
    "## Saving to a PostgreSQL Database\n",
    "\n",
    "`landlens_db` also offers functionality to store data in a PostGIS enabled PostgreSQL database. This is done by extending the `to_postgis` method of GeoPandas. There are some constraints, such as unique image_urls, that are automatically applied when storing data, as well as some data validity checks -- see the documentation for details. \n",
    "\n",
    "To save a `GeoImageFrame` to a PostgreSQL table, you will need to first initiate a connection to a PostgreSQL database. You can do this using the `ImageDB` class:"
   ]
  },
  {
   "cell_type": "code",
   "execution_count": null,
   "metadata": {},
   "outputs": [],
   "source": [
    "db_con = Postgres(DATABASE_URL)"
   ]
  },
  {
   "cell_type": "markdown",
   "metadata": {},
   "source": [
    "This database must already exist and have PostGIS loaded. \n",
    "\n",
    "Then, you can save using `to_postgis`:"
   ]
  },
  {
   "cell_type": "code",
   "execution_count": null,
   "metadata": {},
   "outputs": [],
   "source": [
    "local_images.to_postgis(DB_TABLE, db_con.engine, if_exists=\"replace\")"
   ]
  },
  {
   "cell_type": "markdown",
   "metadata": {},
   "source": [
    "### Updating an Existing Table\n",
    "\n",
    "When saving to PostgreSQL, you can choose to handle existing tables. `to_postgis` offers the same `fail`, `replace` and `append` methods that GeoPandas offers, however, `append` requires that all data going in will not conflict with any existing data. Instead, it is possible to \"upsert\" (insert and update) data into existing tables using the `upsert_images` class method of `Image_DB`. You may choose to either update conflicting records or skip them by declaring `\"update\"` or `\"nothing\"` in the conflict argument of the function."
   ]
  },
  {
   "cell_type": "code",
   "execution_count": null,
   "metadata": {},
   "outputs": [],
   "source": [
    "db_con.upsert_images(local_images, DB_TABLE, conflict='update')"
   ]
  },
  {
   "cell_type": "markdown",
   "metadata": {},
   "source": [
    "### Querying an Existing Table\n",
    "\n",
    "It is also possible to load and filter data from existing postgres connections. `landlens_db` offers simple filter functions to query and filter tables to provide a subset of the data. This can be important when working with very large datasets. For example, to load all images with an altitude greater than 90:"
   ]
  },
  {
   "cell_type": "code",
   "execution_count": null,
   "metadata": {},
   "outputs": [],
   "source": [
    "high_altitude_images = db_con.table(DB_TABLE).filter(altitude__gt=40).all()\n",
    "\n",
    "high_alt_map = high_altitude_images.map(\n",
    "    additional_properties=['altitude', 'camera_type'],\n",
    "    additional_geometries=[\n",
    "        {'geometry': 'geometry', 'angle': 'compass_angle', 'label': 'Base Geometry'},\n",
    "    ])\n",
    "high_alt_map.save('data/query_map.html')"
   ]
  }
 ],
 "metadata": {
  "kernelspec": {
   "display_name": "Python 3 (ipykernel)",
   "language": "python",
   "name": "python3"
  },
  "language_info": {
   "codemirror_mode": {
    "name": "ipython",
    "version": 3
   },
   "file_extension": ".py",
   "mimetype": "text/x-python",
   "name": "python",
   "nbconvert_exporter": "python",
   "pygments_lexer": "ipython3",
   "version": "3.11.6"
  }
 },
 "nbformat": 4,
 "nbformat_minor": 4
}
