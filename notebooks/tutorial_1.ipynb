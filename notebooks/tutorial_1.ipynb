{
 "cells": [
  {
   "cell_type": "markdown",
   "metadata": {
    "collapsed": true
   },
   "source": [
    "# Tutorial 1: Loading, Processing, Visualizing, and Storing Data\n",
    "\n",
    "This short notebook demostrates how `landlens_db` can be used to load, process, visualize, and store street-view data from local file directories and Mapillary servers."
   ]
  },
  {
   "cell_type": "code",
   "execution_count": 1,
   "metadata": {
    "ExecuteTime": {
     "end_time": "2023-08-19T03:30:09.294975Z",
     "start_time": "2023-08-19T03:30:09.245432Z"
    }
   },
   "outputs": [],
   "source": [
    "from landlens_db.handlers.cloud import Mapillary\n",
    "from landlens_db.handlers.image import Local\n",
    "from landlens_db.process.snap import create_bbox, get_osm_lines, snap_to_road_network\n",
    "from landlens_db.handlers.db import Postgres"
   ]
  },
  {
   "cell_type": "markdown",
   "metadata": {},
   "source": [
    "Before we get started, we will need to load our Mapillary API token and other environmental variables. For simplicity, we will use the `dotenv` library to please install this and create a .env file to follow this tutorial."
   ]
  },
  {
   "cell_type": "code",
   "execution_count": 2,
   "metadata": {},
   "outputs": [],
   "source": [
    "import os\n",
    "\n",
    "from dotenv import load_dotenv\n",
    "\n",
    "load_dotenv()\n",
    "\n",
    "MLY_TOKEN = os.environ.get(\"MLY_TOKEN\")\n",
    "LOCAL_IMAGES = os.environ.get(\"LOCAL_IMAGES\")\n",
    "DOWNLOAD_DIR = os.environ.get(\"DOWNLOAD_DIR\")\n",
    "DATABASE_URL = os.environ.get(\"DATABASE_URL\")\n",
    "DB_TABLE = os.environ.get(\"DB_TABLE\")"
   ]
  },
  {
   "cell_type": "markdown",
   "metadata": {},
   "source": [
    "# Loading Images\n",
    "\n",
    "`landlens_db` provides two simple ways to load images for the first time which can then be processed and stored for further analysis.\n",
    "\n",
    "## 1. Loading images from local directory\n",
    "\n",
    "To load images from a local directory, simply call the `load_images` function while providing the source directory to read from. Currently, only `jpeg` images are supported and it is best to provide the full path to the images."
   ]
  },
  {
   "cell_type": "code",
   "execution_count": 3,
   "metadata": {},
   "outputs": [
    {
     "data": {
      "text/html": [
       "<div>\n",
       "<style scoped>\n",
       "    .dataframe tbody tr th:only-of-type {\n",
       "        vertical-align: middle;\n",
       "    }\n",
       "\n",
       "    .dataframe tbody tr th {\n",
       "        vertical-align: top;\n",
       "    }\n",
       "\n",
       "    .dataframe thead th {\n",
       "        text-align: right;\n",
       "    }\n",
       "</style>\n",
       "<table border=\"1\" class=\"dataframe\">\n",
       "  <thead>\n",
       "    <tr style=\"text-align: right;\">\n",
       "      <th></th>\n",
       "      <th>name</th>\n",
       "      <th>altitude</th>\n",
       "      <th>camera_type</th>\n",
       "      <th>camera_parameters</th>\n",
       "      <th>captured_at</th>\n",
       "      <th>compass_angle</th>\n",
       "      <th>exif_orientation</th>\n",
       "      <th>image_url</th>\n",
       "      <th>geometry</th>\n",
       "    </tr>\n",
       "  </thead>\n",
       "  <tbody>\n",
       "    <tr>\n",
       "      <th>0</th>\n",
       "      <td>IMG_0408.jpeg</td>\n",
       "      <td>234.415619</td>\n",
       "      <td>NaN</td>\n",
       "      <td>NaN</td>\n",
       "      <td>2023-03-06T11:04:19+03:00</td>\n",
       "      <td>316.262604</td>\n",
       "      <td>1.0</td>\n",
       "      <td>/Users/iosefa/repos/misc/SU_GCPsystem/notebook...</td>\n",
       "      <td>POINT (46.79483 -16.33181)</td>\n",
       "    </tr>\n",
       "    <tr>\n",
       "      <th>1</th>\n",
       "      <td>IMG_0404.jpeg</td>\n",
       "      <td>235.402679</td>\n",
       "      <td>NaN</td>\n",
       "      <td>NaN</td>\n",
       "      <td>2023-03-06T11:04:15+03:00</td>\n",
       "      <td>76.328430</td>\n",
       "      <td>1.0</td>\n",
       "      <td>/Users/iosefa/repos/misc/SU_GCPsystem/notebook...</td>\n",
       "      <td>POINT (46.79484 -16.33181)</td>\n",
       "    </tr>\n",
       "    <tr>\n",
       "      <th>2</th>\n",
       "      <td>IMG_0405.jpeg</td>\n",
       "      <td>235.890045</td>\n",
       "      <td>NaN</td>\n",
       "      <td>NaN</td>\n",
       "      <td>2023-03-06T11:04:15+03:00</td>\n",
       "      <td>45.822021</td>\n",
       "      <td>1.0</td>\n",
       "      <td>/Users/iosefa/repos/misc/SU_GCPsystem/notebook...</td>\n",
       "      <td>POINT (46.79484 -16.33181)</td>\n",
       "    </tr>\n",
       "    <tr>\n",
       "      <th>3</th>\n",
       "      <td>IMG_0409.jpeg</td>\n",
       "      <td>234.390961</td>\n",
       "      <td>NaN</td>\n",
       "      <td>NaN</td>\n",
       "      <td>2023-03-06T11:04:20+03:00</td>\n",
       "      <td>271.465851</td>\n",
       "      <td>1.0</td>\n",
       "      <td>/Users/iosefa/repos/misc/SU_GCPsystem/notebook...</td>\n",
       "      <td>POINT (46.79483 -16.33181)</td>\n",
       "    </tr>\n",
       "    <tr>\n",
       "      <th>4</th>\n",
       "      <td>IMG_0403.jpeg</td>\n",
       "      <td>235.643890</td>\n",
       "      <td>NaN</td>\n",
       "      <td>NaN</td>\n",
       "      <td>2023-03-06T11:04:14+03:00</td>\n",
       "      <td>97.850014</td>\n",
       "      <td>1.0</td>\n",
       "      <td>/Users/iosefa/repos/misc/SU_GCPsystem/notebook...</td>\n",
       "      <td>POINT (46.79484 -16.33182)</td>\n",
       "    </tr>\n",
       "    <tr>\n",
       "      <th>5</th>\n",
       "      <td>IMG_0410.jpeg</td>\n",
       "      <td>234.289215</td>\n",
       "      <td>NaN</td>\n",
       "      <td>NaN</td>\n",
       "      <td>2023-03-06T11:04:21+03:00</td>\n",
       "      <td>254.171234</td>\n",
       "      <td>1.0</td>\n",
       "      <td>/Users/iosefa/repos/misc/SU_GCPsystem/notebook...</td>\n",
       "      <td>POINT (46.79483 -16.33181)</td>\n",
       "    </tr>\n",
       "    <tr>\n",
       "      <th>6</th>\n",
       "      <td>IMG_0406.jpeg</td>\n",
       "      <td>235.161835</td>\n",
       "      <td>NaN</td>\n",
       "      <td>NaN</td>\n",
       "      <td>2023-03-06T11:04:16+03:00</td>\n",
       "      <td>36.924500</td>\n",
       "      <td>1.0</td>\n",
       "      <td>/Users/iosefa/repos/misc/SU_GCPsystem/notebook...</td>\n",
       "      <td>POINT (46.79484 -16.33181)</td>\n",
       "    </tr>\n",
       "    <tr>\n",
       "      <th>7</th>\n",
       "      <td>IMG_0407.jpeg</td>\n",
       "      <td>234.766693</td>\n",
       "      <td>NaN</td>\n",
       "      <td>NaN</td>\n",
       "      <td>2023-03-06T11:04:18+03:00</td>\n",
       "      <td>350.140991</td>\n",
       "      <td>1.0</td>\n",
       "      <td>/Users/iosefa/repos/misc/SU_GCPsystem/notebook...</td>\n",
       "      <td>POINT (46.79484 -16.33181)</td>\n",
       "    </tr>\n",
       "    <tr>\n",
       "      <th>8</th>\n",
       "      <td>IMG_0411.jpeg</td>\n",
       "      <td>234.289215</td>\n",
       "      <td>NaN</td>\n",
       "      <td>NaN</td>\n",
       "      <td>2023-03-06T11:04:22+03:00</td>\n",
       "      <td>248.655853</td>\n",
       "      <td>1.0</td>\n",
       "      <td>/Users/iosefa/repos/misc/SU_GCPsystem/notebook...</td>\n",
       "      <td>POINT (46.79483 -16.33181)</td>\n",
       "    </tr>\n",
       "  </tbody>\n",
       "</table>\n",
       "</div>"
      ],
      "text/plain": [
       "            name    altitude  camera_type  camera_parameters  \\\n",
       "0  IMG_0408.jpeg  234.415619          NaN                NaN   \n",
       "1  IMG_0404.jpeg  235.402679          NaN                NaN   \n",
       "2  IMG_0405.jpeg  235.890045          NaN                NaN   \n",
       "3  IMG_0409.jpeg  234.390961          NaN                NaN   \n",
       "4  IMG_0403.jpeg  235.643890          NaN                NaN   \n",
       "5  IMG_0410.jpeg  234.289215          NaN                NaN   \n",
       "6  IMG_0406.jpeg  235.161835          NaN                NaN   \n",
       "7  IMG_0407.jpeg  234.766693          NaN                NaN   \n",
       "8  IMG_0411.jpeg  234.289215          NaN                NaN   \n",
       "\n",
       "                 captured_at  compass_angle  exif_orientation  \\\n",
       "0  2023-03-06T11:04:19+03:00     316.262604               1.0   \n",
       "1  2023-03-06T11:04:15+03:00      76.328430               1.0   \n",
       "2  2023-03-06T11:04:15+03:00      45.822021               1.0   \n",
       "3  2023-03-06T11:04:20+03:00     271.465851               1.0   \n",
       "4  2023-03-06T11:04:14+03:00      97.850014               1.0   \n",
       "5  2023-03-06T11:04:21+03:00     254.171234               1.0   \n",
       "6  2023-03-06T11:04:16+03:00      36.924500               1.0   \n",
       "7  2023-03-06T11:04:18+03:00     350.140991               1.0   \n",
       "8  2023-03-06T11:04:22+03:00     248.655853               1.0   \n",
       "\n",
       "                                           image_url  \\\n",
       "0  /Users/iosefa/repos/misc/SU_GCPsystem/notebook...   \n",
       "1  /Users/iosefa/repos/misc/SU_GCPsystem/notebook...   \n",
       "2  /Users/iosefa/repos/misc/SU_GCPsystem/notebook...   \n",
       "3  /Users/iosefa/repos/misc/SU_GCPsystem/notebook...   \n",
       "4  /Users/iosefa/repos/misc/SU_GCPsystem/notebook...   \n",
       "5  /Users/iosefa/repos/misc/SU_GCPsystem/notebook...   \n",
       "6  /Users/iosefa/repos/misc/SU_GCPsystem/notebook...   \n",
       "7  /Users/iosefa/repos/misc/SU_GCPsystem/notebook...   \n",
       "8  /Users/iosefa/repos/misc/SU_GCPsystem/notebook...   \n",
       "\n",
       "                     geometry  \n",
       "0  POINT (46.79483 -16.33181)  \n",
       "1  POINT (46.79484 -16.33181)  \n",
       "2  POINT (46.79484 -16.33181)  \n",
       "3  POINT (46.79483 -16.33181)  \n",
       "4  POINT (46.79484 -16.33182)  \n",
       "5  POINT (46.79483 -16.33181)  \n",
       "6  POINT (46.79484 -16.33181)  \n",
       "7  POINT (46.79484 -16.33181)  \n",
       "8  POINT (46.79483 -16.33181)  "
      ]
     },
     "execution_count": 3,
     "metadata": {},
     "output_type": "execute_result"
    }
   ],
   "source": [
    "local_images = Local.load_images(LOCAL_IMAGES)\n",
    "local_images"
   ]
  },
  {
   "cell_type": "markdown",
   "metadata": {},
   "source": [
    "The resulting image is a GeoImageFrame, which is a simple extension of a Pandas GeoDataFrame with a few required column definitions and additional methods for visualization and data verification."
   ]
  },
  {
   "cell_type": "markdown",
   "metadata": {},
   "source": [
    "## 2. Loading images from mapillary"
   ]
  },
  {
   "cell_type": "markdown",
   "metadata": {},
   "source": [
    "`landlens_db` was made to work with Mapillary data and it includes helper functions to make calls to the Mapillary API and download and convert Mapillary data into a format for `landlens_db`.\n",
    "\n",
    "To use `landlens_db` to fetch data from Mapillary, you first need to initialize a Mapillary connection using your Mapillary Secret Token."
   ]
  },
  {
   "cell_type": "code",
   "execution_count": 4,
   "metadata": {},
   "outputs": [],
   "source": [
    "importer = Mapillary(MLY_TOKEN)"
   ]
  },
  {
   "cell_type": "markdown",
   "metadata": {},
   "source": [
    "`landlens_db` offers a few functions to filter Mapillary data from their API. However, for more advanced filtering, we recommend that users use the `mapillary-python-sdk` and convert the resulting data into a GeoImageFrame.\n",
    "\n",
    "Here is an example of how to load data using the `fetch_by_id` method of `landlens_db`:"
   ]
  },
  {
   "cell_type": "code",
   "execution_count": 5,
   "metadata": {},
   "outputs": [
    {
     "data": {
      "text/html": [
       "<div>\n",
       "<style scoped>\n",
       "    .dataframe tbody tr th:only-of-type {\n",
       "        vertical-align: middle;\n",
       "    }\n",
       "\n",
       "    .dataframe tbody tr th {\n",
       "        vertical-align: top;\n",
       "    }\n",
       "\n",
       "    .dataframe thead th {\n",
       "        text-align: right;\n",
       "    }\n",
       "</style>\n",
       "<table border=\"1\" class=\"dataframe\">\n",
       "  <thead>\n",
       "    <tr style=\"text-align: right;\">\n",
       "      <th></th>\n",
       "      <th>altitude</th>\n",
       "      <th>atomic_scale</th>\n",
       "      <th>camera_parameters</th>\n",
       "      <th>camera_type</th>\n",
       "      <th>captured_at</th>\n",
       "      <th>compass_angle</th>\n",
       "      <th>computed_altitude</th>\n",
       "      <th>computed_compass_angle</th>\n",
       "      <th>computed_geometry</th>\n",
       "      <th>computed_rotation</th>\n",
       "      <th>...</th>\n",
       "      <th>height</th>\n",
       "      <th>merge_cc</th>\n",
       "      <th>mesh</th>\n",
       "      <th>sequence</th>\n",
       "      <th>sfm_cluster</th>\n",
       "      <th>width</th>\n",
       "      <th>detections</th>\n",
       "      <th>mly_id</th>\n",
       "      <th>name</th>\n",
       "      <th>image_url</th>\n",
       "    </tr>\n",
       "  </thead>\n",
       "  <tbody>\n",
       "    <tr>\n",
       "      <th>0</th>\n",
       "      <td>41.782</td>\n",
       "      <td>1.002665</td>\n",
       "      <td>0.61739578749889,0.26131500830183,0.1242660260...</td>\n",
       "      <td>fisheye</td>\n",
       "      <td>2019-10-23T22:29:42+09:00</td>\n",
       "      <td>99.299232</td>\n",
       "      <td>1.795589</td>\n",
       "      <td>102.951814</td>\n",
       "      <td>POINT (140.95153462743 42.329677227362)</td>\n",
       "      <td>-1.0627190885041,-0.84029284280692,-1.15538369...</td>\n",
       "      <td>...</td>\n",
       "      <td>3000</td>\n",
       "      <td>1.926644e+18</td>\n",
       "      <td>{'id': '313263440182706', 'url': 'https://scon...</td>\n",
       "      <td>emgV_2cwMSoW9w7fkg7xJQ</td>\n",
       "      <td>{'id': '169747341731652', 'url': 'https://scon...</td>\n",
       "      <td>4000</td>\n",
       "      <td>{'data': [{'id': '916266259223890'}, {'id': '9...</td>\n",
       "      <td>915374089313107</td>\n",
       "      <td>mly|915374089313107</td>\n",
       "      <td>https://scontent-itm1-1.xx.fbcdn.net/m1/v/t6/A...</td>\n",
       "    </tr>\n",
       "  </tbody>\n",
       "</table>\n",
       "<p>1 rows × 22 columns</p>\n",
       "</div>"
      ],
      "text/plain": [
       "   altitude  atomic_scale                                  camera_parameters  \\\n",
       "0    41.782      1.002665  0.61739578749889,0.26131500830183,0.1242660260...   \n",
       "\n",
       "  camera_type                captured_at  compass_angle  computed_altitude  \\\n",
       "0     fisheye  2019-10-23T22:29:42+09:00      99.299232           1.795589   \n",
       "\n",
       "   computed_compass_angle                        computed_geometry  \\\n",
       "0              102.951814  POINT (140.95153462743 42.329677227362)   \n",
       "\n",
       "                                   computed_rotation  ...  height  \\\n",
       "0  -1.0627190885041,-0.84029284280692,-1.15538369...  ...    3000   \n",
       "\n",
       "       merge_cc                                               mesh  \\\n",
       "0  1.926644e+18  {'id': '313263440182706', 'url': 'https://scon...   \n",
       "\n",
       "                 sequence                                        sfm_cluster  \\\n",
       "0  emgV_2cwMSoW9w7fkg7xJQ  {'id': '169747341731652', 'url': 'https://scon...   \n",
       "\n",
       "  width                                         detections           mly_id  \\\n",
       "0  4000  {'data': [{'id': '916266259223890'}, {'id': '9...  915374089313107   \n",
       "\n",
       "                  name                                          image_url  \n",
       "0  mly|915374089313107  https://scontent-itm1-1.xx.fbcdn.net/m1/v/t6/A...  \n",
       "\n",
       "[1 rows x 22 columns]"
      ]
     },
     "execution_count": 5,
     "metadata": {},
     "output_type": "execute_result"
    }
   ],
   "source": [
    "image_id = 915374089313107\n",
    "image = importer.fetch_by_id(image_id)\n",
    "image"
   ]
  },
  {
   "cell_type": "markdown",
   "metadata": {},
   "source": [
    "By default, `landlens_db` will download all fields from the Mapillary image endpoint and default to `thumb_1024_url` as the `image_url`, however, you may specify a subset of fields using the `fields` argument and only these fields will be downloaded. Note, you must supply at least the `id`, `geometry`, and one of the image url fields.\n",
    "\n",
    "For example, using the `fetch_within_bbox` method of `landlens_db`:"
   ]
  },
  {
   "cell_type": "code",
   "execution_count": 6,
   "metadata": {},
   "outputs": [
    {
     "data": {
      "text/html": [
       "<div>\n",
       "<style scoped>\n",
       "    .dataframe tbody tr th:only-of-type {\n",
       "        vertical-align: middle;\n",
       "    }\n",
       "\n",
       "    .dataframe tbody tr th {\n",
       "        vertical-align: top;\n",
       "    }\n",
       "\n",
       "    .dataframe thead th {\n",
       "        text-align: right;\n",
       "    }\n",
       "</style>\n",
       "<table border=\"1\" class=\"dataframe\">\n",
       "  <thead>\n",
       "    <tr style=\"text-align: right;\">\n",
       "      <th></th>\n",
       "      <th>altitude</th>\n",
       "      <th>captured_at</th>\n",
       "      <th>camera_type</th>\n",
       "      <th>compass_angle</th>\n",
       "      <th>computed_compass_angle</th>\n",
       "      <th>computed_geometry</th>\n",
       "      <th>geometry</th>\n",
       "      <th>mly_id</th>\n",
       "      <th>name</th>\n",
       "      <th>image_url</th>\n",
       "    </tr>\n",
       "  </thead>\n",
       "  <tbody>\n",
       "    <tr>\n",
       "      <th>0</th>\n",
       "      <td>34.975</td>\n",
       "      <td>2022-03-16T02:41:19.528000+09:00</td>\n",
       "      <td>perspective</td>\n",
       "      <td>42.970322</td>\n",
       "      <td>46.209636</td>\n",
       "      <td>POINT (139.61239707207 35.871141381525)</td>\n",
       "      <td>POINT (139.61240 35.87114)</td>\n",
       "      <td>299546542319671</td>\n",
       "      <td>mly|299546542319671</td>\n",
       "      <td>https://scontent-itm1-1.xx.fbcdn.net/m1/v/t6/A...</td>\n",
       "    </tr>\n",
       "    <tr>\n",
       "      <th>1</th>\n",
       "      <td>41.309</td>\n",
       "      <td>2022-03-16T18:56:36.661000+09:00</td>\n",
       "      <td>perspective</td>\n",
       "      <td>202.128802</td>\n",
       "      <td>221.326738</td>\n",
       "      <td>POINT (139.60745555678 35.865689760533)</td>\n",
       "      <td>POINT (139.60748 35.86568)</td>\n",
       "      <td>300944295501229</td>\n",
       "      <td>mly|300944295501229</td>\n",
       "      <td>https://scontent-itm1-1.xx.fbcdn.net/m1/v/t6/A...</td>\n",
       "    </tr>\n",
       "    <tr>\n",
       "      <th>2</th>\n",
       "      <td>34.437</td>\n",
       "      <td>2022-03-16T02:41:57.566000+09:00</td>\n",
       "      <td>perspective</td>\n",
       "      <td>72.578801</td>\n",
       "      <td>77.332552</td>\n",
       "      <td>POINT (139.61550361336 35.873564406129)</td>\n",
       "      <td>POINT (139.61551 35.87356)</td>\n",
       "      <td>371621861497805</td>\n",
       "      <td>mly|371621861497805</td>\n",
       "      <td>https://scontent-itm1-1.xx.fbcdn.net/m1/v/t6/A...</td>\n",
       "    </tr>\n",
       "    <tr>\n",
       "      <th>3</th>\n",
       "      <td>41.177</td>\n",
       "      <td>2022-03-16T18:53:21.195000+09:00</td>\n",
       "      <td>perspective</td>\n",
       "      <td>224.595162</td>\n",
       "      <td>212.542672</td>\n",
       "      <td>POINT (139.61073555279 35.869700853668)</td>\n",
       "      <td>POINT (139.61066 35.86959)</td>\n",
       "      <td>545548607102962</td>\n",
       "      <td>mly|545548607102962</td>\n",
       "      <td>https://scontent-itm1-1.xx.fbcdn.net/m1/v/t6/A...</td>\n",
       "    </tr>\n",
       "    <tr>\n",
       "      <th>4</th>\n",
       "      <td>29.667</td>\n",
       "      <td>2022-03-16T02:39:58.859000+09:00</td>\n",
       "      <td>perspective</td>\n",
       "      <td>11.349259</td>\n",
       "      <td>32.590271</td>\n",
       "      <td>POINT (139.60971216668 35.868834586973)</td>\n",
       "      <td>POINT (139.60969 35.86879)</td>\n",
       "      <td>667236887843966</td>\n",
       "      <td>mly|667236887843966</td>\n",
       "      <td>https://scontent-itm1-1.xx.fbcdn.net/m1/v/t6/A...</td>\n",
       "    </tr>\n",
       "  </tbody>\n",
       "</table>\n",
       "</div>"
      ],
      "text/plain": [
       "   altitude                       captured_at  camera_type  compass_angle  \\\n",
       "0    34.975  2022-03-16T02:41:19.528000+09:00  perspective      42.970322   \n",
       "1    41.309  2022-03-16T18:56:36.661000+09:00  perspective     202.128802   \n",
       "2    34.437  2022-03-16T02:41:57.566000+09:00  perspective      72.578801   \n",
       "3    41.177  2022-03-16T18:53:21.195000+09:00  perspective     224.595162   \n",
       "4    29.667  2022-03-16T02:39:58.859000+09:00  perspective      11.349259   \n",
       "\n",
       "   computed_compass_angle                        computed_geometry  \\\n",
       "0               46.209636  POINT (139.61239707207 35.871141381525)   \n",
       "1              221.326738  POINT (139.60745555678 35.865689760533)   \n",
       "2               77.332552  POINT (139.61550361336 35.873564406129)   \n",
       "3              212.542672  POINT (139.61073555279 35.869700853668)   \n",
       "4               32.590271  POINT (139.60971216668 35.868834586973)   \n",
       "\n",
       "                     geometry           mly_id                 name  \\\n",
       "0  POINT (139.61240 35.87114)  299546542319671  mly|299546542319671   \n",
       "1  POINT (139.60748 35.86568)  300944295501229  mly|300944295501229   \n",
       "2  POINT (139.61551 35.87356)  371621861497805  mly|371621861497805   \n",
       "3  POINT (139.61066 35.86959)  545548607102962  mly|545548607102962   \n",
       "4  POINT (139.60969 35.86879)  667236887843966  mly|667236887843966   \n",
       "\n",
       "                                           image_url  \n",
       "0  https://scontent-itm1-1.xx.fbcdn.net/m1/v/t6/A...  \n",
       "1  https://scontent-itm1-1.xx.fbcdn.net/m1/v/t6/A...  \n",
       "2  https://scontent-itm1-1.xx.fbcdn.net/m1/v/t6/A...  \n",
       "3  https://scontent-itm1-1.xx.fbcdn.net/m1/v/t6/A...  \n",
       "4  https://scontent-itm1-1.xx.fbcdn.net/m1/v/t6/A...  "
      ]
     },
     "execution_count": 6,
     "metadata": {},
     "output_type": "execute_result"
    }
   ],
   "source": [
    "bbox = [139.59,35.865358, 139.719, 35.882781]\n",
    "start = '2022-03-16'\n",
    "end = '2022-03-16'\n",
    "fields = ['id', 'altitude', 'captured_at', 'camera_type', 'thumb_1024_url', \n",
    "          'compass_angle', 'computed_compass_angle', 'computed_geometry', 'geometry']\n",
    "\n",
    "images = importer.fetch_within_bbox(bbox, start_date=start, end_date=end, fields=fields)\n",
    "images.head()"
   ]
  },
  {
   "cell_type": "markdown",
   "metadata": {},
   "source": [
    "It is also important to realize that Mapillary image urls are not permanent. So, `landlens_db` offers a method to download Mapillary images and return a new `GeoImageFrame` with the updated the `image_url` to the new location."
   ]
  },
  {
   "cell_type": "code",
   "execution_count": null,
   "metadata": {},
   "outputs": [
    {
     "name": "stderr",
     "output_type": "stream",
     "text": [
      " 65%|██████▍   | 267/413 [01:10<00:38,  3.79it/s]"
     ]
    }
   ],
   "source": [
    "images = images.download_images_to_local(DOWNLOAD_DIR, filename_column='name')\n",
    "images.head()"
   ]
  },
  {
   "cell_type": "markdown",
   "metadata": {},
   "source": [
    "## Loading data from arbitrary sources\n",
    "It is also possible to read from any OGC-recognized vector file format, including ESRI shapefile, geojson, and geopackage, or to create a `GeoImageFrame` in the same manner as a geopandas dataframe by initializing it with data so long as it has a `name`, `image_url`, and `geometry` column.\n",
    "\n",
    "Data can also be imported from a PostreSQL postGIS enabled database. There is more information below on creating and exporting postgres tables for `landlens_db`.\n",
    "\n",
    "When reading from postgres, it can be beneficial to load a subset of data. This can be important when the database contains upwards of tens of thousands of images. For this purpose, there are several database utility and query functions to select only a subset of the data in the database."
   ]
  },
  {
   "cell_type": "markdown",
   "metadata": {},
   "source": [
    "# Processing Images\n",
    "\n",
    "Now that we have loaded some data, we can perform some simple processing on the images. Check the documentation for the current processing functions available. Here is an example of how `landlens_db` can be used to snap images to road networks.\n",
    "\n",
    "First, we need a road network to snap your images to. `landlens_db` also offers a helper function to download road networks from Open Street Map within a given bounding box."
   ]
  },
  {
   "cell_type": "code",
   "execution_count": null,
   "metadata": {},
   "outputs": [],
   "source": [
    "bbox = images['geometry'].total_bounds\n",
    "network = get_osm_lines(bbox)"
   ]
  },
  {
   "cell_type": "markdown",
   "metadata": {},
   "source": [
    "Then, calling the `snap_to_road_network` will snap all points to the closest road network (within the provided threshold distance) and will create a new geometry column in the `GeoImageFrame` falled `snapped_geometry` to represent this new point."
   ]
  },
  {
   "cell_type": "code",
   "execution_count": null,
   "metadata": {
    "scrolled": false
   },
   "outputs": [],
   "source": [
    "snap_to_road_network(images, 100, network)"
   ]
  },
  {
   "cell_type": "markdown",
   "metadata": {},
   "source": [
    "# Visualizing Images\n",
    "\n",
    "`landlens_db` provides a simple way to visualize its `GeoImageFrames` interactively using Folium. The `map` method of a `GeoImageFrame` will plot all images as markers on a map and will display the image on click along with any metadata set using the `additional_properties` argument as well as markers for any provided additional geometry."
   ]
  },
  {
   "cell_type": "code",
   "execution_count": null,
   "metadata": {},
   "outputs": [],
   "source": [
    "images.map(\n",
    "    additional_properties=['altitude', 'camera_type'],\n",
    "    additional_geometries=[\n",
    "        {'geometry': 'computed_geometry', 'angle': 'computed_compass_angle', 'label': 'Computed'},\n",
    "        {'geometry': 'snapped_geometry', 'angle': 'snapped_angle', 'label': 'Snapped'},\n",
    "    ]\n",
    ")"
   ]
  },
  {
   "cell_type": "markdown",
   "metadata": {},
   "source": [
    " "
   ]
  },
  {
   "cell_type": "markdown",
   "metadata": {},
   "source": [
    "# Storing Images\n",
    "\n",
    "`GeoImageFrame` data can be stored in a variety of formats. Given that it is built on Pandas the `GeoDataFrame` class, it will take any geodataframe method to save data. For instance, to save a table as a `geopackage`, we simply call:"
   ]
  },
  {
   "cell_type": "code",
   "execution_count": null,
   "metadata": {},
   "outputs": [],
   "source": [
    "images.to_file('data/images_tutorial.gpkg')"
   ]
  },
  {
   "cell_type": "markdown",
   "metadata": {},
   "source": [
    "## Saving to a PostgreSQL Database\n",
    "\n",
    "`landlens_db` also offers functionality to store data in a PostGIS enabled PostgreSQL database. This is done by extending the `to_postgis` method of GeoPandas. There are some constraints, such as unique image_urls, that are automatically applied when storing data, as well as some data validity checks -- see the documentation for details. \n",
    "\n",
    "To save a `GeoImageFrame` to a PostgreSQL table, you will need to first initiate a connection to a PostgreSQL database. You can do this using the `ImageDB` class:"
   ]
  },
  {
   "cell_type": "code",
   "execution_count": null,
   "metadata": {
    "scrolled": false
   },
   "outputs": [],
   "source": [
    "db_con = Postgres(DATABASE_URL)"
   ]
  },
  {
   "cell_type": "markdown",
   "metadata": {},
   "source": [
    "Then save using `to_postgis`:"
   ]
  },
  {
   "cell_type": "code",
   "execution_count": null,
   "metadata": {},
   "outputs": [],
   "source": [
    "images.to_postgis(DB_TABLE, db_con.engine, if_exists=\"replace\")"
   ]
  },
  {
   "cell_type": "markdown",
   "metadata": {},
   "source": [
    "### Updating an Existing Table\n",
    "\n",
    "When saving to PostgreSQL, you can choose to handle existing tables. `to_postgis` offers the same `fail`, `replace` and `append` methods that GeoPandas offers, however, `append` requires that all data going in will not conflict with any existing data. Instead, it is possible to \"upsert\" (insert and update) data into existing tables using the `upsert_images` class method of `Image_DB`. You may choose to either update conflicting records or skip them by declaring `\"update\"` or `\"nothing\"` in the conflict argument of the function."
   ]
  },
  {
   "cell_type": "code",
   "execution_count": null,
   "metadata": {
    "scrolled": false
   },
   "outputs": [],
   "source": [
    "db_con.upsert_images(images, DB_TABLE, conflict='update')"
   ]
  },
  {
   "cell_type": "markdown",
   "metadata": {},
   "source": [
    "### Querying an Existing Table\n",
    "\n",
    "It is also possible to load and filter data from existing postgres connections. `landlens_db` offers simple filter functions to query and filter tables to provide a subset of the data. This can be important when working with very large datasets. For example, to load all images with an altitude greater than 90:"
   ]
  },
  {
   "cell_type": "code",
   "execution_count": null,
   "metadata": {},
   "outputs": [],
   "source": [
    "high_altitude_images = db_con.table(DB_TABLE).filter(altitude__gt=39).all()\n",
    "high_altitude_images.map()"
   ]
  }
 ],
 "metadata": {
  "kernelspec": {
   "display_name": "Python 3 (ipykernel)",
   "language": "python",
   "name": "python3"
  },
  "language_info": {
   "codemirror_mode": {
    "name": "ipython",
    "version": 3
   },
   "file_extension": ".py",
   "mimetype": "text/x-python",
   "name": "python",
   "nbconvert_exporter": "python",
   "pygments_lexer": "ipython3",
   "version": "3.10.10"
  }
 },
 "nbformat": 4,
 "nbformat_minor": 1
}
