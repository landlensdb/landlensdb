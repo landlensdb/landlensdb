{
 "cells": [
  {
   "cell_type": "markdown",
   "metadata": {
    "collapsed": true
   },
   "source": [
    "# Tutorial 1: Loading, Processing, Visualizing, and Storing Data\n",
    "\n",
    "This short notebook demostrates how `landlens` can be used to load, process, visualize, and store street-view data from local file directories and Mapillary servers."
   ]
  },
  {
   "cell_type": "code",
   "execution_count": 1,
   "metadata": {
    "ExecuteTime": {
     "end_time": "2023-08-16T09:41:18.196237Z",
     "start_time": "2023-08-16T09:41:15.973031Z"
    }
   },
   "outputs": [],
   "source": [
    "from landlens.handlers.cloud import Mapillary\n",
    "from landlens.handlers.image import ImageExifProcessor as iep\n",
    "from landlens.process import snap\n",
    "from landlens.handlers.db import ImageDB"
   ]
  },
  {
   "cell_type": "markdown",
   "metadata": {},
   "source": [
    "Before we get started, we will need to load our Mapillary API token and other environmental variables. For simplicity, we will use the `dotenv` library to please install this and create a .env file to follow this tutorial."
   ]
  },
  {
   "cell_type": "code",
   "execution_count": 2,
   "metadata": {},
   "outputs": [],
   "source": [
    "import os\n",
    "\n",
    "from dotenv import load_dotenv\n",
    "\n",
    "load_dotenv()\n",
    "\n",
    "MLY_TOKEN = os.environ.get(\"MLY_TOKEN\")\n",
    "LOCAL_IMAGES = os.environ.get(\"LOCAL_IMAGES\")\n",
    "DATABASE_URL = os.environ.get(\"DATABASE_URL\")\n",
    "DB_TABLE = os.environ.get(\"DB_TABLE\")"
   ]
  },
  {
   "cell_type": "markdown",
   "metadata": {},
   "source": [
    "# Loading Images\n",
    "\n",
    "`landlens` provides two simple ways to load images for the first time which can then be processed and stored for further analysis.\n",
    "\n",
    "## 1. Loading images from local directory\n",
    "\n",
    "To load images from a local directory, simply call the `load_images` function while providing the source directory to read from. Currently, only `jpeg` images are supported and it is best to provide the full path to the images."
   ]
  },
  {
   "cell_type": "code",
   "execution_count": 3,
   "metadata": {},
   "outputs": [
    {
     "data": {
      "text/html": [
       "<div>\n",
       "<style scoped>\n",
       "    .dataframe tbody tr th:only-of-type {\n",
       "        vertical-align: middle;\n",
       "    }\n",
       "\n",
       "    .dataframe tbody tr th {\n",
       "        vertical-align: top;\n",
       "    }\n",
       "\n",
       "    .dataframe thead th {\n",
       "        text-align: right;\n",
       "    }\n",
       "</style>\n",
       "<table border=\"1\" class=\"dataframe\">\n",
       "  <thead>\n",
       "    <tr style=\"text-align: right;\">\n",
       "      <th></th>\n",
       "      <th>name</th>\n",
       "      <th>altitude</th>\n",
       "      <th>camera_type</th>\n",
       "      <th>camera_parameters</th>\n",
       "      <th>captured_at</th>\n",
       "      <th>compass_angle</th>\n",
       "      <th>exif_orientation</th>\n",
       "      <th>image_url</th>\n",
       "      <th>geometry</th>\n",
       "    </tr>\n",
       "  </thead>\n",
       "  <tbody>\n",
       "    <tr>\n",
       "      <th>0</th>\n",
       "      <td>IMG_0408.jpeg</td>\n",
       "      <td>234.415619</td>\n",
       "      <td>NaN</td>\n",
       "      <td>NaN</td>\n",
       "      <td>2023-03-06T11:04:19+03:00</td>\n",
       "      <td>316.262604</td>\n",
       "      <td>1.0</td>\n",
       "      <td>/Users/iosefa/repos/misc/SU_GCPsystem/notebook...</td>\n",
       "      <td>POINT (46.79483 -16.33181)</td>\n",
       "    </tr>\n",
       "    <tr>\n",
       "      <th>1</th>\n",
       "      <td>IMG_0404.jpeg</td>\n",
       "      <td>235.402679</td>\n",
       "      <td>NaN</td>\n",
       "      <td>NaN</td>\n",
       "      <td>2023-03-06T11:04:15+03:00</td>\n",
       "      <td>76.328430</td>\n",
       "      <td>1.0</td>\n",
       "      <td>/Users/iosefa/repos/misc/SU_GCPsystem/notebook...</td>\n",
       "      <td>POINT (46.79484 -16.33181)</td>\n",
       "    </tr>\n",
       "    <tr>\n",
       "      <th>2</th>\n",
       "      <td>IMG_0405.jpeg</td>\n",
       "      <td>235.890045</td>\n",
       "      <td>NaN</td>\n",
       "      <td>NaN</td>\n",
       "      <td>2023-03-06T11:04:15+03:00</td>\n",
       "      <td>45.822021</td>\n",
       "      <td>1.0</td>\n",
       "      <td>/Users/iosefa/repos/misc/SU_GCPsystem/notebook...</td>\n",
       "      <td>POINT (46.79484 -16.33181)</td>\n",
       "    </tr>\n",
       "    <tr>\n",
       "      <th>3</th>\n",
       "      <td>IMG_0409.jpeg</td>\n",
       "      <td>234.390961</td>\n",
       "      <td>NaN</td>\n",
       "      <td>NaN</td>\n",
       "      <td>2023-03-06T11:04:20+03:00</td>\n",
       "      <td>271.465851</td>\n",
       "      <td>1.0</td>\n",
       "      <td>/Users/iosefa/repos/misc/SU_GCPsystem/notebook...</td>\n",
       "      <td>POINT (46.79483 -16.33181)</td>\n",
       "    </tr>\n",
       "    <tr>\n",
       "      <th>4</th>\n",
       "      <td>IMG_0403.jpeg</td>\n",
       "      <td>235.643890</td>\n",
       "      <td>NaN</td>\n",
       "      <td>NaN</td>\n",
       "      <td>2023-03-06T11:04:14+03:00</td>\n",
       "      <td>97.850014</td>\n",
       "      <td>1.0</td>\n",
       "      <td>/Users/iosefa/repos/misc/SU_GCPsystem/notebook...</td>\n",
       "      <td>POINT (46.79484 -16.33182)</td>\n",
       "    </tr>\n",
       "    <tr>\n",
       "      <th>5</th>\n",
       "      <td>IMG_0410.jpeg</td>\n",
       "      <td>234.289215</td>\n",
       "      <td>NaN</td>\n",
       "      <td>NaN</td>\n",
       "      <td>2023-03-06T11:04:21+03:00</td>\n",
       "      <td>254.171234</td>\n",
       "      <td>1.0</td>\n",
       "      <td>/Users/iosefa/repos/misc/SU_GCPsystem/notebook...</td>\n",
       "      <td>POINT (46.79483 -16.33181)</td>\n",
       "    </tr>\n",
       "    <tr>\n",
       "      <th>6</th>\n",
       "      <td>IMG_0406.jpeg</td>\n",
       "      <td>235.161835</td>\n",
       "      <td>NaN</td>\n",
       "      <td>NaN</td>\n",
       "      <td>2023-03-06T11:04:16+03:00</td>\n",
       "      <td>36.924500</td>\n",
       "      <td>1.0</td>\n",
       "      <td>/Users/iosefa/repos/misc/SU_GCPsystem/notebook...</td>\n",
       "      <td>POINT (46.79484 -16.33181)</td>\n",
       "    </tr>\n",
       "    <tr>\n",
       "      <th>7</th>\n",
       "      <td>IMG_0407.jpeg</td>\n",
       "      <td>234.766693</td>\n",
       "      <td>NaN</td>\n",
       "      <td>NaN</td>\n",
       "      <td>2023-03-06T11:04:18+03:00</td>\n",
       "      <td>350.140991</td>\n",
       "      <td>1.0</td>\n",
       "      <td>/Users/iosefa/repos/misc/SU_GCPsystem/notebook...</td>\n",
       "      <td>POINT (46.79484 -16.33181)</td>\n",
       "    </tr>\n",
       "    <tr>\n",
       "      <th>8</th>\n",
       "      <td>IMG_0411.jpeg</td>\n",
       "      <td>234.289215</td>\n",
       "      <td>NaN</td>\n",
       "      <td>NaN</td>\n",
       "      <td>2023-03-06T11:04:22+03:00</td>\n",
       "      <td>248.655853</td>\n",
       "      <td>1.0</td>\n",
       "      <td>/Users/iosefa/repos/misc/SU_GCPsystem/notebook...</td>\n",
       "      <td>POINT (46.79483 -16.33181)</td>\n",
       "    </tr>\n",
       "  </tbody>\n",
       "</table>\n",
       "</div>"
      ],
      "text/plain": [
       "            name    altitude  camera_type  camera_parameters  \\\n",
       "0  IMG_0408.jpeg  234.415619          NaN                NaN   \n",
       "1  IMG_0404.jpeg  235.402679          NaN                NaN   \n",
       "2  IMG_0405.jpeg  235.890045          NaN                NaN   \n",
       "3  IMG_0409.jpeg  234.390961          NaN                NaN   \n",
       "4  IMG_0403.jpeg  235.643890          NaN                NaN   \n",
       "5  IMG_0410.jpeg  234.289215          NaN                NaN   \n",
       "6  IMG_0406.jpeg  235.161835          NaN                NaN   \n",
       "7  IMG_0407.jpeg  234.766693          NaN                NaN   \n",
       "8  IMG_0411.jpeg  234.289215          NaN                NaN   \n",
       "\n",
       "                 captured_at  compass_angle  exif_orientation  \\\n",
       "0  2023-03-06T11:04:19+03:00     316.262604               1.0   \n",
       "1  2023-03-06T11:04:15+03:00      76.328430               1.0   \n",
       "2  2023-03-06T11:04:15+03:00      45.822021               1.0   \n",
       "3  2023-03-06T11:04:20+03:00     271.465851               1.0   \n",
       "4  2023-03-06T11:04:14+03:00      97.850014               1.0   \n",
       "5  2023-03-06T11:04:21+03:00     254.171234               1.0   \n",
       "6  2023-03-06T11:04:16+03:00      36.924500               1.0   \n",
       "7  2023-03-06T11:04:18+03:00     350.140991               1.0   \n",
       "8  2023-03-06T11:04:22+03:00     248.655853               1.0   \n",
       "\n",
       "                                           image_url  \\\n",
       "0  /Users/iosefa/repos/misc/SU_GCPsystem/notebook...   \n",
       "1  /Users/iosefa/repos/misc/SU_GCPsystem/notebook...   \n",
       "2  /Users/iosefa/repos/misc/SU_GCPsystem/notebook...   \n",
       "3  /Users/iosefa/repos/misc/SU_GCPsystem/notebook...   \n",
       "4  /Users/iosefa/repos/misc/SU_GCPsystem/notebook...   \n",
       "5  /Users/iosefa/repos/misc/SU_GCPsystem/notebook...   \n",
       "6  /Users/iosefa/repos/misc/SU_GCPsystem/notebook...   \n",
       "7  /Users/iosefa/repos/misc/SU_GCPsystem/notebook...   \n",
       "8  /Users/iosefa/repos/misc/SU_GCPsystem/notebook...   \n",
       "\n",
       "                     geometry  \n",
       "0  POINT (46.79483 -16.33181)  \n",
       "1  POINT (46.79484 -16.33181)  \n",
       "2  POINT (46.79484 -16.33181)  \n",
       "3  POINT (46.79483 -16.33181)  \n",
       "4  POINT (46.79484 -16.33182)  \n",
       "5  POINT (46.79483 -16.33181)  \n",
       "6  POINT (46.79484 -16.33181)  \n",
       "7  POINT (46.79484 -16.33181)  \n",
       "8  POINT (46.79483 -16.33181)  "
      ]
     },
     "execution_count": 3,
     "metadata": {},
     "output_type": "execute_result"
    }
   ],
   "source": [
    "local_images = iep.load_images(LOCAL_IMAGES)\n",
    "local_images"
   ]
  },
  {
   "cell_type": "markdown",
   "metadata": {},
   "source": [
    "The resulting image is a GeoImageFrame, which is a simple extension of a Pandas GeoDataFrame with a few required column definitions and additional methods for visualization and data verification."
   ]
  },
  {
   "cell_type": "markdown",
   "metadata": {},
   "source": [
    "## 2. Loading images from mapillary"
   ]
  },
  {
   "cell_type": "markdown",
   "metadata": {},
   "source": [
    "`landlens` was made to work with Mapillary data and it includes helper functions to make calls to the Mapillary API and download and convert Mapillary data into a format for `landlens`.\n",
    "\n",
    "To use `landlens` to fetch data from Mapillary, you first need to initialize a Mapillary connection using your Mapillary Secret Token."
   ]
  },
  {
   "cell_type": "code",
   "execution_count": 4,
   "metadata": {},
   "outputs": [],
   "source": [
    "importer = Mapillary(MLY_TOKEN)"
   ]
  },
  {
   "cell_type": "markdown",
   "metadata": {},
   "source": [
    "`landlens` offers a few functions to filter Mapillary data from their API. However, for more advanced filtering, we recommend that users use the `mapillary-python-sdk` and convert the resulting data into a GeoImageFrame.\n",
    "\n",
    "Here is an example of how to load data using the `fetch_by_id` method of `landlens`:"
   ]
  },
  {
   "cell_type": "code",
   "execution_count": 5,
   "metadata": {},
   "outputs": [
    {
     "data": {
      "text/html": [
       "<div>\n",
       "<style scoped>\n",
       "    .dataframe tbody tr th:only-of-type {\n",
       "        vertical-align: middle;\n",
       "    }\n",
       "\n",
       "    .dataframe tbody tr th {\n",
       "        vertical-align: top;\n",
       "    }\n",
       "\n",
       "    .dataframe thead th {\n",
       "        text-align: right;\n",
       "    }\n",
       "</style>\n",
       "<table border=\"1\" class=\"dataframe\">\n",
       "  <thead>\n",
       "    <tr style=\"text-align: right;\">\n",
       "      <th></th>\n",
       "      <th>altitude</th>\n",
       "      <th>atomic_scale</th>\n",
       "      <th>camera_parameters</th>\n",
       "      <th>camera_type</th>\n",
       "      <th>captured_at</th>\n",
       "      <th>compass_angle</th>\n",
       "      <th>computed_altitude</th>\n",
       "      <th>computed_compass_angle</th>\n",
       "      <th>computed_geometry</th>\n",
       "      <th>computed_rotation</th>\n",
       "      <th>...</th>\n",
       "      <th>height</th>\n",
       "      <th>merge_cc</th>\n",
       "      <th>mesh</th>\n",
       "      <th>sequence</th>\n",
       "      <th>sfm_cluster</th>\n",
       "      <th>width</th>\n",
       "      <th>detections</th>\n",
       "      <th>mly_id</th>\n",
       "      <th>name</th>\n",
       "      <th>image_url</th>\n",
       "    </tr>\n",
       "  </thead>\n",
       "  <tbody>\n",
       "    <tr>\n",
       "      <th>0</th>\n",
       "      <td>41.782</td>\n",
       "      <td>1.002665</td>\n",
       "      <td>0.61739578749889,0.26131500830183,0.1242660260...</td>\n",
       "      <td>fisheye</td>\n",
       "      <td>2019-10-23T22:29:42+09:00</td>\n",
       "      <td>99.299232</td>\n",
       "      <td>1.795589</td>\n",
       "      <td>102.951814</td>\n",
       "      <td>POINT (140.95153462743 42.329677227362)</td>\n",
       "      <td>-1.0627190885041,-0.84029284280692,-1.15538369...</td>\n",
       "      <td>...</td>\n",
       "      <td>3000</td>\n",
       "      <td>1.926644e+18</td>\n",
       "      <td>{'id': '313263440182706', 'url': 'https://scon...</td>\n",
       "      <td>emgV_2cwMSoW9w7fkg7xJQ</td>\n",
       "      <td>{'id': '169747341731652', 'url': 'https://scon...</td>\n",
       "      <td>4000</td>\n",
       "      <td>{'data': [{'id': '916266259223890'}, {'id': '9...</td>\n",
       "      <td>915374089313107</td>\n",
       "      <td>mly|915374089313107</td>\n",
       "      <td>https://scontent-itm1-1.xx.fbcdn.net/m1/v/t6/A...</td>\n",
       "    </tr>\n",
       "  </tbody>\n",
       "</table>\n",
       "<p>1 rows × 22 columns</p>\n",
       "</div>"
      ],
      "text/plain": [
       "   altitude  atomic_scale                                  camera_parameters  \\\n",
       "0    41.782      1.002665  0.61739578749889,0.26131500830183,0.1242660260...   \n",
       "\n",
       "  camera_type                captured_at  compass_angle  computed_altitude  \\\n",
       "0     fisheye  2019-10-23T22:29:42+09:00      99.299232           1.795589   \n",
       "\n",
       "   computed_compass_angle                        computed_geometry  \\\n",
       "0              102.951814  POINT (140.95153462743 42.329677227362)   \n",
       "\n",
       "                                   computed_rotation  ...  height  \\\n",
       "0  -1.0627190885041,-0.84029284280692,-1.15538369...  ...    3000   \n",
       "\n",
       "       merge_cc                                               mesh  \\\n",
       "0  1.926644e+18  {'id': '313263440182706', 'url': 'https://scon...   \n",
       "\n",
       "                 sequence                                        sfm_cluster  \\\n",
       "0  emgV_2cwMSoW9w7fkg7xJQ  {'id': '169747341731652', 'url': 'https://scon...   \n",
       "\n",
       "  width                                         detections           mly_id  \\\n",
       "0  4000  {'data': [{'id': '916266259223890'}, {'id': '9...  915374089313107   \n",
       "\n",
       "                  name                                          image_url  \n",
       "0  mly|915374089313107  https://scontent-itm1-1.xx.fbcdn.net/m1/v/t6/A...  \n",
       "\n",
       "[1 rows x 22 columns]"
      ]
     },
     "execution_count": 5,
     "metadata": {},
     "output_type": "execute_result"
    }
   ],
   "source": [
    "image_id = 915374089313107\n",
    "image = importer.fetch_by_id(image_id)\n",
    "image"
   ]
  },
  {
   "cell_type": "markdown",
   "metadata": {},
   "source": [
    "By default, `landlens` will download all fields from the Mapillary image endpoint and default to `thumb_1024_url` as the `image_url`, however, you may specify a subset of fields using the `fields` argument and only these fields will be downloaded. Note, you must supply at least the `id`, `geometry`, and one of the image url fields.\n",
    "\n",
    "For example, using the `fetch_within_bbox` method of `landlens`:"
   ]
  },
  {
   "cell_type": "code",
   "execution_count": 9,
   "metadata": {},
   "outputs": [
    {
     "name": "stdout",
     "output_type": "stream",
     "text": [
      "Current bbox: [140.82825, 42.2625132, 141.18121, 42.464741]\n",
      "Current bbox: [140.82825, 42.2625132, 141.00473, 42.3636271]\n"
     ]
    },
    {
     "name": "stderr",
     "output_type": "stream",
     "text": [
      "Exception ignored in: <function AbstractTimezoneFinder.__del__ at 0x121b203a0>\n",
      "Traceback (most recent call last):\n",
      "  File \"/Users/iosefa/repos/misc/SU_GCPsystem/venv/lib/python3.10/site-packages/timezonefinder/timezonefinder.py\", line 96, in __del__\n",
      "    getattr(self, attribute_name).close()\n",
      "AttributeError: 'TimezoneFinder' object has no attribute 'poly_zone_ids'\n"
     ]
    },
    {
     "name": "stdout",
     "output_type": "stream",
     "text": [
      "Current bbox: [140.82825, 42.2625132, 140.91649, 42.31307015]\n",
      "Current bbox: [140.91649, 42.2625132, 141.00473, 42.31307015]\n",
      "Current bbox: [140.82825, 42.31307015, 140.91649, 42.3636271]\n",
      "Current bbox: [140.91649, 42.31307015, 141.00473, 42.3636271]\n"
     ]
    },
    {
     "ename": "Exception",
     "evalue": "There was an error connecting to the Mapillary API. Exception: {\"error\":{\"code\":1,\"message\":\"An unknown error occurred\",\"error_subcode\":99}}",
     "output_type": "error",
     "traceback": [
      "\u001b[0;31m---------------------------------------------------------------------------\u001b[0m",
      "\u001b[0;31mException\u001b[0m                                 Traceback (most recent call last)",
      "Cell \u001b[0;32mIn[9], line 6\u001b[0m\n\u001b[1;32m      3\u001b[0m end \u001b[38;5;241m=\u001b[39m \u001b[38;5;124m'\u001b[39m\u001b[38;5;124m2019-10-23\u001b[39m\u001b[38;5;124m'\u001b[39m\n\u001b[1;32m      4\u001b[0m fields \u001b[38;5;241m=\u001b[39m [\u001b[38;5;124m'\u001b[39m\u001b[38;5;124mid\u001b[39m\u001b[38;5;124m'\u001b[39m, \u001b[38;5;124m'\u001b[39m\u001b[38;5;124mthumb_1024_url\u001b[39m\u001b[38;5;124m'\u001b[39m, \u001b[38;5;124m'\u001b[39m\u001b[38;5;124mgeometry\u001b[39m\u001b[38;5;124m'\u001b[39m]\n\u001b[0;32m----> 6\u001b[0m images \u001b[38;5;241m=\u001b[39m \u001b[43mimporter\u001b[49m\u001b[38;5;241;43m.\u001b[39;49m\u001b[43mfetch_within_bbox\u001b[49m\u001b[43m(\u001b[49m\u001b[43mbbox\u001b[49m\u001b[43m,\u001b[49m\u001b[43m \u001b[49m\u001b[43mstart_date\u001b[49m\u001b[38;5;241;43m=\u001b[39;49m\u001b[43mstart\u001b[49m\u001b[43m,\u001b[49m\u001b[43m \u001b[49m\u001b[43mend_date\u001b[49m\u001b[38;5;241;43m=\u001b[39;49m\u001b[43mend\u001b[49m\u001b[43m)\u001b[49m\n\u001b[1;32m      7\u001b[0m images\u001b[38;5;241m.\u001b[39mhead()\n",
      "File \u001b[0;32m~/repos/misc/SU_GCPsystem/landlens/handlers/cloud.py:178\u001b[0m, in \u001b[0;36mMapillary.fetch_within_bbox\u001b[0;34m(self, initial_bbox, start_date, end_date, fields)\u001b[0m\n\u001b[1;32m    176\u001b[0m start_timestamp \u001b[38;5;241m=\u001b[39m \u001b[38;5;28mself\u001b[39m\u001b[38;5;241m.\u001b[39m_get_timestamp(start_date)\n\u001b[1;32m    177\u001b[0m end_timestamp \u001b[38;5;241m=\u001b[39m \u001b[38;5;28mself\u001b[39m\u001b[38;5;241m.\u001b[39m_get_timestamp(end_date)\n\u001b[0;32m--> 178\u001b[0m images \u001b[38;5;241m=\u001b[39m \u001b[38;5;28;43mself\u001b[39;49m\u001b[38;5;241;43m.\u001b[39;49m\u001b[43m_recursive_fetch\u001b[49m\u001b[43m(\u001b[49m\n\u001b[1;32m    179\u001b[0m \u001b[43m    \u001b[49m\u001b[43minitial_bbox\u001b[49m\u001b[43m,\u001b[49m\u001b[43m \u001b[49m\u001b[43mfields\u001b[49m\u001b[43m,\u001b[49m\u001b[43m \u001b[49m\u001b[43mstart_timestamp\u001b[49m\u001b[43m,\u001b[49m\u001b[43m \u001b[49m\u001b[43mend_timestamp\u001b[49m\n\u001b[1;32m    180\u001b[0m \u001b[43m\u001b[49m\u001b[43m)\u001b[49m\n\u001b[1;32m    181\u001b[0m data \u001b[38;5;241m=\u001b[39m \u001b[38;5;28mself\u001b[39m\u001b[38;5;241m.\u001b[39m_json_to_gdf(images)\n\u001b[1;32m    182\u001b[0m \u001b[38;5;28;01mreturn\u001b[39;00m GeoImageFrame(data, geometry\u001b[38;5;241m=\u001b[39m\u001b[38;5;124m\"\u001b[39m\u001b[38;5;124mgeometry\u001b[39m\u001b[38;5;124m\"\u001b[39m)\n",
      "File \u001b[0;32m~/repos/misc/SU_GCPsystem/landlens/handlers/cloud.py:134\u001b[0m, in \u001b[0;36mMapillary._recursive_fetch\u001b[0;34m(self, bbox, fields, start_timestamp, end_timestamp)\u001b[0m\n\u001b[1;32m    131\u001b[0m     data \u001b[38;5;241m=\u001b[39m []\n\u001b[1;32m    132\u001b[0m     \u001b[38;5;28;01mfor\u001b[39;00m child_bbox \u001b[38;5;129;01min\u001b[39;00m child_bboxes:\n\u001b[1;32m    133\u001b[0m         data\u001b[38;5;241m.\u001b[39mextend(\n\u001b[0;32m--> 134\u001b[0m             \u001b[38;5;28;43mself\u001b[39;49m\u001b[38;5;241;43m.\u001b[39;49m\u001b[43m_recursive_fetch\u001b[49m\u001b[43m(\u001b[49m\u001b[43mchild_bbox\u001b[49m\u001b[43m,\u001b[49m\u001b[43m \u001b[49m\u001b[43mfields\u001b[49m\u001b[43m,\u001b[49m\u001b[43m \u001b[49m\u001b[43mstart_timestamp\u001b[49m\u001b[43m,\u001b[49m\u001b[43m \u001b[49m\u001b[43mend_timestamp\u001b[49m\u001b[43m)\u001b[49m\n\u001b[1;32m    135\u001b[0m         )\n\u001b[1;32m    136\u001b[0m     \u001b[38;5;28;01mreturn\u001b[39;00m data\n\u001b[1;32m    137\u001b[0m \u001b[38;5;28;01melse\u001b[39;00m:\n",
      "File \u001b[0;32m~/repos/misc/SU_GCPsystem/landlens/handlers/cloud.py:134\u001b[0m, in \u001b[0;36mMapillary._recursive_fetch\u001b[0;34m(self, bbox, fields, start_timestamp, end_timestamp)\u001b[0m\n\u001b[1;32m    131\u001b[0m     data \u001b[38;5;241m=\u001b[39m []\n\u001b[1;32m    132\u001b[0m     \u001b[38;5;28;01mfor\u001b[39;00m child_bbox \u001b[38;5;129;01min\u001b[39;00m child_bboxes:\n\u001b[1;32m    133\u001b[0m         data\u001b[38;5;241m.\u001b[39mextend(\n\u001b[0;32m--> 134\u001b[0m             \u001b[38;5;28;43mself\u001b[39;49m\u001b[38;5;241;43m.\u001b[39;49m\u001b[43m_recursive_fetch\u001b[49m\u001b[43m(\u001b[49m\u001b[43mchild_bbox\u001b[49m\u001b[43m,\u001b[49m\u001b[43m \u001b[49m\u001b[43mfields\u001b[49m\u001b[43m,\u001b[49m\u001b[43m \u001b[49m\u001b[43mstart_timestamp\u001b[49m\u001b[43m,\u001b[49m\u001b[43m \u001b[49m\u001b[43mend_timestamp\u001b[49m\u001b[43m)\u001b[49m\n\u001b[1;32m    135\u001b[0m         )\n\u001b[1;32m    136\u001b[0m     \u001b[38;5;28;01mreturn\u001b[39;00m data\n\u001b[1;32m    137\u001b[0m \u001b[38;5;28;01melse\u001b[39;00m:\n",
      "File \u001b[0;32m~/repos/misc/SU_GCPsystem/landlens/handlers/cloud.py:124\u001b[0m, in \u001b[0;36mMapillary._recursive_fetch\u001b[0;34m(self, bbox, fields, start_timestamp, end_timestamp)\u001b[0m\n\u001b[1;32m    122\u001b[0m response \u001b[38;5;241m=\u001b[39m requests\u001b[38;5;241m.\u001b[39mget(url, headers\u001b[38;5;241m=\u001b[39m\u001b[38;5;28mself\u001b[39m\u001b[38;5;241m.\u001b[39mheaders)\n\u001b[1;32m    123\u001b[0m \u001b[38;5;28;01mif\u001b[39;00m response\u001b[38;5;241m.\u001b[39mstatus_code \u001b[38;5;241m!=\u001b[39m \u001b[38;5;241m200\u001b[39m:\n\u001b[0;32m--> 124\u001b[0m     \u001b[38;5;28;01mraise\u001b[39;00m \u001b[38;5;167;01mException\u001b[39;00m(\n\u001b[1;32m    125\u001b[0m         \u001b[38;5;124mf\u001b[39m\u001b[38;5;124m\"\u001b[39m\u001b[38;5;124mThere was an error connecting to the Mapillary API. Exception: \u001b[39m\u001b[38;5;132;01m{\u001b[39;00mresponse\u001b[38;5;241m.\u001b[39mtext\u001b[38;5;132;01m}\u001b[39;00m\u001b[38;5;124m\"\u001b[39m\n\u001b[1;32m    126\u001b[0m     )\n\u001b[1;32m    128\u001b[0m response_data \u001b[38;5;241m=\u001b[39m response\u001b[38;5;241m.\u001b[39mjson()\u001b[38;5;241m.\u001b[39mget(\u001b[38;5;124m\"\u001b[39m\u001b[38;5;124mdata\u001b[39m\u001b[38;5;124m\"\u001b[39m)\n\u001b[1;32m    129\u001b[0m \u001b[38;5;28;01mif\u001b[39;00m \u001b[38;5;28mlen\u001b[39m(response_data) \u001b[38;5;241m==\u001b[39m \u001b[38;5;28mself\u001b[39m\u001b[38;5;241m.\u001b[39mLIMIT:\n",
      "\u001b[0;31mException\u001b[0m: There was an error connecting to the Mapillary API. Exception: {\"error\":{\"code\":1,\"message\":\"An unknown error occurred\",\"error_subcode\":99}}"
     ]
    }
   ],
   "source": [
    "bbox = [140.8282500,42.2625132,141.1812100,42.4647410]\n",
    "start = '2019-10-22'\n",
    "end = '2019-10-23'\n",
    "fields = ['id', 'altitude', 'captured_at', 'camera_type', 'thumb_1024_url', 'compass_angle', 'computed_compass_angle', 'computed_geometry', 'geometry']\n",
    "\n",
    "images = importer.fetch_within_bbox(bbox, start_date=start, end_date=end, fields=fields)\n",
    "images.head()"
   ]
  },
  {
   "cell_type": "markdown",
   "metadata": {},
   "source": [
    "It is also important to realize that Mapillary image urls are not permanent. So, `landlens` offers a method to download Mapillary images and update the `image_url` to the new location."
   ]
  },
  {
   "cell_type": "code",
   "execution_count": null,
   "metadata": {},
   "outputs": [],
   "source": [
    "images.download_images_to_local(LOCAL_IMAGES, filename_column='name')\n",
    "images.head()"
   ]
  },
  {
   "cell_type": "markdown",
   "metadata": {},
   "source": [
    "## Loading data from arbitrary sources\n",
    "It is also possible to read from any OGC-recognized vector file format, including ESRI shapefile, geojson, and geopackage, or to create a `GeoImageFrame` in the same manner as a geopandas dataframe by initializing it with data so long as it has a `name`, `image_url`, and `geometry` column.\n",
    "\n",
    "Data can also be imported from a PostreSQL postGIS enabled database. There is more information below on creating and exporting postgres tables for `landlens`.\n",
    "\n",
    "When reading from postgres, it can be beneficial to load a subset of data. This can be important when the database contains upwards of tens of thousands of images. For this purpose, there are several database utility and query functions to select only a subset of the data in the database."
   ]
  },
  {
   "cell_type": "markdown",
   "metadata": {},
   "source": [
    "# Processing Images\n",
    "\n",
    "Now that we have loaded some data, we can perform some simple processing on the images. Check the documentation for the current processing functions available. Here is an example of how `landlens` can be used to snap images to road networks.\n",
    "\n",
    "First, we need a road network to snap your images to. `landlens` also offers a helper function to download road networks from Open Street Map within a given bounding box."
   ]
  },
  {
   "cell_type": "code",
   "execution_count": null,
   "metadata": {},
   "outputs": [],
   "source": [
    "bbox = snap.create_bbox(image['geometry'][0], 300, 300)\n",
    "network = snap.get_osm_lines(bbox)"
   ]
  },
  {
   "cell_type": "markdown",
   "metadata": {},
   "source": [
    "Then, calling the `snap_to_road_network` will snap all points to the closest road network (within the provided threshold distance) and will create a new geometry column in the `GeoImageFrame` falled `snapped_geometry` to represent this new point."
   ]
  },
  {
   "cell_type": "code",
   "execution_count": null,
   "metadata": {
    "scrolled": false
   },
   "outputs": [],
   "source": [
    "snap.snap_to_road_network(image, 100, network)"
   ]
  },
  {
   "cell_type": "markdown",
   "metadata": {},
   "source": [
    "# Visualizing Images\n",
    "\n",
    "`landlens` provides a simply way to visualize its `GeoImageFrames` interactively using Folium. The `map` method of a `GeoImageFrame` will plot all images as markers on a map and will display the image on click along with any metadata set using the `additional_properties` argument as well as markers for any provided additional geometry."
   ]
  },
  {
   "cell_type": "code",
   "execution_count": null,
   "metadata": {},
   "outputs": [],
   "source": [
    "image.map(\n",
    "    additional_properties=['altitude', 'camera_type'],\n",
    "    additional_geometries=[\n",
    "        {'geometry': 'computed_geometry', 'angle': 'computed_compass_angle', 'label': 'Computed'},\n",
    "        {'geometry': 'snapped_geometry', 'angle': 'snapped_angle', 'label': 'Snapped'},\n",
    "    ]\n",
    ")"
   ]
  },
  {
   "cell_type": "markdown",
   "metadata": {},
   "source": [
    " "
   ]
  },
  {
   "cell_type": "markdown",
   "metadata": {},
   "source": [
    "# Storing Images\n",
    "\n",
    "`GeoImageFrame` data can be stored in a variety of formats. Given that it is built on Pandas the `GeoDataFrame` class, it will take any geodataframe method to save data. For instance, to save a table as a `geopackage`, we simply call:"
   ]
  },
  {
   "cell_type": "code",
   "execution_count": null,
   "metadata": {},
   "outputs": [],
   "source": [
    "image.to_file('image1.gpkg')"
   ]
  },
  {
   "cell_type": "markdown",
   "metadata": {},
   "source": [
    "## Saving to a PostgreSQL Database\n",
    "\n",
    "`landlens` also offers functionality to store data in a PostGIS enabled PostgreSQL database. This is done by extending the `to_postgis` method of GeoPandas. There are some constraints, such as unique image_urls, that are automatically applied when storing data, as well as some data validity checks -- see the documentation for details. \n",
    "\n",
    "To save a `GeoImageFrame` to a PostgreSQL table, you will need to first initiate a connection to a PostgreSQL database. You can do this using the `ImageDB` class:"
   ]
  },
  {
   "cell_type": "code",
   "execution_count": null,
   "metadata": {
    "scrolled": false
   },
   "outputs": [],
   "source": [
    "db_con = ImageDB(DATABASE_URL)"
   ]
  },
  {
   "cell_type": "markdown",
   "metadata": {},
   "source": [
    "Then save using `to_postgis`:"
   ]
  },
  {
   "cell_type": "code",
   "execution_count": null,
   "metadata": {},
   "outputs": [],
   "source": [
    "local_images.to_postgis(DB_TABLE, db_con.engine)"
   ]
  },
  {
   "cell_type": "markdown",
   "metadata": {},
   "source": [
    "### Updating an Existing Table\n",
    "\n",
    "When saving to PostgreSQL, you can choose to handle existing tables. `to_postgis` offers the same `replace` and `append` methods that GeoPandas offers, however, `append` requires that all data going in will not conflict with any existing data. Instead, it is possible to \"upsert\" (insert and update) data into existing tables using the `upsert_images` class method of `Image_DB`. You may choose to either update conflicting records or skip them by declaring `\"update\"` or `\"nothing\"` in the conflict argument of the function."
   ]
  },
  {
   "cell_type": "code",
   "execution_count": null,
   "metadata": {
    "scrolled": false
   },
   "outputs": [],
   "source": [
    "db_con.upsert_images(local_images, DB_TABLE, conflict='update')"
   ]
  },
  {
   "cell_type": "markdown",
   "metadata": {},
   "source": [
    "### Querying an Existing Table\n",
    "\n",
    "It is also possible to load and filter data from existing postgres connections. `landlens` offers simple filter functions to query and filter tables to provide a subset of the data. This can be important when working with very large datasets. For example, to load all images with an altitude greater than 90:"
   ]
  },
  {
   "cell_type": "code",
   "execution_count": null,
   "metadata": {},
   "outputs": [],
   "source": [
    "high_altitude_images = db_con.table(DB_TABLE).filter(altitude__gt=90).all()\n",
    "high_altitude_images.map()"
   ]
  }
 ],
 "metadata": {
  "kernelspec": {
   "display_name": "Python 3 (ipykernel)",
   "language": "python",
   "name": "python3"
  },
  "language_info": {
   "codemirror_mode": {
    "name": "ipython",
    "version": 3
   },
   "file_extension": ".py",
   "mimetype": "text/x-python",
   "name": "python",
   "nbconvert_exporter": "python",
   "pygments_lexer": "ipython3",
   "version": "3.10.10"
  }
 },
 "nbformat": 4,
 "nbformat_minor": 1
}
