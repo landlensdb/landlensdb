{
 "cells": [
  {
   "cell_type": "markdown",
   "metadata": {},
   "source": [
    "# Visualizing Mapillary Data on GCP\n",
    "\n",
    "This short notebook demostrates how we can access and visualize data was imported from Mapillary and stored on CGP.\n",
    "\n",
    "\n",
    "### Authenticating with Google Cloud\n",
    "\n",
    "Before we can run this notebook on a new device, we will have to authenticate with google cloud. To do so, please run the following command in a terminal window (you shouldn't need to do this if you have already authenticated on this device):\n",
    "\n",
    "```\n",
    "gcloud auth application-default login \n",
    "```\n",
    "\n",
    "You will also need to create a service account json key. This can be done using the following (for example):\n",
    "\n",
    "```\n",
    "gcloud iam service-accounts keys create ~/su-sa-default-private-key.json --iam-account=555121831052-compute@developer.gserviceaccount.com\n",
    "```\n",
    "\n",
    "Now we can continue with importing the python modules that we will use."
   ]
  },
  {
   "cell_type": "markdown",
   "metadata": {},
   "source": [
    "### Setting Python Directory\n",
    "\n",
    "Because we are reading src module locally, we will need to add the absolute path of this repo to the `sys` path. This can be done using:"
   ]
  },
  {
   "cell_type": "code",
   "execution_count": null,
   "metadata": {},
   "outputs": [],
   "source": [
    "# note, to load the local module, it might be necessary to add the repository directory to the sys path:\n",
    "import os\n",
    "import sys\n",
    "sys.path.insert(0, os.path.abspath(\"..\"))"
   ]
  },
  {
   "cell_type": "markdown",
   "metadata": {},
   "source": [
    "Now, we can import the required libraries and python modules, functions, etc."
   ]
  },
  {
   "cell_type": "code",
   "execution_count": null,
   "metadata": {},
   "outputs": [],
   "source": [
    "from src.controller import MapillaryImage\n",
    "from src.visualizer import Visualize\n",
    "from src.utils import DataUtils"
   ]
  },
  {
   "cell_type": "markdown",
   "metadata": {},
   "source": [
    "## Setting Environmental Variables\n",
    "\n",
    "In order for the importer module to access both Google Storage and the Mapillary API, the following environmental variables must be set. Replace the text in `<>` with actual variables before running the next block."
   ]
  },
  {
   "cell_type": "code",
   "execution_count": null,
   "metadata": {},
   "outputs": [],
   "source": [
    "%env DATABASE_URL=<DATABASE_URL>\n",
    "%env SERVICE_ACCOUNT_PRIVATE_KEY=<PATH_TO_PRIVATE_KEY>"
   ]
  },
  {
   "cell_type": "markdown",
   "metadata": {},
   "source": [
    "## Querying Data\n",
    "\n",
    "In order to visualize the data, we will need to query the database and have the data in a Python data type. The `MapillaryImage` controller class contains functions to return data from the database in various formats. We will use it to construct a Geopandas dataframe of data that all belong to the same sequence.\n",
    "\n",
    "First, initialize the controller:"
   ]
  },
  {
   "cell_type": "code",
   "execution_count": null,
   "metadata": {},
   "outputs": [],
   "source": [
    "imgs = MapillaryImage()"
   ]
  },
  {
   "cell_type": "markdown",
   "metadata": {},
   "source": [
    "Then, query by sequence ID:"
   ]
  },
  {
   "cell_type": "code",
   "execution_count": null,
   "metadata": {},
   "outputs": [],
   "source": [
    "data = imgs.select_by_sequence_id('vSDgMY3PXlEz6wLvvUcoCQ')"
   ]
  },
  {
   "cell_type": "markdown",
   "metadata": {},
   "source": [
    "We can observe the total number of rows of the data and take a look at the first few rows:"
   ]
  },
  {
   "cell_type": "code",
   "execution_count": null,
   "metadata": {},
   "outputs": [],
   "source": [
    "print(f\"The number of rows returned is: {len(data.index)}\")\n",
    "data.head()"
   ]
  },
  {
   "cell_type": "markdown",
   "metadata": {},
   "source": [
    "## Visualize Data\n",
    "\n",
    "We will use the `Visualize` class and folium maps to visualize the data. Before we can get started, we must initialize the Visualize class:"
   ]
  },
  {
   "cell_type": "code",
   "execution_count": null,
   "metadata": {},
   "outputs": [],
   "source": [
    "vis = Visualize(data)"
   ]
  },
  {
   "cell_type": "markdown",
   "metadata": {},
   "source": [
    "Then, it is simply a matter of calling `map`. Note, if this notebook is being acesses from an unauthorized connection (i.e. not from a signed in Google Chrome session), then it will be necessary to set `use_signed_urls=True` when calling map. By default, use_signed_urls is False because generating signed urls creates significant overhead and adds a lot of time to the mapping function.\n",
    "\n",
    "Some image details can be viewed when clicking on map markers."
   ]
  },
  {
   "cell_type": "code",
   "execution_count": null,
   "metadata": {},
   "outputs": [],
   "source": [
    "vis = Visualize(data)\n",
    "vis.map(use_signed_urls=True)"
   ]
  },
  {
   "cell_type": "markdown",
   "metadata": {},
   "source": [
    "Note, the map will render poorly for large datasets so please query or provide subqueries of only the data you want to visualize. As a rule of thumb, try to keep this number less than 5000 or so if not using signed URLs or less than about 1000 if using signed URLs."
   ]
  },
  {
   "cell_type": "markdown",
   "metadata": {},
   "source": [
    "## Visualize Subsets\n",
    "\n",
    "Is also possible to filter data using geopandas on the initialized data. For example, we can filter a larger query (for example, by a larger bounding box) so that we only visualize points where the difference between the Mapillary default geometry and the Mapillary computed geometry is greater than 20 meters. We can also choose to plot both the `geometry` markers and the `computed_geometry` markers using the `additional_geometries` parameter."
   ]
  },
  {
   "cell_type": "code",
   "execution_count": null,
   "metadata": {},
   "outputs": [],
   "source": [
    "# set parameters and query data\n",
    "bbox = [141.028,42.292,141.121,42.444]\n",
    "data = imgs.select_within_bbox(bbox)\n",
    "\n",
    "subset = data.loc[data.to_crs(3857).distance(data['computed_geometry'].to_crs(3857)) > 20]\n",
    "print(f\"The number of rows returned is: {len(subset.index)}\")\n",
    "\n",
    "# it is necessary to reset the index when passing on a subset of a geopandas dataframe to the Visualize class\n",
    "subset.reset_index(drop=True, inplace=True)\n",
    "\n",
    "# visualize\n",
    "vis = Visualize(subset)\n",
    "vis.map(use_signed_urls=True, additional_geometries=['computed_geometry'])"
   ]
  },
  {
   "cell_type": "markdown",
   "metadata": {},
   "source": [
    "Finally, it is also possible to pass on different map tiles to the `map` function. The `map` function is just a wrapper for `Folium.map()` ans so all tiles that are available for `Folium` can be called here. For example:"
   ]
  },
  {
   "cell_type": "code",
   "execution_count": null,
   "metadata": {},
   "outputs": [],
   "source": [
    "vis.map(use_signed_urls=True, additional_geometries=['computed_geometry'], tiles ='Stamen Toner', zoom_start=16)"
   ]
  },
  {
   "cell_type": "markdown",
   "metadata": {},
   "source": [
    "## Download Images\n",
    "\n",
    "Finally, it is also possible to download images from GCP storage to your local device. You can use the utility module to download either a single image or use it to create a list of images for download that you can then use `gutils` to download. If you need to download more than 10 images, it is highly advised to use `gutils`.\n",
    "\n",
    "If we want to download imagery within a particular bounding box and time range, first create the dataframe, then download the data. Using the same `bbox` that is defined above, we can define the time range then initiate the `DataUtils` class:"
   ]
  },
  {
   "cell_type": "code",
   "execution_count": null,
   "metadata": {},
   "outputs": [],
   "source": [
    "start_date = '2019-10-22'\n",
    "end_date = '2019-10-24'\n",
    "\n",
    "data_for_download = imgs.select_within_bbox_dates(bbox, start_date, end_date)\n",
    "\n",
    "dutil = DataUtils(data_for_download)\n",
    "\n",
    "print(f'There are {len(data_for_download.index)} images that can be downloaded')"
   ]
  },
  {
   "cell_type": "markdown",
   "metadata": {},
   "source": [
    "To download all 5081 images you will first need to create a text file with all images to download:"
   ]
  },
  {
   "cell_type": "code",
   "execution_count": null,
   "metadata": {},
   "outputs": [],
   "source": [
    "dutil.write_image_list('./foo.txt')"
   ]
  },
  {
   "cell_type": "markdown",
   "metadata": {},
   "source": [
    "Then, you can download the images with `gsutil` like so:\n",
    "\n",
    "```\n",
    "cat foo.txt | gsutil -m cp -I ./foo\n",
    "```"
   ]
  },
  {
   "cell_type": "markdown",
   "metadata": {},
   "source": [
    "You can also download a single image using the API. For this, you will need to know the image id of the image you want to download. Note that it will only look in the data that you used to initiate the utility functions. "
   ]
  },
  {
   "cell_type": "code",
   "execution_count": null,
   "metadata": {},
   "outputs": [],
   "source": [
    "dutil.download_gcp_image(804730633805031, './foo')"
   ]
  }
 ],
 "metadata": {
  "kernelspec": {
   "display_name": "Python 3 (ipykernel)",
   "language": "python",
   "name": "python3"
  },
  "language_info": {
   "codemirror_mode": {
    "name": "ipython",
    "version": 3
   },
   "file_extension": ".py",
   "mimetype": "text/x-python",
   "name": "python",
   "nbconvert_exporter": "python",
   "pygments_lexer": "ipython3",
   "version": "3.10.10"
  },
  "vscode": {
   "interpreter": {
    "hash": "19f3b9a8a5050f2eda7aace2ce6395369c37e6e602c592fdb4ce7dc2fab6c76e"
   }
  }
 },
 "nbformat": 4,
 "nbformat_minor": 1
}
